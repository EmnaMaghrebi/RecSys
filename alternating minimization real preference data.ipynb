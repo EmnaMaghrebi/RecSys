{
 "cells": [
  {
   "attachments": {},
   "cell_type": "markdown",
   "id": "1558321d",
   "metadata": {},
   "source": [
    "# Alternating Minimization on Real Preference Data"
   ]
  },
  {
   "cell_type": "code",
   "execution_count": 1,
   "id": "efed0b79",
   "metadata": {},
   "outputs": [],
   "source": [
    "import matplotlib.pyplot as plt\n",
    "import numpy as np\n",
    "import pandas as pd\n",
    "from scipy.linalg import orthogonal_procrustes\n",
    "from helpers.helpers_similarity import *\n",
    "from helpers.helpers_optimization import *\n",
    "from scipy.optimize import minimize"
   ]
  },
  {
   "cell_type": "code",
   "execution_count": 2,
   "id": "d457406b",
   "metadata": {},
   "outputs": [],
   "source": [
    "# Initialize the parameters for the normal distributions\n",
    "mu = 0\n",
    "sigma_u = 1\n",
    "sigma_v = 1\n",
    "sigma = 0\n",
    "\n",
    "# Set the regularization factor\n",
    "lambda_reg = 0.1\n",
    "\n",
    "# Create a dictionary to store the parameters\n",
    "parameters = {}\n"
   ]
  },
  {
   "cell_type": "code",
   "execution_count": 5,
   "id": "f0234d5b",
   "metadata": {},
   "outputs": [
    {
     "name": "stdout",
     "output_type": "stream",
     "text": [
      "Shape of the tensor Y:  (50, 73, 73)\n"
     ]
    }
   ],
   "source": [
    "Y = np.load('data/tensor_Y.npy', allow_pickle=True)\n",
    "n_users, n_items, _ = Y.shape\n",
    "print(\"Shape of the tensor Y: \", Y.shape)"
   ]
  },
  {
   "cell_type": "code",
   "execution_count": 6,
   "id": "780b0b19",
   "metadata": {},
   "outputs": [],
   "source": [
    "def generate_P_BT_Luce(X, n_users, alpha=1.0): \n",
    "    # Compute the difference matrix\n",
    "    diff = alpha*np.subtract.outer(X, X) \n",
    "    X_diff= np.array([diff[i, :, i, :] for i in range(n_users)])\n",
    "\n",
    "    # Compute the probability matrix\n",
    "    P = np.exp(X_diff) / (1 + np.exp(X_diff))\n",
    "    \n",
    "    return P, X_diff"
   ]
  },
  {
   "cell_type": "code",
   "execution_count": 7,
   "id": "0a59a7c3",
   "metadata": {},
   "outputs": [],
   "source": [
    "def pairwise_comparisons(P):\n",
    "    # Generate binomial random numbers based on the probabilities in P\n",
    "    Y = np.random.binomial(n=1, p=P, size=P.shape) \n",
    "    Y = np.where(Y == 0, -1, Y)\n",
    "    \n",
    "    return Y"
   ]
  },
  {
   "cell_type": "code",
   "execution_count": 8,
   "id": "694754ae",
   "metadata": {},
   "outputs": [],
   "source": [
    "def hinge_loss(x):\n",
    "    return np.maximum(0, 1 - x)**2 "
   ]
  },
  {
   "cell_type": "code",
   "execution_count": 9,
   "id": "c89b3eec",
   "metadata": {},
   "outputs": [],
   "source": [
    "def sum_loss(U, V, Y):\n",
    "    n, m, _ = Y.shape\n",
    "    loss = 0\n",
    "    for j in range(m):\n",
    "        v = V[:,j] - V.T\n",
    "        x = np.dot(v, U)\n",
    "        loss += np.sum(hinge_loss(Y[:,j]*x.T)[:,:j])\n",
    "    return loss"
   ]
  },
  {
   "cell_type": "code",
   "execution_count": 10,
   "id": "8091a573",
   "metadata": {},
   "outputs": [],
   "source": [
    "def loss_U(U, Y, V, lambda_reg, d_dim, n_users):\n",
    "    U = U.reshape((d_dim, n_users))\n",
    "    loss = sum_loss(U, V, Y)\n",
    "    reg = lambda_reg * np.linalg.norm(U, 'fro') ** 2 \n",
    "    \n",
    "    return loss + reg"
   ]
  },
  {
   "cell_type": "code",
   "execution_count": 11,
   "id": "84b1ea25",
   "metadata": {},
   "outputs": [],
   "source": [
    "def loss_V(V, Y, U, lambda_reg, d_dim, n_movies):\n",
    "    V = V.reshape((d_dim, n_movies))\n",
    "    loss = sum_loss(U, V, Y)\n",
    "    reg = lambda_reg * np.linalg.norm(V, 'fro') ** 2\n",
    "    \n",
    "    return loss + reg"
   ]
  },
  {
   "cell_type": "code",
   "execution_count": 12,
   "id": "f1fc012c",
   "metadata": {},
   "outputs": [],
   "source": [
    "def initialize_parameters(Y, sigma_u, sigma_v, mu, d_dims, n_users, n_movies, lambda_reg):  \n",
    "\n",
    "    U_init = np.random.normal(mu, sigma_u, (d_dims, n_users))\n",
    "    V_init = np.random.normal(mu, sigma_v, (d_dims, n_movies))   \n",
    "   \n",
    "    parameters['Y'] = Y\n",
    "    parameters['U_result'] = U_init\n",
    "    parameters['V_result'] = V_init\n",
    "    parameters['lambda_reg'] = lambda_reg"
   ]
  },
  {
   "cell_type": "code",
   "execution_count": 13,
   "id": "69317c29",
   "metadata": {},
   "outputs": [],
   "source": [
    "def update_parameters(d_dim, n_users, n_movies):\n",
    "    U_prev = parameters['U_result']\n",
    "    V_prev = parameters['V_result']\n",
    "    Y = parameters['Y']\n",
    "\n",
    "    U_prev = U_prev.reshape((d_dim, n_users))\n",
    "    V_prev = V_prev.reshape((d_dim, n_movies))\n",
    "\n",
    "    U_result = minimize(loss_U, U_prev, args=(Y, V_prev, lambda_reg, d_dim, n_users), method='L-BFGS-B')\n",
    "    V_result = minimize(loss_V, V_prev, args=(Y, U_prev, lambda_reg, d_dim, n_movies), method='L-BFGS-B')\n",
    "    \n",
    "    U_result = U_result.x.reshape((d_dim, n_users))\n",
    "    V_result = V_result.x.reshape((d_dim, n_movies))\n",
    "    \n",
    "    parameters['U_result'] = U_result\n",
    "    parameters['V_result'] = V_result"
   ]
  },
  {
   "cell_type": "code",
   "execution_count": 14,
   "id": "44f4606a",
   "metadata": {},
   "outputs": [],
   "source": [
    "def loss(d_dim, n_users, n_movies):\n",
    "    U_result = parameters['U_result']\n",
    "    V_result = parameters['V_result']\n",
    "    Y = parameters['Y']\n",
    "    lambda_reg = parameters['lambda_reg']\n",
    "\n",
    "    loss_u = loss_U(U_result, Y, V_result, lambda_reg, d_dim, n_users) /(d_dim*n_users) \n",
    "    loss_v = loss_V(V_result, Y, U_result, lambda_reg, d_dim, n_movies) /(d_dim*n_movies)\n",
    "    \n",
    "    return loss_u, loss_v\n"
   ]
  },
  {
   "cell_type": "code",
   "execution_count": 15,
   "id": "a54e0b88",
   "metadata": {},
   "outputs": [],
   "source": [
    "def orth_procrustes(X, Y, len_X):\n",
    "    \n",
    "    R, _ = orthogonal_procrustes(X, Y)\n",
    "    rss = np.linalg.norm(X @ R - Y, 'fro')/np.sqrt(len_X)\n",
    "    \n",
    "    return rss"
   ]
  },
  {
   "cell_type": "code",
   "execution_count": 16,
   "id": "bbb1bf23",
   "metadata": {},
   "outputs": [],
   "source": [
    "def compare_results(n_users):\n",
    "    # Extract Y, U_result, V_result from parameters\n",
    "    Y = parameters['Y']\n",
    "    U_result = parameters['U_result']\n",
    "    V_result = parameters['V_result']\n",
    "    \n",
    "    # Compute product of U_result and V_result to get predicted preferences\n",
    "    X_result = np.matmul(U_result.T, V_result)\n",
    "\n",
    "    total_score = 0\n",
    "\n",
    "    # Iterate over each user\n",
    "    for u in range(n_users):\n",
    "        # Iterate over all pairs of items for the current user\n",
    "        for i in range(Y.shape[1]):\n",
    "            for j in range(Y.shape[2]):\n",
    "                # If user u prefers item i over item j\n",
    "                if Y[u, i, j] > 0:\n",
    "                    # Add 1 to total_score if the predicted preference matches the actual preference\n",
    "                    if X_result[u, i] > X_result[u, j]:\n",
    "                        total_score += 1\n",
    "                        \n",
    "    average_score = total_score / n_users\n",
    "\n",
    "    return average_score\n"
   ]
  },
  {
   "cell_type": "code",
   "execution_count": 17,
   "id": "68e46db3",
   "metadata": {},
   "outputs": [],
   "source": [
    "def alt_minimization_U_V(Y, d_dims, n_users, n_movies):\n",
    "    \n",
    "    initialize_parameters(Y, sigma_u, sigma_v, mu, d_dims, n_users, n_movies, lambda_reg) \n",
    "    loss_u_vals = []\n",
    "    loss_v_vals = []\n",
    "\n",
    "    for i in range(10): \n",
    "        if len(loss_u_vals) > 2:\n",
    "            if np.abs(loss_u_vals[-1] - loss_u_vals[-2]) < 0.1:\n",
    "                break\n",
    "        update_parameters(d_dims, n_users, n_movies)\n",
    "\n",
    "        loss_u, loss_v = loss(d_dims, n_users, n_movies)\n",
    "        loss_u_vals.append(loss_u)\n",
    "        loss_v_vals.append(loss_v) \n",
    "        if i % 5 == 0:\n",
    "            print(f'loss_u: {loss_u}, loss_v: {loss_v}')      \n",
    "                \n",
    "    average_score = compare_results(n_users)\n",
    "    \n",
    "    return average_score, loss_u_vals, loss_v_vals\n"
   ]
  },
  {
   "cell_type": "code",
   "execution_count": 27,
   "id": "ebd23faa",
   "metadata": {},
   "outputs": [],
   "source": [
    "def plot_results(data):\n",
    "\n",
    "    df = pd.DataFrame(data, columns = ['D', 'avg_score']) \n",
    "\n",
    "    # plot D as a function of the Average Prediction Score\n",
    "    plt.plot(df['D'], df['avg_score'], marker='o')\n",
    "    plt.xlabel('D')\n",
    "    plt.ylabel('Average Prediction Score')\n",
    "    plt.title('Variation of the Average Prediction Score for varying D')\n",
    "\n",
    "    plt.show()"
   ]
  },
  {
   "cell_type": "code",
   "execution_count": 19,
   "id": "93712f9f",
   "metadata": {},
   "outputs": [
    {
     "name": "stderr",
     "output_type": "stream",
     "text": [
      "/var/folders/y6/l6vpn95x35g0swp7xwnqndtc0000gn/T/ipykernel_40453/1314612138.py:9: DeprecationWarning: Use of `minimize` with `x0.ndim != 1` is deprecated. Currently, singleton dimensions will be removed from `x0`, but an error will be raised in SciPy 1.11.0.\n",
      "  U_result = minimize(loss_U, U_prev, args=(Y, V_prev, lambda_reg, d_dim, n_users), method='L-BFGS-B')\n",
      "/var/folders/y6/l6vpn95x35g0swp7xwnqndtc0000gn/T/ipykernel_40453/1314612138.py:10: DeprecationWarning: Use of `minimize` with `x0.ndim != 1` is deprecated. Currently, singleton dimensions will be removed from `x0`, but an error will be raised in SciPy 1.11.0.\n",
      "  V_result = minimize(loss_V, V_prev, args=(Y, U_prev, lambda_reg, d_dim, n_movies), method='L-BFGS-B')\n"
     ]
    },
    {
     "name": "stdout",
     "output_type": "stream",
     "text": [
      "loss_u: 526.5015573701946, loss_v: 360.6225533257063\n",
      "loss_u: 262.9759371925044, loss_v: 180.13596957778623\n",
      "loss_u: 131.46894224572293, loss_v: 90.0758246670942\n",
      "loss_u: 87.55420517996973, loss_v: 60.03496386046339\n",
      "loss_u: 52.592970579043765, loss_v: 36.06355121909303\n"
     ]
    }
   ],
   "source": [
    "data = []\n",
    "d_dims = [5, 10, 20, 30, 50]\n",
    "\n",
    "for i in range(len(d_dims)):\n",
    "\n",
    "    avg_score, loss_u_vals, loss_v_vals = alt_minimization_U_V(Y, d_dims[i], n_users, n_items)\n",
    "    row= [d_dims[i], avg_score]\n",
    "    data.append(row)\n"
   ]
  },
  {
   "cell_type": "code",
   "execution_count": 21,
   "id": "6ff32722",
   "metadata": {},
   "outputs": [
    {
     "data": {
      "text/plain": [
       "[[5, 1.18], [10, 1.3], [20, 1.66], [30, 1.84], [50, 1.92]]"
      ]
     },
     "execution_count": 21,
     "metadata": {},
     "output_type": "execute_result"
    }
   ],
   "source": [
    "data"
   ]
  },
  {
   "cell_type": "code",
   "execution_count": 28,
   "id": "fe37c100",
   "metadata": {},
   "outputs": [
    {
     "data": {
      "image/png": "[encoded data removed]",
      "text/plain": [
       "<Figure size 640x480 with 1 Axes>"
      ]
     },
     "metadata": {},
     "output_type": "display_data"
    }
   ],
   "source": [
    "plot_results(data)"
   ]
  },
  {
   "cell_type": "code",
   "execution_count": 49,
   "id": "2b7df7fa",
   "metadata": {},
   "outputs": [
    {
     "data": {
      "text/plain": [
       "<Figure size 640x480 with 0 Axes>"
      ]
     },
     "metadata": {},
     "output_type": "display_data"
    }
   ],
   "source": [
    "plt.savefig('results_realpref.pdf')"
   ]
  }
 ],
 "metadata": {
  "kernelspec": {
   "display_name": "adaexam",
   "language": "python",
   "name": "adaexam"
  },
  "language_info": {
   "codemirror_mode": {
    "name": "ipython",
    "version": 3
   },
   "file_extension": ".py",
   "mimetype": "text/x-python",
   "name": "python",
   "nbconvert_exporter": "python",
   "pygments_lexer": "ipython3",
   "version": "3.9.13"
  }
 },
 "nbformat": 4,
 "nbformat_minor": 5
}
