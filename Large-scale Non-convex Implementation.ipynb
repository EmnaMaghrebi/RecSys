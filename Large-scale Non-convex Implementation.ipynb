{
 "cells": [
  {
   "cell_type": "code",
   "execution_count": 1,
   "id": "efed0b79",
   "metadata": {},
   "outputs": [],
   "source": [
    "import matplotlib.pyplot as plt\n",
    "import numpy as np\n",
    "import pandas as pd\n",
    "from scipy.linalg import orthogonal_procrustes\n",
    "from sklearn.metrics import mean_squared_error\n",
    "from helpers_pmf import *\n",
    "from helpers_similarity import *\n",
    "from helpers_optimization import *\n",
    "from scipy.optimize import minimize"
   ]
  },
  {
   "cell_type": "code",
   "execution_count": 88,
   "id": "d457406b",
   "metadata": {},
   "outputs": [],
   "source": [
    "mu = 0\n",
    "sigma_u = 1\n",
    "sigma_v = 1\n",
    "sigma = 0\n",
    "d_dim = 2\n",
    "n_users = 20\n",
    "n_movies = 40"
   ]
  },
  {
   "cell_type": "markdown",
   "id": "e8bac337",
   "metadata": {},
   "source": [
    "Calculate the difference between each pair of elements in the 2D array X. Then, generate the probability matrix by applying the logistic function $$P(x) = \\frac{e^{x}}{1 + e^{x}}$$ element-wise to the difference matrix, where x is the difference between two elements :"
   ]
  },
  {
   "cell_type": "code",
   "execution_count": 89,
   "id": "fb2ccba8",
   "metadata": {},
   "outputs": [],
   "source": [
    "#change prod_matrix to P (same notation)\n",
    "#change diff to X (like in the equation)\n",
    "def generate_P_BT_Luce(X): \n",
    "    \n",
    "    diff = np.subtract.outer(X, X) \n",
    "    diff_3D= np.array([diff[i, :, i, :] for i in range(n_users)])\n",
    "    prob_matrix = np.exp(diff_3D) / (1 + np.exp(diff_3D))\n",
    "    \n",
    "    return prob_matrix, diff_3D\n"
   ]
  },
  {
   "cell_type": "markdown",
   "id": "2b3a3a99",
   "metadata": {},
   "source": [
    "Generate pairwise comparison data $Y_{ijk} = \\pm 1$ for each user and item. The output Y is a $3D$ tensor with the shape $(n\\_users, n\\_items, n\\_items)$. Each entry $Y[i,j,k]$ corresponds to whether user i prefers item j over item k. For example, line 0 of Y corresponds to the pairwise comparisons of user 0 with all items: $Y[0,0,:]$ represents whether user 0 prefers item 0 over all other items $(item\\_0, item\\_1, item\\_2, etc..)$, and so on."
   ]
  },
  {
   "cell_type": "code",
   "execution_count": 90,
   "id": "c08d8a4c",
   "metadata": {},
   "outputs": [],
   "source": [
    "def pairwise_comparisons(prob_matrix):\n",
    "    \n",
    "    Y = np.random.binomial(n=1, p=prob_matrix, size=prob_matrix.shape) \n",
    "    Y = np.where(Y == 0, -1, Y)\n",
    "    \n",
    "    return Y"
   ]
  },
  {
   "cell_type": "code",
   "execution_count": 91,
   "id": "b9c13a38",
   "metadata": {},
   "outputs": [],
   "source": [
    "U, V, X = generate_U_V_R(mu, sigma_u, sigma_v, sigma, d_dim, n_users, n_movies)"
   ]
  },
  {
   "cell_type": "code",
   "execution_count": 92,
   "id": "c230d5b7",
   "metadata": {},
   "outputs": [],
   "source": [
    "prob_matrix, diff = generate_P_BT_Luce(X)\n",
    "Y = pairwise_comparisons(prob_matrix)\n",
    "\n",
    "#print('X :\\n ',X)\n",
    "#print('Y :\\n ',Y)"
   ]
  },
  {
   "cell_type": "code",
   "execution_count": 93,
   "id": "d4849139",
   "metadata": {},
   "outputs": [],
   "source": [
    "def hinge_loss(x):\n",
    "    \n",
    "    return np.maximum(0, 1 - x)**2 "
   ]
  },
  {
   "cell_type": "code",
   "execution_count": 94,
   "id": "3c801837",
   "metadata": {},
   "outputs": [],
   "source": [
    "def frob(X, Y, N):\n",
    "    \n",
    "    return np.linalg.norm(X - Y, 'fro')/np.sqrt(N)"
   ]
  },
  {
   "cell_type": "code",
   "execution_count": 95,
   "id": "459fe01c",
   "metadata": {},
   "outputs": [],
   "source": [
    "def loss(U, Y, V, lambda_reg):\n",
    "    U=U.reshape((d_dim, n_users))\n",
    "    n, m, _ = Y.shape\n",
    "    loss = 0\n",
    "    for i in range(n):\n",
    "        for j in range(m):\n",
    "            for k in range(j):\n",
    "                if Y[i, j, k] != 0:\n",
    "                    v = V[:,j] - V[:,k]\n",
    "                    x = np.dot(U[:,i], v)\n",
    "                    loss += hinge_loss(Y[i, j, k] * x)\n",
    "    reg = lambda_reg * np.linalg.norm(U, 'fro')#np.sum(W**2)\n",
    "    return loss + reg"
   ]
  },
  {
   "cell_type": "code",
   "execution_count": null,
   "id": "9049a59b",
   "metadata": {},
   "outputs": [],
   "source": [
    "lambda_reg = 0.1\n",
    "U0 = np.random.normal(mu, sigma_u, d_dim*n_users)#initialize\n",
    "res = minimize(loss, U0, args=(Y, V, lambda_reg), method='L-BFGS-B') #method='L-BFGS-B' ? # read abt it and see how it can improve result, local minima\n",
    "U_res = res.x.reshape(U.shape)\n",
    "print(U, U_res)\n",
    "print(frob(U, U_res, U.shape[1]))"
   ]
  },
  {
   "cell_type": "code",
   "execution_count": null,
   "id": "1a7c8c8b",
   "metadata": {},
   "outputs": [],
   "source": []
  },
  {
   "cell_type": "code",
   "execution_count": null,
   "id": "c5f9dfff",
   "metadata": {},
   "outputs": [],
   "source": []
  }
 ],
 "metadata": {
  "kernelspec": {
   "display_name": "Python 3 (ipykernel)",
   "language": "python",
   "name": "python3"
  },
  "language_info": {
   "codemirror_mode": {
    "name": "ipython",
    "version": 3
   },
   "file_extension": ".py",
   "mimetype": "text/x-python",
   "name": "python",
   "nbconvert_exporter": "python",
   "pygments_lexer": "ipython3",
   "version": "3.9.13"
  }
 },
 "nbformat": 4,
 "nbformat_minor": 5
}
