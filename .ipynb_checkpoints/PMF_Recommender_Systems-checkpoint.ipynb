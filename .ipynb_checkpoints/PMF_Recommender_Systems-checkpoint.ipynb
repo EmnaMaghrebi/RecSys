{
 "cells": [
  {
   "cell_type": "markdown",
   "metadata": {
    "colab_type": "text",
    "id": "sE0imG0HLDgf"
   },
   "source": [
    "# PMF for Recommender Systems\n",
    "\n",
    "This is an implementation for Probabilistic Matrix Factorisation. We have made use of a subset of the IMDB dataset for training purposes."
   ]
  },
  {
   "cell_type": "code",
   "execution_count": 1,
   "metadata": {
    "colab": {},
    "colab_type": "code",
    "id": "8-65Kyq2Kv8R"
   },
   "outputs": [],
   "source": [
    "import matplotlib.pyplot as plt\n",
    "import numpy as np\n",
    "import pandas as pd\n",
    "from scipy.linalg import orthogonal_procrustes\n",
    "\n",
    "from sklearn.metrics import mean_squared_error"
   ]
  },
  {
   "cell_type": "code",
   "execution_count": 2,
   "metadata": {},
   "outputs": [],
   "source": [
    "mu = 0.0 \n",
    "sigma_u = 1.0\n",
    "sigma_v = 1.0\n",
    "sigma = 0.2 #[0, 0.2, 0.4, 0.6, 0.8, 1] \n",
    "parameters = {}\n",
    "\n",
    "d_dims = 2 \n",
    "n_users = 10 \n",
    "n_movies = 100 \n",
    "alpha = 1\n",
    "alpha_vals = [1, 3, 10, 30, 100] \n",
    "M_vals = [n_movies*alpha for alpha in alpha_vals]\n",
    "k_best = 10 \n",
    "nb_iter = 1000 "
   ]
  },
  {
   "cell_type": "markdown",
   "metadata": {
    "colab_type": "text",
    "id": "2C8nnfseBTOM"
   },
   "source": [
    "We will now initialise our parameters. First the $V$ matrix can be initialised randomly using the following distribution:\n",
    "\n",
    "\\begin{equation}\n",
    "\\large\n",
    "V \\sim \\mathcal N\\left(0, \\frac {1} {\\lambda_V}\\right)\n",
    "\\end{equation}\n",
    "\n",
    "Let's remember that:\n",
    "\n",
    "\\begin{equation}\n",
    "\\large\n",
    "U \\in \\mathbb R^{D\\times N}, \\qquad V \\in \\mathbb R^{D\\times M}\n",
    "\\end{equation}\n",
    "\n",
    "Where $N$ is __n_users__, $M$ is __n_movies__ and $D$ is __n_dims__."
   ]
  },
  {
   "cell_type": "code",
   "execution_count": 3,
   "metadata": {},
   "outputs": [],
   "source": [
    "def condition(x):\n",
    "    if x<=-2:\n",
    "        return 0\n",
    "    elif x>-2 and x<-1:\n",
    "        return 1\n",
    "    elif x>=-2 and x<=-0.5:\n",
    "        return 2\n",
    "    elif x>-0.5 and x<=0.5:\n",
    "        return 3\n",
    "    elif x>0.5 and x<=2:\n",
    "        return 4\n",
    "    else:\n",
    "        return 5"
   ]
  },
  {
   "cell_type": "code",
   "execution_count": 4,
   "metadata": {
    "colab": {},
    "colab_type": "code",
    "id": "HaM_fnR0Nd_i"
   },
   "outputs": [],
   "source": [
    "def initialize_parameters(lambda_U, lambda_V, mu, sigma, alpha ):    \n",
    "    U, V, R = generate_U_V_R(mu, lambda_U, lambda_V, sigma, alpha)    \n",
    "    U_init = np.zeros((d_dims, n_users), dtype=np.float64)\n",
    "    #U_init = np.random.normal(mu, 1.0 / lambda_U, (d_dims, n_users))\n",
    "    V_init = np.random.normal(mu, 1.0 / lambda_V, (d_dims, n_movies*alpha))\n",
    "    #scale R values within range 0-5\n",
    "    applyall = np.vectorize(condition)\n",
    "    R_res = applyall(R)\n",
    "    \n",
    "    parameters['U'] = U\n",
    "    parameters['V'] = V\n",
    "    parameters['R'] = R_res\n",
    "    parameters['U_result'] = U_init\n",
    "    parameters['V_result'] = V_init\n",
    "    parameters['lambda_U'] = lambda_U\n",
    "    parameters['lambda_V'] = lambda_V"
   ]
  },
  {
   "cell_type": "code",
   "execution_count": 5,
   "metadata": {},
   "outputs": [],
   "source": [
    "#generate matrices U, V and R from Gauss. distributions\n",
    "def generate_U_V_R(mu, lambda_U, lambda_V, sigma, alpha):\n",
    "    U = np.random.normal(mu, 1.0 / lambda_U, size=(d_dims,n_users))\n",
    "    V = np.random.normal(mu, 1.0 / lambda_V, size=(d_dims,n_movies*alpha))\n",
    "    noise = np.random.normal(mu, sigma, size=(n_users,n_movies*alpha)) \n",
    "    R = np.matmul(U.T,V) +noise\n",
    "    return U, V, R"
   ]
  },
  {
   "cell_type": "markdown",
   "metadata": {
    "colab_type": "text",
    "id": "ntiPL_EnCLe-"
   },
   "source": [
    "Let's now implement the function that updates U and V. The elements of both matrices can be updated using the following expressions:\n",
    "\n",
    "\\begin{equation}\n",
    "\\large\n",
    "U_i=\\left[\\left(V_jV_j^T\\right)_{j\\in\\Omega_{U_i}}+\\lambda_UI\\right]^{-1}\\left(R_{ij}V_j^T\\right)_{j\\in\\Omega_{U_i}}\n",
    "\\end{equation}\n",
    "\n",
    "\\begin{equation}\n",
    "\\large\n",
    "V_j=\\left[\\left(U_iU_i^T\\right)_{i\\in\\Omega_{V_j}}+\\lambda_VI\\right]^{-1}\\left(R_{ij}U_i^T\\right)_{i\\in\\Omega_{V_j}}\n",
    "\\end{equation}"
   ]
  },
  {
   "cell_type": "code",
   "execution_count": 6,
   "metadata": {
    "colab": {},
    "colab_type": "code",
    "id": "DjKB4TzFkoJx"
   },
   "outputs": [],
   "source": [
    "def update_parameters():\n",
    "    U = parameters['U_result']\n",
    "    V = parameters['V_result']\n",
    "    R = parameters['R']\n",
    "    lambda_U = parameters['lambda_U']\n",
    "    lambda_V = parameters['lambda_V']\n",
    "\n",
    "    for i in range(n_users):\n",
    "        V_j = V[:, R[i, :] > 0]\n",
    "        U[:, i] = np.dot(np.linalg.inv(np.dot(V_j, V_j.T) + lambda_U * np.identity(d_dims)), np.dot(R[i, R[i, :] > 0], V_j.T))\n",
    "        \n",
    "    for j in range(n_movies):\n",
    "        U_i = U[:, R[:, j] > 0]\n",
    "        V[:, j] = np.dot(np.linalg.inv(np.dot(U_i, U_i.T) + lambda_V * np.identity(d_dims)), np.dot(R[R[:, j] > 0, j], U_i.T))\n",
    " \n",
    "    parameters['U_result'] = U\n",
    "    parameters['V_result'] = V\n",
    "    "
   ]
  },
  {
   "cell_type": "code",
   "execution_count": 7,
   "metadata": {},
   "outputs": [],
   "source": [
    "#add code for evaluationg U, U_result and V, V_result"
   ]
  },
  {
   "cell_type": "code",
   "execution_count": 8,
   "metadata": {},
   "outputs": [],
   "source": [
    "#frobenius norm \n",
    "def frob(X, Y, N):\n",
    "    return np.linalg.norm(X - Y, 'fro')/np.sqrt(N)"
   ]
  },
  {
   "cell_type": "code",
   "execution_count": 9,
   "metadata": {},
   "outputs": [],
   "source": [
    "def orth_procrustes(X, Y):\n",
    "    R, scale = orthogonal_procrustes(X, Y)\n",
    "    rss = np.linalg.norm(X @ R - Y, 'fro')\n",
    "    return rss"
   ]
  },
  {
   "cell_type": "code",
   "execution_count": 10,
   "metadata": {},
   "outputs": [],
   "source": [
    "def compare_results():\n",
    "    U = parameters['U']\n",
    "    V = parameters['V']\n",
    "    U_result = parameters['U_result']\n",
    "    V_result = parameters['V_result']    \n",
    "    diff_norm_U = orth_procrustes(U, U_result)    #frob(U, U_result, n_users)\n",
    "    diff_norm_V = orth_procrustes(V, V_result)   #frob(V, V_result, n_movies*alpha)#M_cols\n",
    "    return diff_norm_U, diff_norm_V\n"
   ]
  },
  {
   "cell_type": "markdown",
   "metadata": {
    "colab_type": "text",
    "id": "hQ5in2inJApx"
   },
   "source": [
    "Now let's implement the Log-a posteriori:\n",
    "\n",
    "\\begin{equation}\n",
    "\\large\n",
    "L=-\\frac 1 2 \\left(\\sum_{i=1}^N\\sum_{j=1}^M(R_{ij}-U_i^TV_j)_{(i,j) \\in \\Omega_{R_{ij}}}^2+\\lambda_U\\sum_{i=1}^N\\|U_i\\|_{Fro}^2+\\lambda_V\\sum_{j=1}^M\\|V_j\\|_{Fro}^2\\right)\n",
    "\\end{equation}"
   ]
  },
  {
   "cell_type": "code",
   "execution_count": 11,
   "metadata": {
    "colab": {},
    "colab_type": "code",
    "id": "5PUgHUp2MeZI"
   },
   "outputs": [],
   "source": [
    "def log_a_posteriori():\n",
    "    lambda_U = parameters['lambda_U']\n",
    "    lambda_V = parameters['lambda_V']\n",
    "    U_result = parameters['U_result']\n",
    "    V_result = parameters['V_result']\n",
    "    R = parameters['R']\n",
    "    UV = np.dot(U_result.T, V_result)\n",
    "    R_UV = (R[R > 0] - UV[R > 0])\n",
    "    \n",
    "    return -0.5 * (np.sum(np.dot(R_UV, R_UV.T)) + lambda_U * np.sum(np.dot(U_result, U_result.T)) + \\\n",
    "                   lambda_V * np.sum(np.dot(V_result, V_result.T)))\n"
   ]
  },
  {
   "cell_type": "markdown",
   "metadata": {
    "colab_type": "text",
    "id": "68fmuPQrPRnU"
   },
   "source": [
    "The __predict__ function allows us to predict the rating value given the __user_id__ and the __movie_id__ parameters. The value has been scaled within the range 0-5"
   ]
  },
  {
   "cell_type": "code",
   "execution_count": 12,
   "metadata": {
    "colab": {},
    "colab_type": "code",
    "id": "neTN8ejbQ5dg"
   },
   "outputs": [],
   "source": [
    "def predict(user_id, movie_id):\n",
    "    U = parameters['U_result']\n",
    "    V = parameters['V_result']\n",
    "    \n",
    "    r_ij = U[:, user_to_row[user_id]].T.reshape(1, -1) @ V[:, movie_to_column[movie_id]].reshape(-1, 1)\n",
    "\n",
    "    max_rating = parameters['max_rating']\n",
    "    min_rating = parameters['min_rating']\n",
    "\n",
    "    return 0 if max_rating == min_rating else ((r_ij[0][0] - min_rating) / (max_rating - min_rating)) * 5.0"
   ]
  },
  {
   "cell_type": "markdown",
   "metadata": {
    "colab_type": "text",
    "id": "7Rt2ol1j7OJ0"
   },
   "source": [
    "The __evaluate__ function will calculate the __RMSE__ of the model given a dataset (train or test)."
   ]
  },
  {
   "cell_type": "code",
   "execution_count": 13,
   "metadata": {
    "colab": {},
    "colab_type": "code",
    "id": "jnNGbogWh6OR"
   },
   "outputs": [],
   "source": [
    "#def evaluate(dataset):\n",
    "#    ground_truths = []\n",
    "#    predictions = []\n",
    "#    for index, row in dataset.iterrows():\n",
    "#       ground_truths.append(row.loc['rating'])\n",
    "#       predictions.append(predict(row.loc['userId'], row.loc['movieId']))    \n",
    "#   return mean_squared_error(ground_truths, predictions, squared=False)"
   ]
  },
  {
   "cell_type": "markdown",
   "metadata": {
    "colab_type": "text",
    "id": "6R1ePeME7qSW"
   },
   "source": [
    "For the purposes of scaling, we need the maximum and minimum rating values."
   ]
  },
  {
   "cell_type": "code",
   "execution_count": 14,
   "metadata": {
    "colab": {},
    "colab_type": "code",
    "id": "YNIlELvx0M0W"
   },
   "outputs": [],
   "source": [
    "def update_max_min_ratings():\n",
    "    U = parameters['U_result']\n",
    "    V = parameters['V_result']\n",
    "\n",
    "    R = U.T @ V\n",
    "    min_rating = np.min(R)\n",
    "    max_rating = np.max(R)\n",
    "\n",
    "    parameters['min_rating'] = min_rating\n",
    "    parameters['max_rating'] = max_rating"
   ]
  },
  {
   "cell_type": "markdown",
   "metadata": {
    "colab_type": "text",
    "id": "AZGq6J9pDl5O"
   },
   "source": [
    "The __train__ function implements the code necessary for training the model as well as recording the __RMSE__ values on the training and testing sets."
   ]
  },
  {
   "cell_type": "code",
   "execution_count": 15,
   "metadata": {
    "colab": {},
    "colab_type": "code",
    "id": "VYwTD_nBNO5F"
   },
   "outputs": [],
   "source": [
    "def train(n_epochs):\n",
    "    initialize_parameters(1.0 / sigma_u, 1.0 / sigma_v, mu, sigma, alpha)\n",
    "    log_aps = []\n",
    "    rmse_train = []\n",
    "    rmse_test = []\n",
    "\n",
    "    update_max_min_ratings()\n",
    "    #rmse_train.append(evaluate(train_set))\n",
    "    #rmse_test.append(evaluate(test_set))\n",
    "    \n",
    "    for k in range(n_epochs):\n",
    "        update_parameters()\n",
    "        log_ap = log_a_posteriori()\n",
    "        log_aps.append(log_ap)\n",
    "\n",
    "        if (k + 1) % 10 == 0:\n",
    "            update_max_min_ratings()\n",
    "\n",
    "            #rmse_train.append(evaluate(train_set))\n",
    "            #rmse_test.append(evaluate(test_set))\n",
    "            print('Log p a-posteriori at iteration', k + 1, ':', log_ap)\n",
    "\n",
    "    update_max_min_ratings()\n",
    "    diff_norm_U, diff_norm_V = compare_results()\n",
    "    return log_aps, rmse_train, rmse_test, diff_norm_U, diff_norm_V"
   ]
  },
  {
   "cell_type": "markdown",
   "metadata": {
    "colab_type": "text",
    "id": "SJbozBbQPk9A"
   },
   "source": [
    "Let's train our model!"
   ]
  },
  {
   "cell_type": "code",
   "execution_count": 18,
   "metadata": {
    "colab": {
     "base_uri": "https://localhost:8080/",
     "height": 281
    },
    "colab_type": "code",
    "id": "XeH5sRNp7eHA",
    "outputId": "8e0cb783-9b32-41aa-9a4a-908aac9d613d"
   },
   "outputs": [
    {
     "name": "stdout",
     "output_type": "stream",
     "text": [
      "Log p a-posteriori at iteration 10 : -409.42581643041507\n",
      "Log p a-posteriori at iteration 20 : -376.30442569688927\n",
      "Log p a-posteriori at iteration 30 : -364.44954473260833\n",
      "Log p a-posteriori at iteration 40 : -359.75998530649275\n",
      "Log p a-posteriori at iteration 50 : -357.80166312586346\n",
      "Log p a-posteriori at iteration 60 : -356.9408193743251\n",
      "Log p a-posteriori at iteration 70 : -356.54037534172903\n",
      "Log p a-posteriori at iteration 80 : -356.3426502097962\n",
      "Log p a-posteriori at iteration 90 : -356.23930945615865\n",
      "Log p a-posteriori at iteration 100 : -356.1826016561688\n",
      "Log p a-posteriori at iteration 110 : -356.1502773472174\n",
      "Log p a-posteriori at iteration 120 : -356.13133725373547\n",
      "Log p a-posteriori at iteration 130 : -356.12002769027606\n",
      "Log p a-posteriori at iteration 140 : -356.1131895936881\n",
      "Log p a-posteriori at iteration 150 : -356.1090216544133\n"
     ]
    }
   ],
   "source": [
    "log_ps, rmse_train, rmse_test, diff_norm_U, diff_norm_V = train(150)"
   ]
  },
  {
   "cell_type": "code",
   "execution_count": null,
   "metadata": {},
   "outputs": [],
   "source": [
    "print('Orthogonal Procrustes RSS for U :', diff_norm_U, '  for V:', diff_norm_V)"
   ]
  },
  {
   "cell_type": "code",
   "execution_count": 51,
   "metadata": {},
   "outputs": [],
   "source": [
    "#print(parameters['R'])"
   ]
  },
  {
   "cell_type": "markdown",
   "metadata": {
    "colab_type": "text",
    "id": "TKzp4hukECUE"
   },
   "source": [
    "Now let's take a look at some graphs"
   ]
  },
  {
   "cell_type": "code",
   "execution_count": 39,
   "metadata": {
    "colab": {
     "base_uri": "https://localhost:8080/"
    },
    "colab_type": "code",
    "id": "yRr_wko07e37",
    "outputId": "46313b0b-5d4a-4448-8638-12ef81baf4c2"
   },
   "outputs": [
    {
     "data": {
      "image/png": "[encoded data removed]",
      "text/plain": [
       "<Figure size 2000x1000 with 2 Axes>"
      ]
     },
     "metadata": {},
     "output_type": "display_data"
    }
   ],
   "source": [
    "_, (ax1, ax2) = plt.subplots(1, 2, figsize=(20, 10))\n",
    "plt.title('Training results')\n",
    "ax1.plot(np.arange(len(log_ps)), log_ps, label='MAP')\n",
    "ax1.legend()\n",
    "\n",
    "ax2.plot(np.arange(len(rmse_train)), rmse_train, label='RMSE train')\n",
    "ax2.plot(np.arange(len(rmse_test)), rmse_test, label='RMSE test')\n",
    "ax2.legend()\n",
    "\n",
    "plt.show()"
   ]
  },
  {
   "cell_type": "markdown",
   "metadata": {
    "colab_type": "text",
    "id": "-nhrZDHvPx1-"
   },
   "source": [
    "Let's now evaluate our model on both the training and testing sets."
   ]
  },
  {
   "cell_type": "code",
   "execution_count": null,
   "metadata": {
    "colab": {
     "base_uri": "https://localhost:8080/",
     "height": 52
    },
    "colab_type": "code",
    "id": "L9mKLM7BkuVz",
    "outputId": "7884e7ea-0349-4824-cd80-7c4add36f76c"
   },
   "outputs": [],
   "source": [
    "print('RMSE of training set:', evaluate(train_set))\n",
    "print('RMSE of testing set:', evaluate(test_set))"
   ]
  },
  {
   "cell_type": "markdown",
   "metadata": {
    "colab_type": "text",
    "id": "JEZtM1UiQUrA"
   },
   "source": [
    "Now we will pick a user from the database and look at his/her preferences."
   ]
  },
  {
   "cell_type": "code",
   "execution_count": null,
   "metadata": {
    "colab": {
     "base_uri": "https://localhost:8080/"
    },
    "colab_type": "code",
    "id": "t-KBJYqbU--g",
    "outputId": "5a80faa9-26a8-42d1-ed08-0c75c83635ec"
   },
   "outputs": [],
   "source": [
    "user_id = 45\n",
    "df_join[df_join['userId'] == user_id].sort_values(by=['rating'], ascending=False).head(10)"
   ]
  },
  {
   "cell_type": "markdown",
   "metadata": {
    "colab_type": "text",
    "id": "lfsqp9f3QcXi"
   },
   "source": [
    "Let's look at the least preferred items."
   ]
  },
  {
   "cell_type": "code",
   "execution_count": null,
   "metadata": {
    "colab": {
     "base_uri": "https://localhost:8080/"
    },
    "colab_type": "code",
    "id": "bkHatTbO19dL",
    "outputId": "09a3fda4-1456-460c-d827-074f81b8094e"
   },
   "outputs": [],
   "source": [
    "df_join[df_join['userId'] == user_id].sort_values(by=['rating']).head(10)"
   ]
  },
  {
   "cell_type": "markdown",
   "metadata": {
    "colab_type": "text",
    "id": "iGu6-AnIQgyy"
   },
   "source": [
    "Let's now look at the most likely preferences of the selected user."
   ]
  },
  {
   "cell_type": "code",
   "execution_count": null,
   "metadata": {
    "colab": {
     "base_uri": "https://localhost:8080/"
    },
    "colab_type": "code",
    "id": "EX_poCW7WcZO",
    "outputId": "d8e8cd67-3b00-4836-8a00-d87b349070a9"
   },
   "outputs": [],
   "source": [
    "predictions = np.zeros((n_movies, 1))\n",
    "movie_to_column_items = np.array(list(movie_to_column.items()))\n",
    "df_result = pd.DataFrame(columns=['UserID', 'MovieID', 'Movie', 'Genres', 'Prediction'])\n",
    "\n",
    "for i, movie in enumerate(movie_to_column_items):\n",
    "    predictions[i] = predict(user_id, movie[0])\n",
    "    \n",
    "indices = np.argsort(-predictions, axis=0)\n",
    "\n",
    "for j in range(10):\n",
    "    movie_id = int(movie_to_column_items[np.where(movie_to_column_items[:, 1] == indices[j])][0][0])\n",
    "    df_row = pd.DataFrame({\n",
    "        'UserID': user_id,\n",
    "        'MovieID': movie_id,\n",
    "        'Movie': df_movies[df_movies['movieId'] == movie_id].iloc[0]['title'],\n",
    "        'Genres': df_movies[df_movies['movieId'] == movie_id].iloc[0]['genres'],\n",
    "        'Prediction': predictions[indices[j]][0][0]\n",
    "    }, index=[j])\n",
    "    df_result = df_result.append(df_row, sort=False)\n",
    "    \n",
    "df_result"
   ]
  },
  {
   "cell_type": "markdown",
   "metadata": {
    "colab_type": "text",
    "id": "S2xU-gjQQrwZ"
   },
   "source": [
    "Now the predictions for least preferred items."
   ]
  },
  {
   "cell_type": "code",
   "execution_count": null,
   "metadata": {
    "colab": {
     "base_uri": "https://localhost:8080/"
    },
    "colab_type": "code",
    "id": "d2nL5rsz2dR8",
    "outputId": "3924eb3e-d164-48c7-9738-f2cff38bd4c1"
   },
   "outputs": [],
   "source": [
    "df_result = pd.DataFrame(columns=['UserID', 'MovieID', 'Movie', 'Genres', 'Prediction'])\n",
    "indices = np.argsort(predictions, axis=0)\n",
    "\n",
    "for j in range(10):\n",
    "    movie_id = int(movie_to_column_items[np.where(movie_to_column_items[:, 1] == indices[j])][0][0])\n",
    "    df_row = pd.DataFrame({\n",
    "        'UserID': user_id,\n",
    "        'MovieID': movie_id,\n",
    "        'Movie': df_movies[df_movies['movieId'] == movie_id].iloc[0]['title'],\n",
    "        'Genres': df_movies[df_movies['movieId'] == movie_id].iloc[0]['genres'],\n",
    "        'Prediction': predictions[indices[j]][0][0]\n",
    "    }, index=[j])\n",
    "    df_result = df_result.append(df_row, sort=False)\n",
    "    \n",
    "df_result"
   ]
  },
  {
   "cell_type": "markdown",
   "metadata": {
    "colab_type": "text",
    "id": "ORbaz1CIOWIJ"
   },
   "source": [
    "I hope you enjoyed this exercise. Something you can also try on your own is to implement gradient descent instead of MAP-estimation like I did here. Let me know about any comments you may have."
   ]
  }
 ],
 "metadata": {
  "colab": {
   "collapsed_sections": [],
   "name": "PMF_Recommender_Systems.ipynb",
   "provenance": [],
   "toc_visible": true
  },
  "kernelspec": {
   "display_name": "Python 3 (ipykernel)",
   "language": "python",
   "name": "python3"
  },
  "language_info": {
   "codemirror_mode": {
    "name": "ipython",
    "version": 3
   },
   "file_extension": ".py",
   "mimetype": "text/x-python",
   "name": "python",
   "nbconvert_exporter": "python",
   "pygments_lexer": "ipython3",
   "version": "3.9.13"
  }
 },
 "nbformat": 4,
 "nbformat_minor": 1
}
