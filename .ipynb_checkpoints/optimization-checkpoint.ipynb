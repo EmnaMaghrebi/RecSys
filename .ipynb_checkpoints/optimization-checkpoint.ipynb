{
 "cells": [
  {
   "cell_type": "code",
   "execution_count": 2,
   "id": "7637b83a",
   "metadata": {},
   "outputs": [],
   "source": [
    "import numpy as np\n",
    "import pandas as pd\n",
    "from sklearn.metrics.pairwise import cosine_similarity\n",
    "from sklearn.decomposition import TruncatedSVD\n",
    "import scipy.stats as stats\n",
    "import scipy.optimize as spo\n",
    "from scipy.optimize import minimize"
   ]
  },
  {
   "cell_type": "code",
   "execution_count": 19,
   "id": "944bbf9a",
   "metadata": {},
   "outputs": [],
   "source": [
    "# standard deviation of spherical Gaussian distribution\n",
    "mu = 0.0 \n",
    "sigma_u = 1.0\n",
    "sigma_v = 1.0\n",
    "sigma = 0.2#[0, 0.2, 0.4, 0.6, 0.8, 1] \n",
    "\n",
    "D = 2 #dimension\n",
    "N = 10 #nbr of users = 10\n",
    "M = 8 #nbr of movies : M=5*alpha M = 10, 30, 100, 300, 1000\n",
    "alpha_vals = [1, 3, 10, 30, 100] #[1,5,10,50,100]\n",
    "k_best = 10 # \n",
    "nb_iter = 1000 #100"
   ]
  },
  {
   "cell_type": "code",
   "execution_count": 20,
   "id": "e8f84526",
   "metadata": {},
   "outputs": [],
   "source": [
    "#generate matrices U, V and R from Gauss. distributions\n",
    "# put all vars as arguments !!!!\n",
    "def generate_U_V_R(s, alpha):\n",
    "    U = np.random.normal(mu, sigma_u, size=(D,N))\n",
    "    V = np.random.normal(mu, sigma_v, size=(D,M*alpha))\n",
    "    noise = np.random.normal(mu, s, size=(N,M*alpha)) \n",
    "    R = np.matmul(U.T,V) +noise\n",
    "    return U, V, R"
   ]
  },
  {
   "cell_type": "code",
   "execution_count": 21,
   "id": "97e3613b",
   "metadata": {},
   "outputs": [],
   "source": [
    "# define the objective function to optimize\n",
    "def objective_function(V, R, U, sigma):\n",
    "    V = V.reshape((D,M))\n",
    "    lambda_U = sigma/sigma_u\n",
    "    lambda_V = sigma/sigma_v\n",
    "    error = R - np.dot(U.T, V)\n",
    "    regularization_term = lambda_U/2 * np.linalg.norm(U)**2 + lambda_V/2 * np.linalg.norm(V)**2\n",
    "    return  np.sum(error**2)*1/2 + regularization_term"
   ]
  },
  {
   "cell_type": "code",
   "execution_count": 22,
   "id": "3916ad33",
   "metadata": {},
   "outputs": [],
   "source": [
    "def optimization_fn():\n",
    "    # minimize the objective function\n",
    "\n",
    "    U, V, R= generate_U_V_R(s= sigma, alpha= alpha_vals[0])\n",
    "    V0 = np.random.randn(D*M) # random guess for V0\n",
    "\n",
    "    result = minimize(objective_function, V0, args=(R, U, sigma))# , options={\"disp\": True}\n",
    "    V_result= 0\n",
    "    if result.success :\n",
    "        V_result= result.x.reshape((D, M))\n",
    "        #print(f'V = {V_result}')\n",
    "    else :\n",
    "        print('No minimum found')\n",
    "    frob_V= np.linalg.norm(V, 'fro')\n",
    "    frob_V_result= np.linalg.norm(V_result, 'fro')\n",
    "    diff_norm= abs(frob_V- frob_V_result)\n",
    "    #print(f'Difference of Frobenius norm of V and V_result: {diff_norm}')\n",
    "    return diff_norm\n"
   ]
  },
  {
   "cell_type": "code",
   "execution_count": null,
   "id": "a8e9c13a",
   "metadata": {},
   "outputs": [],
   "source": [
    "avg= 0\n",
    "for i in range(nb_iter):\n",
    "    avg+= optimization_fn()\n",
    "avg= avg/nb_iter\n",
    "print(f'Average Difference of Frobenius norm of V and V_result: {avg}')\n"
   ]
  },
  {
   "cell_type": "code",
   "execution_count": null,
   "id": "90974bf3",
   "metadata": {},
   "outputs": [],
   "source": []
  },
  {
   "cell_type": "code",
   "execution_count": null,
   "id": "24c0e106",
   "metadata": {},
   "outputs": [],
   "source": []
  }
 ],
 "metadata": {
  "kernelspec": {
   "display_name": "Python 3 (ipykernel)",
   "language": "python",
   "name": "python3"
  },
  "language_info": {
   "codemirror_mode": {
    "name": "ipython",
    "version": 3
   },
   "file_extension": ".py",
   "mimetype": "text/x-python",
   "name": "python",
   "nbconvert_exporter": "python",
   "pygments_lexer": "ipython3",
   "version": "3.9.13"
  }
 },
 "nbformat": 4,
 "nbformat_minor": 5
}
