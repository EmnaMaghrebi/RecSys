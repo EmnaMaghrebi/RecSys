{
 "cells": [
  {
   "cell_type": "code",
   "execution_count": 1,
   "id": "efed0b79",
   "metadata": {},
   "outputs": [],
   "source": [
    "import matplotlib.pyplot as plt\n",
    "import numpy as np\n",
    "import pandas as pd\n",
    "from scipy.linalg import orthogonal_procrustes\n",
    "from sklearn.metrics import mean_squared_error\n",
    "from helpers_pmf import *\n",
    "from helpers_similarity import *\n",
    "from helpers_optimization import *\n",
    "from scipy.optimize import minimize"
   ]
  },
  {
   "cell_type": "code",
   "execution_count": 30,
   "id": "d457406b",
   "metadata": {},
   "outputs": [],
   "source": [
    "mu = 0\n",
    "sigma_u = 1\n",
    "sigma_v = 1\n",
    "sigma = 0\n",
    "lambda_reg = 0.1\n",
    "\n",
    "d_dim = 2\n",
    "n_users = 5\n",
    "n_movies = 10 #change to n_items !!!\n",
    "nb_iter = 100"
   ]
  },
  {
   "cell_type": "markdown",
   "id": "03c8d2cf",
   "metadata": {},
   "source": [
    "## Bradley-Terry-Luce (BTL) model"
   ]
  },
  {
   "cell_type": "markdown",
   "id": "72a407ab",
   "metadata": {},
   "source": [
    "Calculate the difference between each pair of elements in the 2D array X. Then, generate the probability matrix by applying the logistic function $$P(x) = \\frac{e^{x}}{1 + e^{x}}$$ element-wise to the difference matrix, where x is the difference between two elements :"
   ]
  },
  {
   "cell_type": "code",
   "execution_count": 31,
   "id": "fb2ccba8",
   "metadata": {},
   "outputs": [],
   "source": [
    "def generate_P_BT_Luce(X, alpha=1.0): # tha larger alpha, the flatter and noisier the sigmoid is !! read abt it !!\n",
    "    \n",
    "    diff = alpha*np.subtract.outer(X, X) \n",
    "    X_diff= np.array([diff[i, :, i, :] for i in range(n_users)])\n",
    "    P = np.exp(X_diff) / (1 + np.exp(X_diff))\n",
    "    \n",
    "    return P, X_diff\n"
   ]
  },
  {
   "cell_type": "markdown",
   "id": "fc4b3e61",
   "metadata": {},
   "source": [
    "Generate pairwise comparison data $Y_{ijk} = \\pm 1$ for each user and item. The output Y is a $3D$ tensor with the shape $(n\\_users, n\\_items, n\\_items)$. Each entry $Y[i,j,k]$ corresponds to whether user i prefers item j over item k. For example, line 0 of Y corresponds to the pairwise comparisons of user 0 with all items: $Y[0,0,:]$ represents whether user 0 prefers item 0 over all other items $(item\\_0, item\\_1, item\\_2, etc..)$, and so on."
   ]
  },
  {
   "cell_type": "code",
   "execution_count": 32,
   "id": "85e37677",
   "metadata": {},
   "outputs": [],
   "source": [
    "def pairwise_comparisons(P):\n",
    "    \n",
    "    Y = np.random.binomial(n=1, p=P, size=P.shape) \n",
    "    Y = np.where(Y == 0, -1, Y)\n",
    "    \n",
    "    return Y"
   ]
  },
  {
   "cell_type": "code",
   "execution_count": 33,
   "id": "0950d0e4",
   "metadata": {},
   "outputs": [],
   "source": [
    "def hinge_loss(x):\n",
    "    \n",
    "    return np.maximum(0, 1 - x)**2 "
   ]
  },
  {
   "cell_type": "code",
   "execution_count": 34,
   "id": "2bf16561",
   "metadata": {},
   "outputs": [],
   "source": [
    "def frob(X, Y, N):\n",
    "    \n",
    "    return np.linalg.norm(X - Y, 'fro')/np.sqrt(N)"
   ]
  },
  {
   "cell_type": "code",
   "execution_count": 35,
   "id": "39c9e440",
   "metadata": {},
   "outputs": [],
   "source": [
    "def sum_loss(U, V, Y):\n",
    "    n, m, _ = Y.shape\n",
    "    loss = 0\n",
    "    for i in range(n):\n",
    "        for j in range(m):\n",
    "            for k in range(j):\n",
    "                if Y[i, j, k] != 0:\n",
    "                    v = V[:,j] - V[:,k]\n",
    "                    x = np.dot(U[:,i], v)\n",
    "                    loss += hinge_loss(Y[i, j, k] * x)\n",
    "    return loss"
   ]
  },
  {
   "cell_type": "code",
   "execution_count": 36,
   "id": "84b1ea25",
   "metadata": {},
   "outputs": [],
   "source": [
    "def loss_V(V, Y, U, lambda_reg, d_dim, n_movies):\n",
    "    \n",
    "    V = V.reshape((d_dim, n_movies))\n",
    "    loss = sum_loss(U, V, Y)\n",
    "    reg = lambda_reg * np.linalg.norm(V, 'fro') ** 2\n",
    "    \n",
    "    return loss + reg"
   ]
  },
  {
   "cell_type": "code",
   "execution_count": 37,
   "id": "f5e441a3",
   "metadata": {},
   "outputs": [],
   "source": [
    "def loss_U(U, Y, V, lambda_reg, d_dim, n_users):\n",
    "    \n",
    "    U=U.reshape((d_dim, n_users))\n",
    "    loss = sum_loss(U, V, Y)\n",
    "    reg = lambda_reg * np.linalg.norm(U, 'fro') ** 2 \n",
    "    \n",
    "    return loss + reg"
   ]
  },
  {
   "cell_type": "code",
   "execution_count": 38,
   "id": "af8c3e2b",
   "metadata": {},
   "outputs": [],
   "source": [
    "\n",
    "def minimize_U_V():\n",
    "    #generate U, V, X, the probability matrix P and the pairwise comparison data Y (+-1)\n",
    "    U, V, X = generate_U_V_R(mu, sigma_u, sigma_v, sigma, d_dim, n_users, n_movies)\n",
    "    P, diff = generate_P_BT_Luce(X)\n",
    "    Y = pairwise_comparisons(P)\n",
    "\n",
    "    #initialize U and V with random values\n",
    "    U0 = np.random.normal(mu, sigma_u, d_dim*n_users)\n",
    "    V0 = np.random.normal(mu, sigma_u, d_dim*n_movies)\n",
    "\n",
    "    #for V fixed, find the optimal value for U, and vice versa \n",
    "    res_U = minimize(loss_U, U0, args=(Y, V, lambda_reg), method='L-BFGS-B') #method='L-BFGS-B' ? # compare runtime\n",
    "    res_V = minimize(loss_V, V0, args=(Y, U, lambda_reg)) \n",
    "\n",
    "    #compare the original value for U (that we generated), with the resulting U from minimization\n",
    "    U_res = res_U.x.reshape(U.shape)\n",
    "    V_res = res_V.x.reshape(V.shape)\n",
    "    frob_U = np.linalg.norm(U - U_res, 'fro')/np.sqrt(n_users)\n",
    "    frob_V = np.linalg.norm(V - V_res, 'fro')/np.sqrt(n_movies)\n",
    "\n",
    "    print(f'frob_U : {frob_U}, frob_V : {frob_V}')\n",
    "    \n",
    "    \n",
    "\n",
    "    #change frob norm, generate plots\n",
    "\n"
   ]
  },
  {
   "cell_type": "code",
   "execution_count": 39,
   "id": "8537426f",
   "metadata": {},
   "outputs": [
    {
     "name": "stdout",
     "output_type": "stream",
     "text": [
      "frob_U : 0.7604128793924714, frob_V : 0.8125330234045828\n"
     ]
    }
   ],
   "source": [
    "minimize_U_V()"
   ]
  },
  {
   "cell_type": "code",
   "execution_count": 40,
   "id": "2452e386",
   "metadata": {},
   "outputs": [],
   "source": [
    "def optimization_U_V(d_dim, n_users, n_movies):\n",
    "    U, V, X = generate_U_V_R(mu, sigma_u, sigma_v, sigma, d_dim, n_users, n_movies)\n",
    "    P, diff = generate_P_BT_Luce(X)\n",
    "    Y = pairwise_comparisons(P)\n",
    "\n",
    "    #initialize U and V with random values\n",
    "    U0 = np.random.normal(mu, sigma_u, d_dim*n_users)\n",
    "    V0 = np.random.normal(mu, sigma_u, d_dim*n_movies)\n",
    "\n",
    "    #for V fixed, find the optimal value for U, and vice versa \n",
    "    U_res = minimize(loss_U, U0, args=(Y, V, lambda_reg), method='L-BFGS-B') #method='L-BFGS-B' ? # compare runtime\n",
    "    V_res = minimize(loss_V, V0, args=(Y, U, lambda_reg), method='L-BFGS-B') \n",
    "    \n",
    "    U_result = 0\n",
    "    if U_res.success :\n",
    "        U_result = U_res.x.reshape((d_dim, n_users))\n",
    "    else :\n",
    "        print('Minimization failure for U')\n",
    "        print(U_res.message)\n",
    "        U_result = U_res.x.reshape((d_dim, n_users))\n",
    "    diff_norm_U = np.linalg.norm(U - U_result, 'fro')/np.sqrt(n_users) \n",
    "    \n",
    "    V_result = 0\n",
    "    if V_res.success :\n",
    "        V_result = V_res.x.reshape((d_dim, n_movies))\n",
    "    else :\n",
    "        print('Minimization failure for V')\n",
    "        print(V_res.message)\n",
    "        V_result = V_res.x.reshape((d_dim, n_movies))\n",
    "    diff_norm_V = np.linalg.norm(V - V_result, 'fro')/np.sqrt(n_movies) \n",
    "    \n",
    "    return diff_norm_U, diff_norm_V\n",
    "\n"
   ]
  },
  {
   "cell_type": "code",
   "execution_count": 41,
   "id": "03849868",
   "metadata": {},
   "outputs": [
    {
     "data": {
      "text/plain": [
       "(0.8005404945746306, 0.7265316415061116)"
      ]
     },
     "execution_count": 41,
     "metadata": {},
     "output_type": "execute_result"
    }
   ],
   "source": [
    "optimization_U_V(d_dim, n_users, n_movies)"
   ]
  },
  {
   "cell_type": "code",
   "execution_count": 42,
   "id": "2d89c41e",
   "metadata": {},
   "outputs": [],
   "source": [
    "def norm_results(d_dim, n_users, n_movies):\n",
    "    avg_U = 0\n",
    "    avg_V = 0\n",
    "    n_U = 0\n",
    "    n_V = 0\n",
    "    for i in range(nb_iter):\n",
    "        diff_U, diff_V = optimization_U_V(d_dim, n_users, n_movies)\n",
    "        if diff_U is not np.nan:\n",
    "            avg_U += diff_U\n",
    "            n_U += 1\n",
    "        if diff_V is not np.nan:\n",
    "            avg_V += diff_V\n",
    "            n_V += 1\n",
    "    print(avg_U, n_U)\n",
    "    print(avg_V, n_V)\n",
    "    avg_U /= n_U\n",
    "    avg_V /= n_V\n",
    "    return avg_U, avg_V"
   ]
  },
  {
   "cell_type": "code",
   "execution_count": 43,
   "id": "fff93022",
   "metadata": {},
   "outputs": [
    {
     "name": "stdout",
     "output_type": "stream",
     "text": [
      "0 0\n"
     ]
    },
    {
     "ename": "ValueError",
     "evalue": "cannot reshape array of size 20 into shape (2,5)",
     "output_type": "error",
     "traceback": [
      "\u001b[0;31m---------------------------------------------------------------------------\u001b[0m",
      "\u001b[0;31mValueError\u001b[0m                                Traceback (most recent call last)",
      "\u001b[0;32m/var/folders/y6/l6vpn95x35g0swp7xwnqndtc0000gn/T/ipykernel_95683/1522157392.py\u001b[0m in \u001b[0;36m<module>\u001b[0;34m\u001b[0m\n\u001b[1;32m      5\u001b[0m     \u001b[0;32mfor\u001b[0m \u001b[0mj\u001b[0m \u001b[0;32min\u001b[0m \u001b[0mrange\u001b[0m\u001b[0;34m(\u001b[0m\u001b[0mlen\u001b[0m\u001b[0;34m(\u001b[0m\u001b[0mM_vals\u001b[0m\u001b[0;34m)\u001b[0m\u001b[0;34m)\u001b[0m\u001b[0;34m:\u001b[0m\u001b[0;34m\u001b[0m\u001b[0;34m\u001b[0m\u001b[0m\n\u001b[1;32m      6\u001b[0m         \u001b[0mprint\u001b[0m\u001b[0;34m(\u001b[0m\u001b[0mi\u001b[0m\u001b[0;34m,\u001b[0m\u001b[0mj\u001b[0m\u001b[0;34m)\u001b[0m\u001b[0;34m\u001b[0m\u001b[0;34m\u001b[0m\u001b[0m\n\u001b[0;32m----> 7\u001b[0;31m         \u001b[0mavg_U\u001b[0m\u001b[0;34m,\u001b[0m \u001b[0mavg_V\u001b[0m \u001b[0;34m=\u001b[0m \u001b[0mnorm_results\u001b[0m\u001b[0;34m(\u001b[0m\u001b[0md_dim\u001b[0m\u001b[0;34m,\u001b[0m \u001b[0mN_vals\u001b[0m\u001b[0;34m[\u001b[0m\u001b[0mi\u001b[0m\u001b[0;34m]\u001b[0m\u001b[0;34m,\u001b[0m \u001b[0mM_vals\u001b[0m\u001b[0;34m[\u001b[0m\u001b[0mj\u001b[0m\u001b[0;34m]\u001b[0m\u001b[0;34m)\u001b[0m\u001b[0;34m\u001b[0m\u001b[0;34m\u001b[0m\u001b[0m\n\u001b[0m\u001b[1;32m      8\u001b[0m         \u001b[0mrow\u001b[0m\u001b[0;34m=\u001b[0m \u001b[0;34m[\u001b[0m\u001b[0mN_vals\u001b[0m\u001b[0;34m[\u001b[0m\u001b[0mi\u001b[0m\u001b[0;34m]\u001b[0m\u001b[0;34m,\u001b[0m \u001b[0mM_vals\u001b[0m\u001b[0;34m[\u001b[0m\u001b[0mj\u001b[0m\u001b[0;34m]\u001b[0m\u001b[0;34m,\u001b[0m \u001b[0mavg_U\u001b[0m\u001b[0;34m,\u001b[0m \u001b[0mavg_V\u001b[0m\u001b[0;34m]\u001b[0m\u001b[0;34m\u001b[0m\u001b[0;34m\u001b[0m\u001b[0m\n\u001b[1;32m      9\u001b[0m         \u001b[0mdata\u001b[0m\u001b[0;34m.\u001b[0m\u001b[0mappend\u001b[0m\u001b[0;34m(\u001b[0m\u001b[0mrow\u001b[0m\u001b[0;34m)\u001b[0m\u001b[0;34m\u001b[0m\u001b[0;34m\u001b[0m\u001b[0m\n",
      "\u001b[0;32m/var/folders/y6/l6vpn95x35g0swp7xwnqndtc0000gn/T/ipykernel_95683/318905205.py\u001b[0m in \u001b[0;36mnorm_results\u001b[0;34m(d_dim, n_users, n_movies)\u001b[0m\n\u001b[1;32m      5\u001b[0m     \u001b[0mn_V\u001b[0m \u001b[0;34m=\u001b[0m \u001b[0;36m0\u001b[0m\u001b[0;34m\u001b[0m\u001b[0;34m\u001b[0m\u001b[0m\n\u001b[1;32m      6\u001b[0m     \u001b[0;32mfor\u001b[0m \u001b[0mi\u001b[0m \u001b[0;32min\u001b[0m \u001b[0mrange\u001b[0m\u001b[0;34m(\u001b[0m\u001b[0mnb_iter\u001b[0m\u001b[0;34m)\u001b[0m\u001b[0;34m:\u001b[0m\u001b[0;34m\u001b[0m\u001b[0;34m\u001b[0m\u001b[0m\n\u001b[0;32m----> 7\u001b[0;31m         \u001b[0mdiff_U\u001b[0m\u001b[0;34m,\u001b[0m \u001b[0mdiff_V\u001b[0m \u001b[0;34m=\u001b[0m \u001b[0moptimization_U_V\u001b[0m\u001b[0;34m(\u001b[0m\u001b[0md_dim\u001b[0m\u001b[0;34m,\u001b[0m \u001b[0mn_users\u001b[0m\u001b[0;34m,\u001b[0m \u001b[0mn_movies\u001b[0m\u001b[0;34m)\u001b[0m\u001b[0;34m\u001b[0m\u001b[0;34m\u001b[0m\u001b[0m\n\u001b[0m\u001b[1;32m      8\u001b[0m         \u001b[0;32mif\u001b[0m \u001b[0mdiff_U\u001b[0m \u001b[0;32mis\u001b[0m \u001b[0;32mnot\u001b[0m \u001b[0mnp\u001b[0m\u001b[0;34m.\u001b[0m\u001b[0mnan\u001b[0m\u001b[0;34m:\u001b[0m\u001b[0;34m\u001b[0m\u001b[0;34m\u001b[0m\u001b[0m\n\u001b[1;32m      9\u001b[0m             \u001b[0mavg_U\u001b[0m \u001b[0;34m+=\u001b[0m \u001b[0mdiff_U\u001b[0m\u001b[0;34m\u001b[0m\u001b[0;34m\u001b[0m\u001b[0m\n",
      "\u001b[0;32m/var/folders/y6/l6vpn95x35g0swp7xwnqndtc0000gn/T/ipykernel_95683/3398275773.py\u001b[0m in \u001b[0;36moptimization_U_V\u001b[0;34m(d_dim, n_users, n_movies)\u001b[0m\n\u001b[1;32m      9\u001b[0m \u001b[0;34m\u001b[0m\u001b[0m\n\u001b[1;32m     10\u001b[0m     \u001b[0;31m#for V fixed, find the optimal value for U, and vice versa\u001b[0m\u001b[0;34m\u001b[0m\u001b[0;34m\u001b[0m\u001b[0m\n\u001b[0;32m---> 11\u001b[0;31m     \u001b[0mU_res\u001b[0m \u001b[0;34m=\u001b[0m \u001b[0mminimize\u001b[0m\u001b[0;34m(\u001b[0m\u001b[0mloss_U\u001b[0m\u001b[0;34m,\u001b[0m \u001b[0mU0\u001b[0m\u001b[0;34m,\u001b[0m \u001b[0margs\u001b[0m\u001b[0;34m=\u001b[0m\u001b[0;34m(\u001b[0m\u001b[0mY\u001b[0m\u001b[0;34m,\u001b[0m \u001b[0mV\u001b[0m\u001b[0;34m,\u001b[0m \u001b[0mlambda_reg\u001b[0m\u001b[0;34m)\u001b[0m\u001b[0;34m,\u001b[0m \u001b[0mmethod\u001b[0m\u001b[0;34m=\u001b[0m\u001b[0;34m'L-BFGS-B'\u001b[0m\u001b[0;34m)\u001b[0m \u001b[0;31m#method='L-BFGS-B' ? # compare runtime\u001b[0m\u001b[0;34m\u001b[0m\u001b[0;34m\u001b[0m\u001b[0m\n\u001b[0m\u001b[1;32m     12\u001b[0m     \u001b[0mV_res\u001b[0m \u001b[0;34m=\u001b[0m \u001b[0mminimize\u001b[0m\u001b[0;34m(\u001b[0m\u001b[0mloss_V\u001b[0m\u001b[0;34m,\u001b[0m \u001b[0mV0\u001b[0m\u001b[0;34m,\u001b[0m \u001b[0margs\u001b[0m\u001b[0;34m=\u001b[0m\u001b[0;34m(\u001b[0m\u001b[0mY\u001b[0m\u001b[0;34m,\u001b[0m \u001b[0mU\u001b[0m\u001b[0;34m,\u001b[0m \u001b[0mlambda_reg\u001b[0m\u001b[0;34m)\u001b[0m\u001b[0;34m,\u001b[0m \u001b[0mmethod\u001b[0m\u001b[0;34m=\u001b[0m\u001b[0;34m'L-BFGS-B'\u001b[0m\u001b[0;34m)\u001b[0m\u001b[0;34m\u001b[0m\u001b[0;34m\u001b[0m\u001b[0m\n\u001b[1;32m     13\u001b[0m \u001b[0;34m\u001b[0m\u001b[0m\n",
      "\u001b[0;32m~/opt/anaconda3/lib/python3.9/site-packages/scipy/optimize/_minimize.py\u001b[0m in \u001b[0;36mminimize\u001b[0;34m(fun, x0, args, method, jac, hess, hessp, bounds, constraints, tol, callback, options)\u001b[0m\n\u001b[1;32m    697\u001b[0m                                  **options)\n\u001b[1;32m    698\u001b[0m     \u001b[0;32melif\u001b[0m \u001b[0mmeth\u001b[0m \u001b[0;34m==\u001b[0m \u001b[0;34m'l-bfgs-b'\u001b[0m\u001b[0;34m:\u001b[0m\u001b[0;34m\u001b[0m\u001b[0;34m\u001b[0m\u001b[0m\n\u001b[0;32m--> 699\u001b[0;31m         res = _minimize_lbfgsb(fun, x0, args, jac, bounds,\n\u001b[0m\u001b[1;32m    700\u001b[0m                                callback=callback, **options)\n\u001b[1;32m    701\u001b[0m     \u001b[0;32melif\u001b[0m \u001b[0mmeth\u001b[0m \u001b[0;34m==\u001b[0m \u001b[0;34m'tnc'\u001b[0m\u001b[0;34m:\u001b[0m\u001b[0;34m\u001b[0m\u001b[0;34m\u001b[0m\u001b[0m\n",
      "\u001b[0;32m~/opt/anaconda3/lib/python3.9/site-packages/scipy/optimize/_lbfgsb_py.py\u001b[0m in \u001b[0;36m_minimize_lbfgsb\u001b[0;34m(fun, x0, args, jac, bounds, disp, maxcor, ftol, gtol, eps, maxfun, maxiter, iprint, callback, maxls, finite_diff_rel_step, **unknown_options)\u001b[0m\n\u001b[1;32m    306\u001b[0m             \u001b[0miprint\u001b[0m \u001b[0;34m=\u001b[0m \u001b[0mdisp\u001b[0m\u001b[0;34m\u001b[0m\u001b[0;34m\u001b[0m\u001b[0m\n\u001b[1;32m    307\u001b[0m \u001b[0;34m\u001b[0m\u001b[0m\n\u001b[0;32m--> 308\u001b[0;31m     sf = _prepare_scalar_function(fun, x0, jac=jac, args=args, epsilon=eps,\n\u001b[0m\u001b[1;32m    309\u001b[0m                                   \u001b[0mbounds\u001b[0m\u001b[0;34m=\u001b[0m\u001b[0mnew_bounds\u001b[0m\u001b[0;34m,\u001b[0m\u001b[0;34m\u001b[0m\u001b[0;34m\u001b[0m\u001b[0m\n\u001b[1;32m    310\u001b[0m                                   finite_diff_rel_step=finite_diff_rel_step)\n",
      "\u001b[0;32m~/opt/anaconda3/lib/python3.9/site-packages/scipy/optimize/_optimize.py\u001b[0m in \u001b[0;36m_prepare_scalar_function\u001b[0;34m(fun, x0, jac, args, bounds, epsilon, finite_diff_rel_step, hess)\u001b[0m\n\u001b[1;32m    261\u001b[0m     \u001b[0;31m# ScalarFunction caches. Reuse of fun(x) during grad\u001b[0m\u001b[0;34m\u001b[0m\u001b[0;34m\u001b[0m\u001b[0m\n\u001b[1;32m    262\u001b[0m     \u001b[0;31m# calculation reduces overall function evaluations.\u001b[0m\u001b[0;34m\u001b[0m\u001b[0;34m\u001b[0m\u001b[0m\n\u001b[0;32m--> 263\u001b[0;31m     sf = ScalarFunction(fun, x0, args, grad, hess,\n\u001b[0m\u001b[1;32m    264\u001b[0m                         finite_diff_rel_step, bounds, epsilon=epsilon)\n\u001b[1;32m    265\u001b[0m \u001b[0;34m\u001b[0m\u001b[0m\n",
      "\u001b[0;32m~/opt/anaconda3/lib/python3.9/site-packages/scipy/optimize/_differentiable_functions.py\u001b[0m in \u001b[0;36m__init__\u001b[0;34m(self, fun, x0, args, grad, hess, finite_diff_rel_step, finite_diff_bounds, epsilon)\u001b[0m\n\u001b[1;32m    156\u001b[0m \u001b[0;34m\u001b[0m\u001b[0m\n\u001b[1;32m    157\u001b[0m         \u001b[0mself\u001b[0m\u001b[0;34m.\u001b[0m\u001b[0m_update_fun_impl\u001b[0m \u001b[0;34m=\u001b[0m \u001b[0mupdate_fun\u001b[0m\u001b[0;34m\u001b[0m\u001b[0;34m\u001b[0m\u001b[0m\n\u001b[0;32m--> 158\u001b[0;31m         \u001b[0mself\u001b[0m\u001b[0;34m.\u001b[0m\u001b[0m_update_fun\u001b[0m\u001b[0;34m(\u001b[0m\u001b[0;34m)\u001b[0m\u001b[0;34m\u001b[0m\u001b[0;34m\u001b[0m\u001b[0m\n\u001b[0m\u001b[1;32m    159\u001b[0m \u001b[0;34m\u001b[0m\u001b[0m\n\u001b[1;32m    160\u001b[0m         \u001b[0;31m# Gradient evaluation\u001b[0m\u001b[0;34m\u001b[0m\u001b[0;34m\u001b[0m\u001b[0m\n",
      "\u001b[0;32m~/opt/anaconda3/lib/python3.9/site-packages/scipy/optimize/_differentiable_functions.py\u001b[0m in \u001b[0;36m_update_fun\u001b[0;34m(self)\u001b[0m\n\u001b[1;32m    249\u001b[0m     \u001b[0;32mdef\u001b[0m \u001b[0m_update_fun\u001b[0m\u001b[0;34m(\u001b[0m\u001b[0mself\u001b[0m\u001b[0;34m)\u001b[0m\u001b[0;34m:\u001b[0m\u001b[0;34m\u001b[0m\u001b[0;34m\u001b[0m\u001b[0m\n\u001b[1;32m    250\u001b[0m         \u001b[0;32mif\u001b[0m \u001b[0;32mnot\u001b[0m \u001b[0mself\u001b[0m\u001b[0;34m.\u001b[0m\u001b[0mf_updated\u001b[0m\u001b[0;34m:\u001b[0m\u001b[0;34m\u001b[0m\u001b[0;34m\u001b[0m\u001b[0m\n\u001b[0;32m--> 251\u001b[0;31m             \u001b[0mself\u001b[0m\u001b[0;34m.\u001b[0m\u001b[0m_update_fun_impl\u001b[0m\u001b[0;34m(\u001b[0m\u001b[0;34m)\u001b[0m\u001b[0;34m\u001b[0m\u001b[0;34m\u001b[0m\u001b[0m\n\u001b[0m\u001b[1;32m    252\u001b[0m             \u001b[0mself\u001b[0m\u001b[0;34m.\u001b[0m\u001b[0mf_updated\u001b[0m \u001b[0;34m=\u001b[0m \u001b[0;32mTrue\u001b[0m\u001b[0;34m\u001b[0m\u001b[0;34m\u001b[0m\u001b[0m\n\u001b[1;32m    253\u001b[0m \u001b[0;34m\u001b[0m\u001b[0m\n",
      "\u001b[0;32m~/opt/anaconda3/lib/python3.9/site-packages/scipy/optimize/_differentiable_functions.py\u001b[0m in \u001b[0;36mupdate_fun\u001b[0;34m()\u001b[0m\n\u001b[1;32m    153\u001b[0m \u001b[0;34m\u001b[0m\u001b[0m\n\u001b[1;32m    154\u001b[0m         \u001b[0;32mdef\u001b[0m \u001b[0mupdate_fun\u001b[0m\u001b[0;34m(\u001b[0m\u001b[0;34m)\u001b[0m\u001b[0;34m:\u001b[0m\u001b[0;34m\u001b[0m\u001b[0;34m\u001b[0m\u001b[0m\n\u001b[0;32m--> 155\u001b[0;31m             \u001b[0mself\u001b[0m\u001b[0;34m.\u001b[0m\u001b[0mf\u001b[0m \u001b[0;34m=\u001b[0m \u001b[0mfun_wrapped\u001b[0m\u001b[0;34m(\u001b[0m\u001b[0mself\u001b[0m\u001b[0;34m.\u001b[0m\u001b[0mx\u001b[0m\u001b[0;34m)\u001b[0m\u001b[0;34m\u001b[0m\u001b[0;34m\u001b[0m\u001b[0m\n\u001b[0m\u001b[1;32m    156\u001b[0m \u001b[0;34m\u001b[0m\u001b[0m\n\u001b[1;32m    157\u001b[0m         \u001b[0mself\u001b[0m\u001b[0;34m.\u001b[0m\u001b[0m_update_fun_impl\u001b[0m \u001b[0;34m=\u001b[0m \u001b[0mupdate_fun\u001b[0m\u001b[0;34m\u001b[0m\u001b[0;34m\u001b[0m\u001b[0m\n",
      "\u001b[0;32m~/opt/anaconda3/lib/python3.9/site-packages/scipy/optimize/_differentiable_functions.py\u001b[0m in \u001b[0;36mfun_wrapped\u001b[0;34m(x)\u001b[0m\n\u001b[1;32m    135\u001b[0m             \u001b[0;31m# Overwriting results in undefined behaviour because\u001b[0m\u001b[0;34m\u001b[0m\u001b[0;34m\u001b[0m\u001b[0m\n\u001b[1;32m    136\u001b[0m             \u001b[0;31m# fun(self.x) will change self.x, with the two no longer linked.\u001b[0m\u001b[0;34m\u001b[0m\u001b[0;34m\u001b[0m\u001b[0m\n\u001b[0;32m--> 137\u001b[0;31m             \u001b[0mfx\u001b[0m \u001b[0;34m=\u001b[0m \u001b[0mfun\u001b[0m\u001b[0;34m(\u001b[0m\u001b[0mnp\u001b[0m\u001b[0;34m.\u001b[0m\u001b[0mcopy\u001b[0m\u001b[0;34m(\u001b[0m\u001b[0mx\u001b[0m\u001b[0;34m)\u001b[0m\u001b[0;34m,\u001b[0m \u001b[0;34m*\u001b[0m\u001b[0margs\u001b[0m\u001b[0;34m)\u001b[0m\u001b[0;34m\u001b[0m\u001b[0;34m\u001b[0m\u001b[0m\n\u001b[0m\u001b[1;32m    138\u001b[0m             \u001b[0;31m# Make sure the function returns a true scalar\u001b[0m\u001b[0;34m\u001b[0m\u001b[0;34m\u001b[0m\u001b[0m\n\u001b[1;32m    139\u001b[0m             \u001b[0;32mif\u001b[0m \u001b[0;32mnot\u001b[0m \u001b[0mnp\u001b[0m\u001b[0;34m.\u001b[0m\u001b[0misscalar\u001b[0m\u001b[0;34m(\u001b[0m\u001b[0mfx\u001b[0m\u001b[0;34m)\u001b[0m\u001b[0;34m:\u001b[0m\u001b[0;34m\u001b[0m\u001b[0;34m\u001b[0m\u001b[0m\n",
      "\u001b[0;32m/var/folders/y6/l6vpn95x35g0swp7xwnqndtc0000gn/T/ipykernel_95683/2918304698.py\u001b[0m in \u001b[0;36mloss_U\u001b[0;34m(U, Y, V, lambda_reg)\u001b[0m\n\u001b[1;32m      1\u001b[0m \u001b[0;32mdef\u001b[0m \u001b[0mloss_U\u001b[0m\u001b[0;34m(\u001b[0m\u001b[0mU\u001b[0m\u001b[0;34m,\u001b[0m \u001b[0mY\u001b[0m\u001b[0;34m,\u001b[0m \u001b[0mV\u001b[0m\u001b[0;34m,\u001b[0m \u001b[0mlambda_reg\u001b[0m\u001b[0;34m)\u001b[0m\u001b[0;34m:\u001b[0m\u001b[0;34m\u001b[0m\u001b[0;34m\u001b[0m\u001b[0m\n\u001b[0;32m----> 2\u001b[0;31m     \u001b[0mU\u001b[0m\u001b[0;34m=\u001b[0m\u001b[0mU\u001b[0m\u001b[0;34m.\u001b[0m\u001b[0mreshape\u001b[0m\u001b[0;34m(\u001b[0m\u001b[0;34m(\u001b[0m\u001b[0md_dim\u001b[0m\u001b[0;34m,\u001b[0m \u001b[0mn_users\u001b[0m\u001b[0;34m)\u001b[0m\u001b[0;34m)\u001b[0m\u001b[0;34m\u001b[0m\u001b[0;34m\u001b[0m\u001b[0m\n\u001b[0m\u001b[1;32m      3\u001b[0m     \u001b[0mloss\u001b[0m \u001b[0;34m=\u001b[0m \u001b[0msum_loss\u001b[0m\u001b[0;34m(\u001b[0m\u001b[0mU\u001b[0m\u001b[0;34m,\u001b[0m \u001b[0mV\u001b[0m\u001b[0;34m,\u001b[0m \u001b[0mY\u001b[0m\u001b[0;34m)\u001b[0m\u001b[0;34m\u001b[0m\u001b[0;34m\u001b[0m\u001b[0m\n\u001b[1;32m      4\u001b[0m     \u001b[0mreg\u001b[0m \u001b[0;34m=\u001b[0m \u001b[0mlambda_reg\u001b[0m \u001b[0;34m*\u001b[0m \u001b[0mnp\u001b[0m\u001b[0;34m.\u001b[0m\u001b[0mlinalg\u001b[0m\u001b[0;34m.\u001b[0m\u001b[0mnorm\u001b[0m\u001b[0;34m(\u001b[0m\u001b[0mU\u001b[0m\u001b[0;34m,\u001b[0m \u001b[0;34m'fro'\u001b[0m\u001b[0;34m)\u001b[0m \u001b[0;34m**\u001b[0m \u001b[0;36m2\u001b[0m\u001b[0;34m\u001b[0m\u001b[0;34m\u001b[0m\u001b[0m\n\u001b[1;32m      5\u001b[0m     \u001b[0;32mreturn\u001b[0m \u001b[0mloss\u001b[0m \u001b[0;34m+\u001b[0m \u001b[0mreg\u001b[0m\u001b[0;34m\u001b[0m\u001b[0;34m\u001b[0m\u001b[0m\n",
      "\u001b[0;31mValueError\u001b[0m: cannot reshape array of size 20 into shape (2,5)"
     ]
    }
   ],
   "source": [
    "N_vals = [10, 20, 30, 40, 50]\n",
    "M_vals = [10, 20, 30, 40, 50]\n",
    "data = []\n",
    "for i in range(len(N_vals)):\n",
    "    for j in range(len(M_vals)):\n",
    "        print(i,j)\n",
    "        avg_U, avg_V = norm_results(d_dim, N_vals[i], M_vals[j])\n",
    "        row= [N_vals[i], M_vals[j], avg_U, avg_V]\n",
    "        data.append(row)"
   ]
  },
  {
   "cell_type": "code",
   "execution_count": null,
   "id": "bd85fcbd",
   "metadata": {},
   "outputs": [],
   "source": []
  },
  {
   "cell_type": "code",
   "execution_count": null,
   "id": "84e90d32",
   "metadata": {},
   "outputs": [],
   "source": []
  }
 ],
 "metadata": {
  "kernelspec": {
   "display_name": "Python 3 (ipykernel)",
   "language": "python",
   "name": "python3"
  },
  "language_info": {
   "codemirror_mode": {
    "name": "ipython",
    "version": 3
   },
   "file_extension": ".py",
   "mimetype": "text/x-python",
   "name": "python",
   "nbconvert_exporter": "python",
   "pygments_lexer": "ipython3",
   "version": "3.9.13"
  }
 },
 "nbformat": 4,
 "nbformat_minor": 5
}
