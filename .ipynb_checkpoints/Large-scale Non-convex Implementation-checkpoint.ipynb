{
 "cells": [
  {
   "cell_type": "code",
   "execution_count": 119,
   "id": "efed0b79",
   "metadata": {},
   "outputs": [],
   "source": [
    "import matplotlib.pyplot as plt\n",
    "import numpy as np\n",
    "import pandas as pd\n",
    "from scipy.linalg import orthogonal_procrustes\n",
    "from sklearn.metrics import mean_squared_error\n",
    "from helpers_pmf import *\n",
    "from helpers_similarity import *\n",
    "from helpers_optimization import *"
   ]
  },
  {
   "cell_type": "code",
   "execution_count": 120,
   "id": "d457406b",
   "metadata": {},
   "outputs": [],
   "source": [
    "mu = 0\n",
    "sigma_u = 1\n",
    "sigma_v = 1\n",
    "d_dim = 2\n",
    "n_users = 3\n",
    "n_movies = 4"
   ]
  },
  {
   "cell_type": "code",
   "execution_count": 123,
   "id": "9f6cd3e5",
   "metadata": {},
   "outputs": [],
   "source": [
    "def generate_U_V_X(mu, sigma_u, sigma_v, d_dim, n_users, n_movies):\n",
    "    \n",
    "    U = np.random.normal(mu, sigma_u, size = (d_dim,n_users))\n",
    "    V = np.random.normal(mu, sigma_v, size = (d_dim,n_movies))\n",
    "    X = np.matmul(U.T,V) \n",
    "    \n",
    "    return U, V, X "
   ]
  },
  {
   "cell_type": "markdown",
   "id": "4a5f04a2",
   "metadata": {},
   "source": [
    "Calculate the difference between each pair of elements in the 2D array X. Then, generate the probability matrix by applying the logistic function $$P(x) = \\frac{e^{x}}{1 + e^{x}}$$ element-wise to the difference matrix, where x is the difference between two elements :"
   ]
  },
  {
   "cell_type": "code",
   "execution_count": 124,
   "id": "fb2ccba8",
   "metadata": {},
   "outputs": [],
   "source": [
    "def generate_P_BT_Luce(X):\n",
    "    \n",
    "    diff = np.subtract.outer(X, X) \n",
    "    diff_3D= np.array([diff[i, :, i, :] for i in range(n_users)])\n",
    "    prob_matrix = np.exp(diff_3D) / (1 + np.exp(diff_3D))\n",
    "    \n",
    "    return prob_matrix, diff_3D\n"
   ]
  },
  {
   "cell_type": "markdown",
   "id": "62e993da",
   "metadata": {},
   "source": [
    "Generate pairwise comparison data $Y_{ijk} = \\pm 1$ for each user and item. The output Y is a $3D$ tensor with the shape $(n\\_users, n\\_items, n\\_items)$. Each entry $Y[i,j,k]$ corresponds to whether user i prefers item j over item k. For example, line 0 of Y corresponds to the pairwise comparisons of user 0 with all items: $Y[0,0,:]$ represents whether user 0 prefers item 0 over all other items $(item\\_0, item\\_1, item\\_2, etc..)$, and so on."
   ]
  },
  {
   "cell_type": "code",
   "execution_count": 125,
   "id": "3be9c48e",
   "metadata": {},
   "outputs": [],
   "source": [
    "def pairwise_comparisons(prob_matrix):\n",
    "    \n",
    "    Y = np.random.binomial(n=1, p=prob_matrix, size=prob_matrix.shape) \n",
    "    Y = np.where(Y == 0, -1, Y)\n",
    "    \n",
    "    return Y"
   ]
  },
  {
   "cell_type": "code",
   "execution_count": 126,
   "id": "b9c13a38",
   "metadata": {},
   "outputs": [],
   "source": [
    "U, V, X = generate_U_V_X(mu, sigma_u, sigma_v, d_dim, n_users, n_movies)"
   ]
  },
  {
   "cell_type": "code",
   "execution_count": 132,
   "id": "0faa7268",
   "metadata": {},
   "outputs": [
    {
     "name": "stdout",
     "output_type": "stream",
     "text": [
      "X :\n",
      "  [[ 0.87277673 -1.2750381  -0.90293949  0.36307287]\n",
      " [-0.45016557 -0.52031421  0.1595789   0.25205107]\n",
      " [ 2.9848343   0.33565863 -1.86747763 -0.50975766]]\n",
      "P :\n",
      "  [[[0.5        0.92598551 0.76025225 0.98740195]\n",
      "  [0.07401449 0.5        0.20221063 0.86234886]\n",
      "  [0.23974775 0.79778937 0.5        0.9611145 ]\n",
      "  [0.01259805 0.13765114 0.0388855  0.5       ]]\n",
      "\n",
      " [[0.5        0.85102733 0.70249005 0.88594198]\n",
      "  [0.14897267 0.5        0.29245347 0.576217  ]\n",
      "  [0.29750995 0.70754653 0.5        0.76687707]\n",
      "  [0.11405802 0.423783   0.23312293 0.5       ]]\n",
      "\n",
      " [[0.5        0.63339127 0.5194305  0.97214697]\n",
      "  [0.36660873 0.5        0.38484537 0.95283422]\n",
      "  [0.4805695  0.61515463 0.5        0.96996231]\n",
      "  [0.02785303 0.04716578 0.03003769 0.5       ]]]\n",
      "Y :\n",
      "  [[[ 1  1  1 -1]\n",
      "  [-1  1 -1 -1]\n",
      "  [-1  1  1 -1]\n",
      "  [-1  1  1  1]]\n",
      "\n",
      " [[ 1  1 -1 -1]\n",
      "  [ 1 -1 -1 -1]\n",
      "  [ 1 -1  1 -1]\n",
      "  [ 1 -1 -1  1]]\n",
      "\n",
      " [[ 1  1  1  1]\n",
      "  [-1 -1  1  1]\n",
      "  [-1 -1  1 -1]\n",
      "  [-1  1  1 -1]]]\n"
     ]
    }
   ],
   "source": [
    "prob_matrix, diff = generate_P_BT_Luce(X)\n",
    "Y = pairwise_comparisons(prob_matrix)\n",
    "\n",
    "print('X :\\n ',X)\n",
    "print('P :\\n ',P)\n",
    "print('Y :\\n ',Y)"
   ]
  },
  {
   "cell_type": "code",
   "execution_count": null,
   "id": "9049a59b",
   "metadata": {},
   "outputs": [],
   "source": []
  }
 ],
 "metadata": {
  "kernelspec": {
   "display_name": "Python 3 (ipykernel)",
   "language": "python",
   "name": "python3"
  },
  "language_info": {
   "codemirror_mode": {
    "name": "ipython",
    "version": 3
   },
   "file_extension": ".py",
   "mimetype": "text/x-python",
   "name": "python",
   "nbconvert_exporter": "python",
   "pygments_lexer": "ipython3",
   "version": "3.9.13"
  }
 },
 "nbformat": 4,
 "nbformat_minor": 5
}
