{
 "cells": [
  {
   "cell_type": "code",
   "execution_count": 1,
   "id": "3bbd557c",
   "metadata": {},
   "outputs": [],
   "source": [
    "import matplotlib.pyplot as plt\n",
    "import numpy as np\n",
    "import pandas as pd\n",
    "from scipy.linalg import orthogonal_procrustes\n",
    "from sklearn.metrics import mean_squared_error\n",
    "from helpers_pmf import *\n",
    "from helpers_similarity import *\n",
    "from helpers_optimization import *"
   ]
  },
  {
   "cell_type": "code",
   "execution_count": 56,
   "id": "a7006d1f",
   "metadata": {},
   "outputs": [],
   "source": [
    "import pandas as pd\n",
    "\n",
    "# Generate the tensor Y\n",
    "mu = 0\n",
    "sigma_u = 1\n",
    "sigma_v = 1\n",
    "#sigma = 0.1\n",
    "d_dim = 2\n",
    "n_users = 3\n",
    "n_movies = 4"
   ]
  },
  {
   "cell_type": "code",
   "execution_count": 57,
   "id": "ee2eb1bd",
   "metadata": {},
   "outputs": [],
   "source": [
    "def generate_U_V_X(mu, sigma_u, sigma_v, d_dim, n_users, n_movies):\n",
    "    U = np.random.normal(mu, sigma_u, size = (d_dim,n_users))\n",
    "    V = np.random.normal(mu, sigma_v, size = (d_dim,n_movies))\n",
    "    #noise = np.random.normal(mu, sigma, size = (n_users,n_movies)) \n",
    "    X = np.matmul(U.T,V) #+noise\n",
    "    return U, V, X "
   ]
  },
  {
   "cell_type": "code",
   "execution_count": 94,
   "id": "1d73fb09",
   "metadata": {},
   "outputs": [],
   "source": [
    "def generate_Y_BT_Luce(X):\n",
    "    # Compute the pairwise differences\n",
    "    diff = np.subtract.outer(X, X) # reduce dimension\n",
    "    # Compute the exponentiated differences\n",
    "    #print(diff)\n",
    "    diff_3D= np.array([diff[i, :, i, :] for i in range(n_users)])\n",
    "    P = np.exp(diff_3D) / (1 + np.exp(diff_3D))\n",
    "    return P, diff_3D\n"
   ]
  },
  {
   "cell_type": "code",
   "execution_count": 95,
   "id": "2b2d64b4",
   "metadata": {},
   "outputs": [],
   "source": [
    "U, V, X = generate_U_V_X(mu, sigma_u, sigma_v, d_dim, n_users, n_movies)"
   ]
  },
  {
   "cell_type": "code",
   "execution_count": 111,
   "id": "9a9e8635",
   "metadata": {},
   "outputs": [
    {
     "name": "stdout",
     "output_type": "stream",
     "text": [
      "X :  [[ 3.59634129  1.06974362  2.44227835 -0.76519373]\n",
      " [ 1.53699722 -0.20568413  0.67781367 -0.51294693]\n",
      " [ 3.34658903  2.79979582  3.26882788 -0.20597638]]\n",
      "P :  [[[0.5        0.92598551 0.76025225 0.98740195]\n",
      "  [0.07401449 0.5        0.20221063 0.86234886]\n",
      "  [0.23974775 0.79778937 0.5        0.9611145 ]\n",
      "  [0.01259805 0.13765114 0.0388855  0.5       ]]\n",
      "\n",
      " [[0.5        0.85102733 0.70249005 0.88594198]\n",
      "  [0.14897267 0.5        0.29245347 0.576217  ]\n",
      "  [0.29750995 0.70754653 0.5        0.76687707]\n",
      "  [0.11405802 0.423783   0.23312293 0.5       ]]\n",
      "\n",
      " [[0.5        0.63339127 0.5194305  0.97214697]\n",
      "  [0.36660873 0.5        0.38484537 0.95283422]\n",
      "  [0.4805695  0.61515463 0.5        0.96996231]\n",
      "  [0.02785303 0.04716578 0.03003769 0.5       ]]]\n",
      "0.366608729894068\n",
      "-0.546793203163352\n",
      "-0.546793203163352\n"
     ]
    }
   ],
   "source": [
    "print('X : ',X)\n",
    "P, diff = generate_Y_BT_Luce(X)\n",
    "print('P : ',P)\n",
    "#diff=diff[0]\n",
    "#Y=Y[0]\n",
    "i=2\n",
    "j=1\n",
    "k=0\n",
    "print(P[i,j,k])\n",
    "print(diff[i,j,k])\n",
    "print(X[i,j]-X[i,k])"
   ]
  },
  {
   "cell_type": "code",
   "execution_count": 113,
   "id": "b9e59f01",
   "metadata": {},
   "outputs": [
    {
     "data": {
      "text/plain": [
       "(3, 4, 4)"
      ]
     },
     "execution_count": 113,
     "metadata": {},
     "output_type": "execute_result"
    }
   ],
   "source": [
    "Y = np.random.binomial(n=1, p=P, size=P.shape) \n",
    "Y = np.where(Y == 0, -1, Y)\n",
    "Y"
   ]
  },
  {
   "cell_type": "code",
   "execution_count": null,
   "id": "217d8b2c",
   "metadata": {},
   "outputs": [],
   "source": []
  }
 ],
 "metadata": {
  "kernelspec": {
   "display_name": "Python 3 (ipykernel)",
   "language": "python",
   "name": "python3"
  },
  "language_info": {
   "codemirror_mode": {
    "name": "ipython",
    "version": 3
   },
   "file_extension": ".py",
   "mimetype": "text/x-python",
   "name": "python",
   "nbconvert_exporter": "python",
   "pygments_lexer": "ipython3",
   "version": "3.9.13"
  }
 },
 "nbformat": 4,
 "nbformat_minor": 5
}
