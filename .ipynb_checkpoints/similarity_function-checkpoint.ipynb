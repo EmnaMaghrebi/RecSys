{
 "cells": [
  {
   "cell_type": "code",
   "execution_count": 1,
   "id": "f938dbaf",
   "metadata": {},
   "outputs": [],
   "source": [
    "import numpy as np\n",
    "import pandas as pd\n",
    "from sklearn.metrics.pairwise import cosine_similarity\n",
    "import scipy.stats as stats"
   ]
  },
  {
   "cell_type": "code",
   "execution_count": 2,
   "id": "809dccd1",
   "metadata": {},
   "outputs": [],
   "source": [
    "\n",
    "# standard deviation of spherical Gaussian distribution\n",
    "mu = 0.0 #zero-mean\n",
    "sigma_u = 1.0\n",
    "sigma_v = 1.0\n",
    "sigma = [0.1, 1.0] #[0.1, 0.3, 1.0, 3, 10]\n",
    "\n",
    "# Generate U, V from the Gaussian distribution\n",
    "D = 2 #dimension\n",
    "N = 10 #nbr of users = 10\n",
    "M = 500 #nbr of movies : M=5*alpha\n",
    "alpha_vals=[1,10] #[1,5,10,50,100]\n",
    "k_best = 10 # \n",
    "nb_iter = 1000 #100\n"
   ]
  },
  {
   "cell_type": "code",
   "execution_count": 3,
   "id": "dbf941a7",
   "metadata": {},
   "outputs": [],
   "source": [
    "def condition(x):\n",
    "    if x<-2:\n",
    "        return 1\n",
    "    elif x>=-2 and x<=-0.5:\n",
    "        return 2\n",
    "    elif x>-0.5 and x<=0.5:\n",
    "        return 3\n",
    "    elif x>0.5 and x<=2:\n",
    "        return 4\n",
    "    else:\n",
    "        return 5"
   ]
  },
  {
   "cell_type": "code",
   "execution_count": 4,
   "id": "f3e9318b",
   "metadata": {},
   "outputs": [],
   "source": [
    "def similarity_list_R(R):\n",
    "    df_R = pd.DataFrame(R)\n",
    "    #df_R = df_R.applymap(condition)\n",
    "    sim_array= cosine_similarity(df_R)[0] # for user1, if user2 we take 2nd row of cos_sim matrix\n",
    "    df_R['similarity_u1']= sim_array.tolist()\n",
    "    df_R= df_R.sort_values(by= 'similarity_u1', ascending= False)\n",
    "    user1_sim_list= df_R.index\n",
    "    return user1_sim_list\n",
    "\n",
    "def similarity_list_U(U):\n",
    "    df_U = pd.DataFrame(U)\n",
    "    sim_array= cosine_similarity(df_U)[0] # for user1, if user2 we take 2nd row of cos_sim matrix\n",
    "    df_U['similarity_u1']= sim_array.tolist()\n",
    "    df_U= df_U.sort_values(by= 'similarity_u1', ascending= False)\n",
    "    user1_sim_list= df_U.index\n",
    "    return user1_sim_list"
   ]
  },
  {
   "cell_type": "code",
   "execution_count": 5,
   "id": "3787e22d",
   "metadata": {},
   "outputs": [],
   "source": [
    "def ranking_similarity(u1_list_U, u1_list_R, k_best):\n",
    "    tau, p_value = stats.kendalltau(u1_list_U[:k_best], u1_list_R[:k_best])\n",
    "    return tau\n"
   ]
  },
  {
   "cell_type": "code",
   "execution_count": 6,
   "id": "523f9528",
   "metadata": {},
   "outputs": [],
   "source": [
    "data= []\n",
    "for s in sigma:\n",
    "    for alpha in alpha_vals:\n",
    "        for k in range(nb_iter):\n",
    "            U = np.random.normal(mu, sigma_u, size=(D,N))\n",
    "            V = np.random.normal(mu, sigma_v, size=(D,M*alpha))\n",
    "            noise = np.random.normal(mu, s, size=(N,M*alpha)) #add noise\n",
    "            R = np.matmul(U.T,V) +noise\n",
    "            similarities= ranking_similarity(similarity_list_U(U.T), similarity_list_R(R), k_best)\n",
    "            row= [M*alpha, s, similarities]\n",
    "            data.append(row)\n",
    "            #print('For sigma^2= {}, for M=: {}'.format(s,M*alpha))\n",
    "            #print('similarity between U and R for user1\\'s similar users:{:.5f}'.format(similarities))"
   ]
  },
  {
   "cell_type": "code",
   "execution_count": 7,
   "id": "610efad1",
   "metadata": {},
   "outputs": [
    {
     "data": {
      "text/html": [
       "<div>\n",
       "<style scoped>\n",
       "    .dataframe tbody tr th:only-of-type {\n",
       "        vertical-align: middle;\n",
       "    }\n",
       "\n",
       "    .dataframe tbody tr th {\n",
       "        vertical-align: top;\n",
       "    }\n",
       "\n",
       "    .dataframe thead th {\n",
       "        text-align: right;\n",
       "    }\n",
       "</style>\n",
       "<table border=\"1\" class=\"dataframe\">\n",
       "  <thead>\n",
       "    <tr style=\"text-align: right;\">\n",
       "      <th></th>\n",
       "      <th>M</th>\n",
       "      <th>sigma</th>\n",
       "      <th>sim_U_R</th>\n",
       "    </tr>\n",
       "  </thead>\n",
       "  <tbody>\n",
       "    <tr>\n",
       "      <th>0</th>\n",
       "      <td>500</td>\n",
       "      <td>0.1</td>\n",
       "      <td>0.688889</td>\n",
       "    </tr>\n",
       "    <tr>\n",
       "      <th>1</th>\n",
       "      <td>500</td>\n",
       "      <td>0.1</td>\n",
       "      <td>1.000000</td>\n",
       "    </tr>\n",
       "    <tr>\n",
       "      <th>2</th>\n",
       "      <td>500</td>\n",
       "      <td>0.1</td>\n",
       "      <td>1.000000</td>\n",
       "    </tr>\n",
       "    <tr>\n",
       "      <th>3</th>\n",
       "      <td>500</td>\n",
       "      <td>0.1</td>\n",
       "      <td>1.000000</td>\n",
       "    </tr>\n",
       "    <tr>\n",
       "      <th>4</th>\n",
       "      <td>500</td>\n",
       "      <td>0.1</td>\n",
       "      <td>0.555556</td>\n",
       "    </tr>\n",
       "  </tbody>\n",
       "</table>\n",
       "</div>"
      ],
      "text/plain": [
       "     M  sigma   sim_U_R\n",
       "0  500    0.1  0.688889\n",
       "1  500    0.1  1.000000\n",
       "2  500    0.1  1.000000\n",
       "3  500    0.1  1.000000\n",
       "4  500    0.1  0.555556"
      ]
     },
     "execution_count": 7,
     "metadata": {},
     "output_type": "execute_result"
    }
   ],
   "source": [
    "df = pd.DataFrame(data, columns=['M','sigma','sim_U_R'])\n",
    "df.head()"
   ]
  },
  {
   "cell_type": "code",
   "execution_count": 8,
   "id": "7b2abf63",
   "metadata": {},
   "outputs": [
    {
     "data": {
      "text/html": [
       "<div>\n",
       "<style scoped>\n",
       "    .dataframe tbody tr th:only-of-type {\n",
       "        vertical-align: middle;\n",
       "    }\n",
       "\n",
       "    .dataframe tbody tr th {\n",
       "        vertical-align: top;\n",
       "    }\n",
       "\n",
       "    .dataframe thead th {\n",
       "        text-align: right;\n",
       "    }\n",
       "</style>\n",
       "<table border=\"1\" class=\"dataframe\">\n",
       "  <thead>\n",
       "    <tr style=\"text-align: right;\">\n",
       "      <th></th>\n",
       "      <th></th>\n",
       "      <th>sim_U_R</th>\n",
       "    </tr>\n",
       "    <tr>\n",
       "      <th>M</th>\n",
       "      <th>sigma</th>\n",
       "      <th></th>\n",
       "    </tr>\n",
       "  </thead>\n",
       "  <tbody>\n",
       "    <tr>\n",
       "      <th rowspan=\"2\" valign=\"top\">500</th>\n",
       "      <th>0.1</th>\n",
       "      <td>0.887022</td>\n",
       "    </tr>\n",
       "    <tr>\n",
       "      <th>1.0</th>\n",
       "      <td>0.518267</td>\n",
       "    </tr>\n",
       "    <tr>\n",
       "      <th rowspan=\"2\" valign=\"top\">5000</th>\n",
       "      <th>0.1</th>\n",
       "      <td>0.928444</td>\n",
       "    </tr>\n",
       "    <tr>\n",
       "      <th>1.0</th>\n",
       "      <td>0.555644</td>\n",
       "    </tr>\n",
       "  </tbody>\n",
       "</table>\n",
       "</div>"
      ],
      "text/plain": [
       "             sim_U_R\n",
       "M    sigma          \n",
       "500  0.1    0.887022\n",
       "     1.0    0.518267\n",
       "5000 0.1    0.928444\n",
       "     1.0    0.555644"
      ]
     },
     "execution_count": 8,
     "metadata": {},
     "output_type": "execute_result"
    }
   ],
   "source": [
    "df_res= df.groupby(by=['M','sigma']).mean()\n",
    "df_res"
   ]
  },
  {
   "cell_type": "code",
   "execution_count": null,
   "id": "60cf0ac9",
   "metadata": {},
   "outputs": [],
   "source": []
  }
 ],
 "metadata": {
  "kernelspec": {
   "display_name": "Python 3 (ipykernel)",
   "language": "python",
   "name": "python3"
  },
  "language_info": {
   "codemirror_mode": {
    "name": "ipython",
    "version": 3
   },
   "file_extension": ".py",
   "mimetype": "text/x-python",
   "name": "python",
   "nbconvert_exporter": "python",
   "pygments_lexer": "ipython3",
   "version": "3.9.13"
  }
 },
 "nbformat": 4,
 "nbformat_minor": 5
}
