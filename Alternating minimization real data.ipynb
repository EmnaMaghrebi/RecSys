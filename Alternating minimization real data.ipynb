{
 "cells": [
  {
   "cell_type": "markdown",
   "metadata": {
    "colab_type": "text",
    "id": "sE0imG0HLDgf"
   },
   "source": [
    "# PMF for Recommender Systems\n",
    "\n",
    "This is an implementation for Probabilistic Matrix Factorisation. We have made use of a subset of the IMDB dataset for training purposes."
   ]
  },
  {
   "cell_type": "code",
   "execution_count": 1,
   "metadata": {
    "colab": {},
    "colab_type": "code",
    "id": "8-65Kyq2Kv8R"
   },
   "outputs": [],
   "source": [
    "import matplotlib.pyplot as plt\n",
    "import numpy as np\n",
    "import pandas as pd\n",
    "from scipy.linalg import orthogonal_procrustes\n",
    "from sklearn.metrics import mean_squared_error\n",
    "from helpers_pmf import *"
   ]
  },
  {
   "cell_type": "code",
   "execution_count": 2,
   "metadata": {},
   "outputs": [],
   "source": [
    "mu = 0.0 \n",
    "sigma_u = 1.0\n",
    "sigma_v = 1.0\n",
    "sigma = 0.2 \n",
    "parameters = {}\n",
    "d_dims = 2 "
   ]
  },
  {
   "cell_type": "code",
   "execution_count": 3,
   "metadata": {},
   "outputs": [
    {
     "data": {
      "text/html": [
       "<div>\n",
       "<style scoped>\n",
       "    .dataframe tbody tr th:only-of-type {\n",
       "        vertical-align: middle;\n",
       "    }\n",
       "\n",
       "    .dataframe tbody tr th {\n",
       "        vertical-align: top;\n",
       "    }\n",
       "\n",
       "    .dataframe thead th {\n",
       "        text-align: right;\n",
       "    }\n",
       "</style>\n",
       "<table border=\"1\" class=\"dataframe\">\n",
       "  <thead>\n",
       "    <tr style=\"text-align: right;\">\n",
       "      <th></th>\n",
       "      <th>user_hash</th>\n",
       "      <th>0071.jpg</th>\n",
       "      <th>0351.jpg</th>\n",
       "      <th>0428.jpg</th>\n",
       "      <th>0546.jpg</th>\n",
       "      <th>0001.jpg</th>\n",
       "      <th>0290.jpg</th>\n",
       "      <th>0527.jpg</th>\n",
       "      <th>0054.jpg</th>\n",
       "      <th>0652.jpg</th>\n",
       "      <th>...</th>\n",
       "      <th>0636.jpg</th>\n",
       "      <th>0409.jpg</th>\n",
       "      <th>0315.jpg</th>\n",
       "      <th>0741.jpg</th>\n",
       "      <th>0356.jpg</th>\n",
       "      <th>0650.jpg</th>\n",
       "      <th>0535.jpg</th>\n",
       "      <th>0382.jpg</th>\n",
       "      <th>0611.jpg</th>\n",
       "      <th>0128.jpg</th>\n",
       "    </tr>\n",
       "  </thead>\n",
       "  <tbody>\n",
       "    <tr>\n",
       "      <th>0</th>\n",
       "      <td>2u7T5g3WNhXLNt8eXLm7iYrvR872</td>\n",
       "      <td>4.0</td>\n",
       "      <td>5.0</td>\n",
       "      <td>5.0</td>\n",
       "      <td>3.0</td>\n",
       "      <td>1.0</td>\n",
       "      <td>1.0</td>\n",
       "      <td>1.0</td>\n",
       "      <td>1.0</td>\n",
       "      <td>1.0</td>\n",
       "      <td>...</td>\n",
       "      <td>0.0</td>\n",
       "      <td>0.0</td>\n",
       "      <td>0.0</td>\n",
       "      <td>0.0</td>\n",
       "      <td>0.0</td>\n",
       "      <td>0.0</td>\n",
       "      <td>0.0</td>\n",
       "      <td>0.0</td>\n",
       "      <td>0.0</td>\n",
       "      <td>0.0</td>\n",
       "    </tr>\n",
       "    <tr>\n",
       "      <th>1</th>\n",
       "      <td>3mHQgTNdhoXXOWEsJmHvbBuOxSb2</td>\n",
       "      <td>1.0</td>\n",
       "      <td>0.0</td>\n",
       "      <td>0.0</td>\n",
       "      <td>1.0</td>\n",
       "      <td>1.0</td>\n",
       "      <td>0.0</td>\n",
       "      <td>0.0</td>\n",
       "      <td>0.0</td>\n",
       "      <td>0.0</td>\n",
       "      <td>...</td>\n",
       "      <td>0.0</td>\n",
       "      <td>0.0</td>\n",
       "      <td>0.0</td>\n",
       "      <td>0.0</td>\n",
       "      <td>0.0</td>\n",
       "      <td>0.0</td>\n",
       "      <td>0.0</td>\n",
       "      <td>0.0</td>\n",
       "      <td>0.0</td>\n",
       "      <td>0.0</td>\n",
       "    </tr>\n",
       "    <tr>\n",
       "      <th>2</th>\n",
       "      <td>4jQ4QWrm9SOsFMLIAajSZ5Usva82</td>\n",
       "      <td>0.0</td>\n",
       "      <td>1.0</td>\n",
       "      <td>0.0</td>\n",
       "      <td>0.0</td>\n",
       "      <td>0.0</td>\n",
       "      <td>0.0</td>\n",
       "      <td>0.0</td>\n",
       "      <td>0.0</td>\n",
       "      <td>0.0</td>\n",
       "      <td>...</td>\n",
       "      <td>0.0</td>\n",
       "      <td>0.0</td>\n",
       "      <td>0.0</td>\n",
       "      <td>0.0</td>\n",
       "      <td>0.0</td>\n",
       "      <td>0.0</td>\n",
       "      <td>0.0</td>\n",
       "      <td>0.0</td>\n",
       "      <td>0.0</td>\n",
       "      <td>0.0</td>\n",
       "    </tr>\n",
       "    <tr>\n",
       "      <th>3</th>\n",
       "      <td>5HBSsBrc7LSwIQyRgTqY7Zf641f2</td>\n",
       "      <td>1.0</td>\n",
       "      <td>1.0</td>\n",
       "      <td>0.0</td>\n",
       "      <td>1.0</td>\n",
       "      <td>1.0</td>\n",
       "      <td>0.0</td>\n",
       "      <td>0.0</td>\n",
       "      <td>0.0</td>\n",
       "      <td>0.0</td>\n",
       "      <td>...</td>\n",
       "      <td>0.0</td>\n",
       "      <td>0.0</td>\n",
       "      <td>0.0</td>\n",
       "      <td>0.0</td>\n",
       "      <td>0.0</td>\n",
       "      <td>0.0</td>\n",
       "      <td>0.0</td>\n",
       "      <td>0.0</td>\n",
       "      <td>0.0</td>\n",
       "      <td>0.0</td>\n",
       "    </tr>\n",
       "    <tr>\n",
       "      <th>4</th>\n",
       "      <td>69AHmihCRKbJbXXM9GQ4FT7NSU32</td>\n",
       "      <td>5.0</td>\n",
       "      <td>4.0</td>\n",
       "      <td>2.0</td>\n",
       "      <td>5.0</td>\n",
       "      <td>1.0</td>\n",
       "      <td>1.0</td>\n",
       "      <td>1.0</td>\n",
       "      <td>1.0</td>\n",
       "      <td>1.0</td>\n",
       "      <td>...</td>\n",
       "      <td>0.0</td>\n",
       "      <td>0.0</td>\n",
       "      <td>0.0</td>\n",
       "      <td>0.0</td>\n",
       "      <td>0.0</td>\n",
       "      <td>0.0</td>\n",
       "      <td>0.0</td>\n",
       "      <td>0.0</td>\n",
       "      <td>0.0</td>\n",
       "      <td>0.0</td>\n",
       "    </tr>\n",
       "  </tbody>\n",
       "</table>\n",
       "<p>5 rows × 223 columns</p>\n",
       "</div>"
      ],
      "text/plain": [
       "                      user_hash  0071.jpg  0351.jpg  0428.jpg  0546.jpg  \\\n",
       "0  2u7T5g3WNhXLNt8eXLm7iYrvR872       4.0       5.0       5.0       3.0   \n",
       "1  3mHQgTNdhoXXOWEsJmHvbBuOxSb2       1.0       0.0       0.0       1.0   \n",
       "2  4jQ4QWrm9SOsFMLIAajSZ5Usva82       0.0       1.0       0.0       0.0   \n",
       "3  5HBSsBrc7LSwIQyRgTqY7Zf641f2       1.0       1.0       0.0       1.0   \n",
       "4  69AHmihCRKbJbXXM9GQ4FT7NSU32       5.0       4.0       2.0       5.0   \n",
       "\n",
       "   0001.jpg  0290.jpg  0527.jpg  0054.jpg  0652.jpg  ...  0636.jpg  0409.jpg  \\\n",
       "0       1.0       1.0       1.0       1.0       1.0  ...       0.0       0.0   \n",
       "1       1.0       0.0       0.0       0.0       0.0  ...       0.0       0.0   \n",
       "2       0.0       0.0       0.0       0.0       0.0  ...       0.0       0.0   \n",
       "3       1.0       0.0       0.0       0.0       0.0  ...       0.0       0.0   \n",
       "4       1.0       1.0       1.0       1.0       1.0  ...       0.0       0.0   \n",
       "\n",
       "   0315.jpg  0741.jpg  0356.jpg  0650.jpg  0535.jpg  0382.jpg  0611.jpg  \\\n",
       "0       0.0       0.0       0.0       0.0       0.0       0.0       0.0   \n",
       "1       0.0       0.0       0.0       0.0       0.0       0.0       0.0   \n",
       "2       0.0       0.0       0.0       0.0       0.0       0.0       0.0   \n",
       "3       0.0       0.0       0.0       0.0       0.0       0.0       0.0   \n",
       "4       0.0       0.0       0.0       0.0       0.0       0.0       0.0   \n",
       "\n",
       "   0128.jpg  \n",
       "0       0.0  \n",
       "1       0.0  \n",
       "2       0.0  \n",
       "3       0.0  \n",
       "4       0.0  \n",
       "\n",
       "[5 rows x 223 columns]"
      ]
     },
     "execution_count": 3,
     "metadata": {},
     "output_type": "execute_result"
    }
   ],
   "source": [
    "realdata_df = pd.read_csv('data/ratings_per_user.csv')\n",
    "realdata_df.head()"
   ]
  },
  {
   "cell_type": "code",
   "execution_count": 4,
   "metadata": {},
   "outputs": [
    {
     "data": {
      "text/plain": [
       "array([[4., 5., 5., ..., 0., 0., 0.],\n",
       "       [1., 0., 0., ..., 0., 0., 0.],\n",
       "       [0., 1., 0., ..., 0., 0., 0.],\n",
       "       ...,\n",
       "       [0., 0., 0., ..., 0., 0., 0.],\n",
       "       [4., 2., 3., ..., 0., 0., 0.],\n",
       "       [0., 0., 0., ..., 0., 0., 0.]])"
      ]
     },
     "execution_count": 4,
     "metadata": {},
     "output_type": "execute_result"
    }
   ],
   "source": [
    "ratings_matrix_df = realdata_df.set_index('user_hash')\n",
    "ratings_matrix = ratings_matrix_df.values\n",
    "n_users = ratings_matrix.shape[0]\n",
    "n_items = ratings_matrix.shape[1]\n",
    "ratings_matrix "
   ]
  },
  {
   "cell_type": "markdown",
   "metadata": {
    "colab_type": "text",
    "id": "2C8nnfseBTOM"
   },
   "source": [
    "We will now initialise our parameters. First the $V$ matrix can be initialised randomly using the following distribution:\n",
    "\n",
    "\\begin{equation}\n",
    "\\large\n",
    "V \\sim \\mathcal N\\left(0, \\frac {1} {\\lambda_V}\\right)\n",
    "\\end{equation}\n",
    "\n",
    "Let's remember that:\n",
    "\n",
    "\\begin{equation}\n",
    "\\large\n",
    "U \\in \\mathbb R^{D\\times N}, \\qquad V \\in \\mathbb R^{D\\times M}\n",
    "\\end{equation}\n",
    "\n",
    "Where $N$ is __n_users__, $M$ is __n_movies__ and $D$ is __n_dims__."
   ]
  },
  {
   "cell_type": "code",
   "execution_count": 5,
   "metadata": {
    "colab": {},
    "colab_type": "code",
    "id": "HaM_fnR0Nd_i"
   },
   "outputs": [],
   "source": [
    "def init_params_real_data(sigma_U, sigma_V, mu, sigma, d_dims, n_users, n_movies, ratings_matrix):    \n",
    "    U_init = np.random.normal(mu, sigma_U, (d_dims, n_users))\n",
    "    V_init = np.random.normal(mu, sigma_V, (d_dims, n_movies))    \n",
    "    \n",
    "    parameters['R'] = ratings_matrix\n",
    "    parameters['U_result'] = U_init\n",
    "    parameters['V_result'] = V_init\n",
    "    parameters['lambda_U'] = sigma**2/sigma_U**2\n",
    "    parameters['lambda_V'] = sigma**2/sigma_V**2"
   ]
  },
  {
   "cell_type": "markdown",
   "metadata": {},
   "source": [
    "create __ratings__ dataframe and append rating matrix"
   ]
  },
  {
   "cell_type": "code",
   "execution_count": 43,
   "metadata": {},
   "outputs": [],
   "source": [
    "def create_real_data_df(n_users, n_movies):   \n",
    "    df = pd.DataFrame(columns=['userID', 'movieID'])\n",
    "\n",
    "    df['userID'] = np.repeat(np.arange(1, n_users+1, 1), n_movies)\n",
    "    df['movieID'] = np.tile(np.arange(1, n_movies+1, 1), n_users)     \n",
    "    R = parameters['R']\n",
    "    df['rating'] = R.reshape(n_users*n_movies)\n",
    "\n",
    "    return df "
   ]
  },
  {
   "cell_type": "markdown",
   "metadata": {},
   "source": [
    "__split__ the dataset into train and test sets"
   ]
  },
  {
   "cell_type": "code",
   "execution_count": 44,
   "metadata": {},
   "outputs": [],
   "source": [
    "def split_train_test(df, train_size=0.75):\n",
    "    \n",
    "    df_copy = df.copy()\n",
    "    train_set = df_copy.sample(frac=train_size, random_state=0)\n",
    "    test_set = df_copy.drop(train_set.index)\n",
    "    \n",
    "    return train_set, test_set\n",
    "     "
   ]
  },
  {
   "cell_type": "markdown",
   "metadata": {
    "colab_type": "text",
    "id": "ntiPL_EnCLe-"
   },
   "source": [
    "Let's now implement the function that updates U and V. The elements of both matrices can be updated using the following expressions:\n",
    "\n",
    "\\begin{equation}\n",
    "\\large\n",
    "U_i=\\left[\\left(V_jV_j^T\\right)_{j\\in\\Omega_{U_i}}+\\lambda_UI\\right]^{-1}\\left(R_{ij}V_j^T\\right)_{j\\in\\Omega_{U_i}}\n",
    "\\end{equation}\n",
    "\n",
    "\\begin{equation}\n",
    "\\large\n",
    "V_j=\\left[\\left(U_iU_i^T\\right)_{i\\in\\Omega_{V_j}}+\\lambda_VI\\right]^{-1}\\left(R_{ij}U_i^T\\right)_{i\\in\\Omega_{V_j}}\n",
    "\\end{equation}"
   ]
  },
  {
   "cell_type": "code",
   "execution_count": 45,
   "metadata": {
    "colab": {},
    "colab_type": "code",
    "id": "DjKB4TzFkoJx"
   },
   "outputs": [],
   "source": [
    "def update_parameters(n_users, n_movies):\n",
    "    U = parameters['U_result']\n",
    "    V = parameters['V_result']\n",
    "    R = parameters['R']\n",
    "    lambda_U = parameters['lambda_U']\n",
    "    lambda_V = parameters['lambda_V']\n",
    "\n",
    "    for i in range(n_users):\n",
    "        V_j = V[:, R[i, :] > 0]\n",
    "        U[:, i] = np.dot(np.linalg.inv(np.dot(V_j, V_j.T) + lambda_U * np.identity(d_dims)), np.dot(R[i, R[i, :] > 0], V_j.T))\n",
    "        #RV = R[i] @ V.T\n",
    "        #print('RV:',RV.shape)\n",
    "        #print('V.V^T:',np.dot(V,V.T).shape)\n",
    "        \n",
    "    for j in range(n_movies):\n",
    "        U_i = U[:, R[:, j] > 0]\n",
    "        V[:, j] = np.dot(np.linalg.inv(np.dot(U_i, U_i.T) + lambda_V * np.identity(d_dims)), np.dot(R[R[:, j] > 0, j], U_i.T))\n",
    "        #RU = R[:, j] @ U.T\n",
    "        #Uinv = np.linalg.inv(np.dot(U, U.T) + lambda_V * np.identity(d_dims))\n",
    "        #V[:, j] = Uinv @ RU\n",
    " \n",
    "    parameters['U_result'] = U\n",
    "    parameters['V_result'] = V"
   ]
  },
  {
   "cell_type": "markdown",
   "metadata": {
    "colab_type": "text",
    "id": "hQ5in2inJApx"
   },
   "source": [
    "Now let's implement the __Log-a posteriori__:\n",
    "\n",
    "\\begin{equation}\n",
    "\\large\n",
    "L=-\\frac 1 2 \\left(\\sum_{i=1}^N\\sum_{j=1}^M(R_{ij}-U_i^TV_j)_{(i,j) \\in \\Omega_{R_{ij}}}^2+\\lambda_U\\sum_{i=1}^N\\|U_i\\|_{Fro}^2+\\lambda_V\\sum_{j=1}^M\\|V_j\\|_{Fro}^2\\right)\n",
    "\\end{equation}"
   ]
  },
  {
   "cell_type": "code",
   "execution_count": 46,
   "metadata": {
    "colab": {},
    "colab_type": "code",
    "id": "5PUgHUp2MeZI"
   },
   "outputs": [],
   "source": [
    "def log_a_posteriori():\n",
    "    lambda_U = parameters['lambda_U']\n",
    "    lambda_V = parameters['lambda_V']\n",
    "    U_result = parameters['U_result']\n",
    "    V_result = parameters['V_result']\n",
    "    R = parameters['R']\n",
    "    UV = np.dot(U_result.T, V_result)\n",
    "    R_UV = (R[R > 0] - UV[R > 0])\n",
    "    \n",
    "    return -0.5 * (np.sum(np.dot(R_UV, R_UV.T)) + lambda_U * np.sum(np.dot(U_result, U_result.T)) + \\\n",
    "                   lambda_V * np.sum(np.dot(V_result, V_result.T)))\n"
   ]
  },
  {
   "cell_type": "markdown",
   "metadata": {
    "colab_type": "text",
    "id": "6R1ePeME7qSW"
   },
   "source": [
    "For the purposes of __scaling__, we need the maximum and minimum rating values."
   ]
  },
  {
   "cell_type": "code",
   "execution_count": 47,
   "metadata": {
    "colab": {},
    "colab_type": "code",
    "id": "YNIlELvx0M0W"
   },
   "outputs": [],
   "source": [
    "def update_max_min_ratings():\n",
    "    U = parameters['U_result']\n",
    "    V = parameters['V_result']\n",
    "\n",
    "    R = U.T @ V\n",
    "    min_rating = np.min(R)\n",
    "    max_rating = np.max(R)\n",
    "\n",
    "    parameters['min_rating'] = min_rating\n",
    "    parameters['max_rating'] = max_rating"
   ]
  },
  {
   "cell_type": "markdown",
   "metadata": {
    "colab_type": "text",
    "id": "68fmuPQrPRnU"
   },
   "source": [
    "The __predict__ function allows us to predict the rating value given the __user_id__ and the __movie_id__ parameters. The value has been scaled within the range 0-5"
   ]
  },
  {
   "cell_type": "code",
   "execution_count": 54,
   "metadata": {
    "colab": {},
    "colab_type": "code",
    "id": "neTN8ejbQ5dg"
   },
   "outputs": [],
   "source": [
    "def predict(user_id, movie_id):\n",
    "    U = parameters['U_result']\n",
    "    V = parameters['V_result']\n",
    "    user_id = int(user_id)\n",
    "    movie_id = int(movie_id)\n",
    "    r_ij = U[:, user_id-1].T.reshape(1, -1) @ V[:, movie_id-1].reshape(-1, 1) #user_id-1 shouled be changed\n",
    "    max_rating = parameters['max_rating']\n",
    "    min_rating = parameters['min_rating']\n",
    "\n",
    "    return 0 if max_rating == min_rating else ((r_ij[0][0] - min_rating) / (max_rating - min_rating)) * 5.0"
   ]
  },
  {
   "cell_type": "code",
   "execution_count": 55,
   "metadata": {},
   "outputs": [],
   "source": [
    "def frob(X, Y, N):\n",
    "    return np.linalg.norm(X - Y, 'fro')/np.sqrt(N)"
   ]
  },
  {
   "cell_type": "code",
   "execution_count": 56,
   "metadata": {},
   "outputs": [],
   "source": [
    "def compare_results(n_users, n_movies):\n",
    "    R = parameters['R']\n",
    "    U_result = parameters['U_result']\n",
    "    V_result = parameters['V_result']\n",
    "    \n",
    "    R_result = U_result.T @ V_result\n",
    "    diff_norm_R = frob(R, R_result , n_movies*n_users) \n",
    "    \n",
    "    return diff_norm_R\n"
   ]
  },
  {
   "cell_type": "markdown",
   "metadata": {
    "colab_type": "text",
    "id": "7Rt2ol1j7OJ0"
   },
   "source": [
    "The __evaluate__ function will calculate the __RMSE__ of the model given a dataset (train or test)."
   ]
  },
  {
   "cell_type": "code",
   "execution_count": 60,
   "metadata": {},
   "outputs": [],
   "source": [
    "def evaluate(dataset):\n",
    "    ground_truths = []\n",
    "    predictions = []\n",
    "    \n",
    "    for index, row in dataset.iterrows():    \n",
    "        ground_truths.append(row.loc['rating'])\n",
    "        #print(index,row.loc['userID'])\n",
    "        predictions.append(predict(row.loc['userID'], row.loc['movieID'])) \n",
    "\n",
    "    return mean_squared_error(ground_truths, predictions, squared=False)"
   ]
  },
  {
   "cell_type": "markdown",
   "metadata": {
    "colab_type": "text",
    "id": "AZGq6J9pDl5O"
   },
   "source": [
    "The __train__ function implements the code necessary for training the model as well as recording the __RMSE__ values on the training and testing sets."
   ]
  },
  {
   "cell_type": "code",
   "execution_count": 61,
   "metadata": {
    "colab": {},
    "colab_type": "code",
    "id": "VYwTD_nBNO5F"
   },
   "outputs": [],
   "source": [
    "def train(n_epochs, train_set, test_set, n_users, n_movies):\n",
    "\n",
    "    log_aps = []\n",
    "    rmse_train = []\n",
    "    rmse_test = []\n",
    "\n",
    "    update_max_min_ratings()\n",
    "    rmse_train.append(evaluate(train_set))\n",
    "    rmse_test.append(evaluate(test_set))\n",
    "    \n",
    "    k = 0\n",
    "    while True:\n",
    "        if len(log_aps) > 2:\n",
    "            if np.abs(log_aps[-1] - log_aps[-2]) < 0.0001:\n",
    "                break\n",
    "        update_parameters(n_users, n_movies)\n",
    "        log_ap = log_a_posteriori()\n",
    "        log_aps.append(log_ap)\n",
    "        k += 1\n",
    "        if (k + 1) % 25 == 0: \n",
    "            update_max_min_ratings()\n",
    "            rmse_train.append(evaluate(train_set))\n",
    "            rmse_test.append(evaluate(test_set))\n",
    "            print('Log p a-posteriori at iteration', k + 1, ':', log_ap)\n",
    "\n",
    "    update_max_min_ratings()\n",
    "    diff_norm_R = compare_results(n_users, n_movies)\n",
    "    return log_aps, rmse_train, rmse_test, diff_norm_R "
   ]
  },
  {
   "cell_type": "code",
   "execution_count": null,
   "metadata": {},
   "outputs": [],
   "source": [
    "d_vals = [2, 3, 4, 5, 6]#, 100]\n",
    "data = []\n",
    "np. set_printoptions(precision = 6)\n",
    "print(sigma_u, sigma_v, sigma)\n",
    "for i in range(len(d_vals)):\n",
    "    print(f'i:{i}') \n",
    "    init_params_real_data(sigma_u/sigma, sigma_v/sigma, mu, sigma, d_dims, n_users, n_items, ratings_matrix)    \n",
    "    df_ratings = create_real_data_df(n_users, n_items) \n",
    "    train_set, test_set = split_train_test(df_ratings, train_size=0.95)\n",
    "    log_aps, rmse_train, rmse_test, diff_R = train(10, train_set, test_set, n_users, n_items) \n",
    "\n",
    "    row= [n_users, n_items, d_vals[i], diff_R, rmse_train[-1], rmse_test[-1]]\n",
    "    print(row) # to check progress\n",
    "    data.append(row)       "
   ]
  },
  {
   "cell_type": "markdown",
   "metadata": {
    "colab_type": "text",
    "id": "SJbozBbQPk9A"
   },
   "source": [
    "Let's train our model!"
   ]
  },
  {
   "cell_type": "code",
   "execution_count": 67,
   "metadata": {},
   "outputs": [
    {
     "name": "stdout",
     "output_type": "stream",
     "text": [
      "Log p a-posteriori at iteration 25 : -347.86871452596495\n",
      "Log p a-posteriori at iteration 50 : -333.54616222898625\n",
      "Log p a-posteriori at iteration 75 : -325.41823726182645\n",
      "Log p a-posteriori at iteration 100 : -320.03983365665016\n",
      "Log p a-posteriori at iteration 125 : -316.2015661192943\n",
      "Log p a-posteriori at iteration 150 : -313.3127372045029\n",
      "Log p a-posteriori at iteration 175 : -311.04944384831475\n",
      "Log p a-posteriori at iteration 200 : -309.2193709394803\n",
      "Log p a-posteriori at iteration 225 : -307.7010358297745\n",
      "Log p a-posteriori at iteration 250 : -306.4140386439126\n",
      "Log p a-posteriori at iteration 275 : -305.30367483951994\n",
      "Log p a-posteriori at iteration 300 : -304.3326419565017\n",
      "Log p a-posteriori at iteration 325 : -303.47583964435603\n",
      "Log p a-posteriori at iteration 350 : -302.7156801841607\n",
      "Log p a-posteriori at iteration 375 : -302.03774090232696\n",
      "Log p a-posteriori at iteration 400 : -301.42889397659144\n",
      "Log p a-posteriori at iteration 425 : -300.8778323094025\n",
      "Log p a-posteriori at iteration 450 : -300.3755492462415\n",
      "Log p a-posteriori at iteration 475 : -299.9150371461098\n",
      "Log p a-posteriori at iteration 500 : -299.4907583780862\n",
      "Log p a-posteriori at iteration 525 : -299.0982271807858\n",
      "Log p a-posteriori at iteration 550 : -298.733734393388\n",
      "Log p a-posteriori at iteration 575 : -298.39416758917037\n",
      "Log p a-posteriori at iteration 600 : -298.0768871092885\n",
      "Log p a-posteriori at iteration 625 : -297.77963555097097\n",
      "Log p a-posteriori at iteration 650 : -297.5004688381082\n",
      "Log p a-posteriori at iteration 675 : -297.23770230393495\n",
      "Log p a-posteriori at iteration 700 : -296.9898677964761\n",
      "Log p a-posteriori at iteration 725 : -296.7556791536549\n",
      "Log p a-posteriori at iteration 750 : -296.5340041637206\n",
      "Log p a-posteriori at iteration 775 : -296.3238416175623\n",
      "Log p a-posteriori at iteration 800 : -296.1243023978647\n",
      "Log p a-posteriori at iteration 825 : -295.9345937945\n",
      "Log p a-posteriori at iteration 850 : -295.7540064169329\n",
      "Log p a-posteriori at iteration 875 : -295.5819032111615\n",
      "Log p a-posteriori at iteration 900 : -295.4177101929333\n",
      "Log p a-posteriori at iteration 925 : -295.2609085890522\n",
      "Log p a-posteriori at iteration 950 : -295.1110281405769\n",
      "Log p a-posteriori at iteration 975 : -294.96764137000963\n",
      "Log p a-posteriori at iteration 1000 : -294.8303586524561\n",
      "Log p a-posteriori at iteration 1025 : -294.6988239606245\n",
      "Log p a-posteriori at iteration 1050 : -294.57271117727305\n",
      "Log p a-posteriori at iteration 1075 : -294.4517208876531\n",
      "Log p a-posteriori at iteration 1100 : -294.335577579724\n",
      "Log p a-posteriori at iteration 1125 : -294.22402719219065\n",
      "Log p a-posteriori at iteration 1150 : -294.1168349603892\n",
      "Log p a-posteriori at iteration 1175 : -294.01378351817687\n",
      "Log p a-posteriori at iteration 1200 : -293.9146712206396\n",
      "Log p a-posteriori at iteration 1225 : -293.8193106579191\n",
      "Log p a-posteriori at iteration 1250 : -293.72752733499607\n",
      "Log p a-posteriori at iteration 1275 : -293.63915849602375\n",
      "Log p a-posteriori at iteration 1300 : -293.5540520749543\n",
      "Log p a-posteriori at iteration 1325 : -293.47206575681463\n",
      "Log p a-posteriori at iteration 1350 : -293.3930661362043\n",
      "Log p a-posteriori at iteration 1375 : -293.3169279614373\n",
      "Log p a-posteriori at iteration 1400 : -293.2435334543279\n",
      "Log p a-posteriori at iteration 1425 : -293.1727716969525\n",
      "Log p a-posteriori at iteration 1450 : -293.1045380778474\n",
      "Log p a-posteriori at iteration 1475 : -293.03873379108626\n",
      "Log p a-posteriori at iteration 1500 : -292.97526538249167\n",
      "Log p a-posteriori at iteration 1525 : -292.9140443379635\n",
      "Log p a-posteriori at iteration 1550 : -292.85498670950585\n",
      "Log p a-posteriori at iteration 1575 : -292.7980127750735\n",
      "Log p a-posteriori at iteration 1600 : -292.7430467288116\n",
      "Log p a-posteriori at iteration 1625 : -292.6900163986535\n",
      "Log p a-posteriori at iteration 1650 : -292.63885298860004\n",
      "Log p a-posteriori at iteration 1675 : -292.5894908432867\n",
      "Log p a-posteriori at iteration 1700 : -292.5418672327214\n",
      "Log p a-posteriori at iteration 1725 : -292.4959221552973\n",
      "Log p a-posteriori at iteration 1750 : -292.45159815738594\n",
      "Log p a-posteriori at iteration 1775 : -292.4088401679972\n",
      "Log p a-posteriori at iteration 1800 : -292.36759534714275\n",
      "Log p a-posteriori at iteration 1825 : -292.327812946679\n",
      "Log p a-posteriori at iteration 1850 : -292.28944418253013\n",
      "Log p a-posteriori at iteration 1875 : -292.2524421172882\n",
      "Log p a-posteriori at iteration 1900 : -292.21676155229824\n",
      "Log p a-posteriori at iteration 1925 : -292.18235892840653\n",
      "Log p a-posteriori at iteration 1950 : -292.1491922346329\n",
      "Log p a-posteriori at iteration 1975 : -292.1172209240946\n",
      "Log p a-posteriori at iteration 2000 : -292.0864058365691\n",
      "Log p a-posteriori at iteration 2025 : -292.0567091271339\n",
      "Log p a-posteriori at iteration 2050 : -292.02809420037636\n",
      "Log p a-posteriori at iteration 2075 : -292.0005256497025\n",
      "Log p a-posteriori at iteration 2100 : -291.97396920132184\n",
      "Log p a-posteriori at iteration 2125 : -291.94839166251126\n",
      "Log p a-posteriori at iteration 2150 : -291.923760873802\n",
      "Log p a-posteriori at iteration 2175 : -291.9000456647573\n",
      "Log p a-posteriori at iteration 2200 : -291.8772158130376\n",
      "Log p a-posteriori at iteration 2225 : -291.85524200647313\n",
      "Log p a-posteriori at iteration 2250 : -291.83409580788907\n",
      "Log p a-posteriori at iteration 2275 : -291.8137496224412\n",
      "Log p a-posteriori at iteration 2300 : -291.7941766672521\n",
      "Log p a-posteriori at iteration 2325 : -291.7753509431375\n",
      "Log p a-posteriori at iteration 2350 : -291.75724720824667\n",
      "Log p a-posteriori at iteration 2375 : -291.7398409534398\n",
      "Log p a-posteriori at iteration 2400 : -291.72310837925\n",
      "Log p a-posteriori at iteration 2425 : -291.70702637428275\n",
      "Log p a-posteriori at iteration 2450 : -291.69157249492275\n",
      "Log p a-posteriori at iteration 2475 : -291.6767249462217\n",
      "Log p a-posteriori at iteration 2500 : -291.6624625638626\n",
      "Log p a-posteriori at iteration 2525 : -291.64876479709216\n",
      "Log p a-posteriori at iteration 2550 : -291.63561169252677\n",
      "Log p a-posteriori at iteration 2575 : -291.6229838787533\n",
      "Log p a-posteriori at iteration 2600 : -291.61086255163815\n",
      "Log p a-posteriori at iteration 2625 : -291.5992294602795\n",
      "Log p a-posteriori at iteration 2650 : -291.5880668935345\n",
      "Log p a-posteriori at iteration 2675 : -291.5773576670643\n",
      "Log p a-posteriori at iteration 2700 : -291.56708511084344\n",
      "Log p a-posteriori at iteration 2725 : -291.5572330570871\n",
      "Log p a-posteriori at iteration 2750 : -291.54778582855096\n",
      "Log p a-posteriori at iteration 2775 : -291.53872822716505\n",
      "Log p a-posteriori at iteration 2800 : -291.53004552297307\n",
      "Log p a-posteriori at iteration 2825 : -291.52172344333826\n",
      "Log p a-posteriori at iteration 2850 : -291.51374816239553\n",
      "Log p a-posteriori at iteration 2875 : -291.5061062907223\n",
      "Log p a-posteriori at iteration 2900 : -291.49878486521175\n",
      "Log p a-posteriori at iteration 2925 : -291.49177133912417\n",
      "Log p a-posteriori at iteration 2950 : -291.4850535723092\n",
      "Log p a-posteriori at iteration 2975 : -291.47861982157787\n",
      "Log p a-posteriori at iteration 3000 : -291.4724587312196\n",
      "Log p a-posteriori at iteration 3025 : -291.46655932365326\n",
      "Log p a-posteriori at iteration 3050 : -291.46091099020043\n",
      "Log p a-posteriori at iteration 3075 : -291.45550348198486\n",
      "Log p a-posteriori at iteration 3100 : -291.45032690094195\n",
      "Log p a-posteriori at iteration 3125 : -291.4453716909444\n",
      "Log p a-posteriori at iteration 3150 : -291.44062862903627\n",
      "Log p a-posteriori at iteration 3175 : -291.43608881677477\n",
      "Log p a-posteriori at iteration 3200 : -291.4317436716828\n",
      "Log p a-posteriori at iteration 3225 : -291.42758491880636\n",
      "Log p a-posteriori at iteration 3250 : -291.4236045823825\n",
      "Log p a-posteriori at iteration 3275 : -291.41979497761645\n",
      "Log p a-posteriori at iteration 3300 : -291.41614870256956\n",
      "Log p a-posteriori at iteration 3325 : -291.4126586301624\n",
      "Log p a-posteriori at iteration 3350 : -291.40931790028714\n",
      "Log p a-posteriori at iteration 3375 : -291.4061199120446\n",
      "Log p a-posteriori at iteration 3400 : -291.4030583160956\n",
      "Log p a-posteriori at iteration 3425 : -291.40012700713464\n",
      "Log p a-posteriori at iteration 3450 : -291.3973201164894\n",
      "Log p a-posteriori at iteration 3475 : -291.3946320048445\n",
      "Log p a-posteriori at iteration 3500 : -291.3920572550948\n"
     ]
    }
   ],
   "source": [
    "init_params_real_data(sigma_u/sigma, sigma_v/sigma, mu, sigma, d_dims, n_users, n_items, ratings_matrix)    \n",
    "df_ratings = create_real_data_df(n_users, n_items) \n",
    "train_set, test_set = split_train_test(df_ratings, train_size=0.95)\n",
    "log_aps, rmse_train, rmse_test, diff_R = train(10, train_set, test_set, n_users, n_items)   "
   ]
  },
  {
   "cell_type": "code",
   "execution_count": 518,
   "metadata": {},
   "outputs": [
    {
     "data": {
      "image/png": "[encoded data removed]",
      "text/plain": [
       "<Figure size 1200x600 with 2 Axes>"
      ]
     },
     "metadata": {},
     "output_type": "display_data"
    }
   ],
   "source": [
    "df = pd.DataFrame(data, columns = ['N', 'M', 'avg_R', 'avg_U', 'avg_V'])\n",
    "#df.to_csv('results_optimization.csv')\n",
    "\n",
    "fig, (ax1, ax2) = plt.subplots(1, 2, figsize=(12, 6))\n",
    "# plot as a function of M for avg_U and as a function of N fro avg_V\n",
    "\n",
    "for n in df['N'].unique():\n",
    "    df_m = df[df['N'] == n]\n",
    "    ax1.plot(df_m['M'], df_m['avg_R'], marker='o', label=f'N={n}')\n",
    "\n",
    "for m in df['M'].unique():\n",
    "    df_n = df[df['M'] == m]\n",
    "    ax2.plot(df_n['N'], df_n['avg_R'], marker='o', label=f'M={m}')\n",
    "\n",
    "ax1.set_xlabel('M')\n",
    "ax1.set_ylabel('avg_R')\n",
    "ax1.set_title('Variation of avg_R for varying N and M')\n",
    "ax1.legend()\n",
    "\n",
    "ax2.set_xlabel('N')\n",
    "ax2.set_ylabel('avg_R')\n",
    "ax2.set_title('Variation of avg_R for varying N and M')\n",
    "ax2.legend()\n",
    "\n",
    "plt.show()"
   ]
  },
  {
   "cell_type": "markdown",
   "metadata": {
    "colab_type": "text",
    "id": "TKzp4hukECUE"
   },
   "source": [
    "Now let's take a look at some graphs"
   ]
  },
  {
   "cell_type": "code",
   "execution_count": 68,
   "metadata": {
    "colab": {
     "base_uri": "https://localhost:8080/"
    },
    "colab_type": "code",
    "id": "yRr_wko07e37",
    "outputId": "46313b0b-5d4a-4448-8638-12ef81baf4c2"
   },
   "outputs": [
    {
     "data": {
      "image/png": "[encoded data removed]",
      "text/plain": [
       "<Figure size 2000x1000 with 2 Axes>"
      ]
     },
     "metadata": {},
     "output_type": "display_data"
    },
    {
     "name": "stdout",
     "output_type": "stream",
     "text": [
      "[2.3315107136118596, 2.0265240520812453, 1.9626600198871154, 1.9589888577116676, 1.9631013509113586, 1.9798470987973649, 1.9964822149000814, 2.0129616258862306, 2.02918804301975, 2.045155918784123, 2.0610618208329177, 2.077406305354937, 2.095090262077987, 2.115298485970387, 2.138685168623693, 2.1644041476125553, 2.1906760611841505, 2.216156705079185, 2.2403310569904393, 2.264379742106204, 2.2949010795526146, 2.3238911233784427, 2.3515152754325026, 2.3779099707272677, 2.4031887563834475, 2.4274475419286645, 2.4507685707677225, 2.473223302317647, 2.490398288252308, 2.4963974753680027, 2.501361486663939, 2.5025376681750533, 2.5008314765649824, 2.499197392451757, 2.497628005106721, 2.496117114714264, 2.4946594866214875, 2.4932506623219814, 2.4918868127419835, 2.490564623417586, 2.489281203953763, 2.48803401613945, 2.4868208165129126, 2.4856396102023735, 2.4844886136231676, 2.483366224172773, 2.4822709954851057, 2.481201617122449, 2.4801568978244974, 2.4791357516196646, 2.478137186247018, 2.4771602934482293, 2.4762042407773985, 2.475268264644038, 2.4743516643606984, 2.473453797008861, 2.472574072972512, 2.4717119520164057, 2.470866939809271, 2.470038584810097, 2.4692264754512854, 2.4684302375642297, 2.467649532003811, 2.4668840524359013, 2.4661335232593604, 2.4653976976395855, 2.4646763556354494, 2.4639693024055647, 2.463276366482318, 2.4625973981061517, 2.46193226761338, 2.4612808638733927, 2.4606430927725444, 2.4600188757427692, 2.4594081483343704, 2.458810858832858, 2.458226966920032, 2.4576564423807925, 2.457099263855771, 2.4565554176419906, 2.4560248965423326, 2.4555076987650315, 2.4550038268744636, 2.4545132867944335, 2.454036086864379, 2.4535722369497726, 2.453121747606616, 2.452684629300504, 2.4522608916804978, 2.4518505429070574, 2.4514535890338416, 2.451070033442976, 2.4506998763321777, 2.4503431142531826, 2.4499997397003757, 2.449669740747377, 2.449353100730826, 2.449049797979102, 2.4487598055842152, 2.44848309121542, 2.448219616971757, 2.447969339271958, 2.4477322087794295, 2.447508170360538, 2.4472971630731193, 2.447099120184509, 2.4469139692151742, 2.446741632007548, 2.4465820248168133, 2.4464350584222734, 2.4463006382568158, 2.4461786645531634, 2.4460690325044054, 2.445971632437855, 2.445886349999427, 2.4458130663482027, 2.445751658358537, 2.4457019988291138, 2.44566395669695, 2.44563739725551, 2.4456221823755366, 2.4456181707273905, 2.445625218004564, 2.4456431771459024, 2.445671898557731, 2.4457112303332695, 2.4457610184697347, 2.445821107081963, 2.445891338612264, 2.445971554035776, 2.446061593060976, 2.4461612943249906, 2.446270495583413, 2.446389033894068, 2.446516745794778, 2.4466534674746034, 2.4467990349392497, 2.446953284169282, 2.447116051272013, 2.447287172626379, 2.4474664850218133]\n"
     ]
    }
   ],
   "source": [
    "_, (ax1, ax2) = plt.subplots(1, 2, figsize=(20, 10))\n",
    "plt.title('Training results')\n",
    "ax1.plot(np.arange(len(log_aps)), log_aps, label='MAP')\n",
    "ax1.legend()\n",
    "\n",
    "ax2.plot(np.arange(len(rmse_train)), rmse_train, label='RMSE train')\n",
    "ax2.plot(np.arange(len(rmse_test)), rmse_test, label='RMSE test')\n",
    "ax2.legend()\n",
    "plt.show()\n",
    "print(rmse_train)"
   ]
  },
  {
   "cell_type": "markdown",
   "metadata": {
    "colab_type": "text",
    "id": "-nhrZDHvPx1-"
   },
   "source": [
    "Let's now evaluate our model on both the training and testing sets."
   ]
  },
  {
   "cell_type": "code",
   "execution_count": 69,
   "metadata": {
    "colab": {
     "base_uri": "https://localhost:8080/",
     "height": 52
    },
    "colab_type": "code",
    "id": "L9mKLM7BkuVz",
    "outputId": "7884e7ea-0349-4824-cd80-7c4add36f76c"
   },
   "outputs": [
    {
     "name": "stdout",
     "output_type": "stream",
     "text": [
      "RMSE of training set: 2.447510720737315\n",
      "RMSE of testing set: 2.467589149352373\n"
     ]
    }
   ],
   "source": [
    "print('RMSE of training set:', evaluate(train_set))\n",
    "print('RMSE of testing set:', evaluate(test_set))"
   ]
  },
  {
   "cell_type": "markdown",
   "metadata": {
    "colab_type": "text",
    "id": "JEZtM1UiQUrA"
   },
   "source": [
    "Now we will pick a user from the database and look at his/her preferences."
   ]
  },
  {
   "cell_type": "code",
   "execution_count": 66,
   "metadata": {
    "colab": {
     "base_uri": "https://localhost:8080/"
    },
    "colab_type": "code",
    "id": "t-KBJYqbU--g",
    "outputId": "5a80faa9-26a8-42d1-ed08-0c75c83635ec"
   },
   "outputs": [
    {
     "ename": "NameError",
     "evalue": "name 'df' is not defined",
     "output_type": "error",
     "traceback": [
      "\u001b[0;31m---------------------------------------------------------------------------\u001b[0m",
      "\u001b[0;31mNameError\u001b[0m                                 Traceback (most recent call last)",
      "\u001b[0;32m/var/folders/y6/l6vpn95x35g0swp7xwnqndtc0000gn/T/ipykernel_64653/971805632.py\u001b[0m in \u001b[0;36m<module>\u001b[0;34m\u001b[0m\n\u001b[1;32m      1\u001b[0m \u001b[0muser_id\u001b[0m \u001b[0;34m=\u001b[0m \u001b[0;36m45\u001b[0m\u001b[0;34m\u001b[0m\u001b[0;34m\u001b[0m\u001b[0m\n\u001b[0;32m----> 2\u001b[0;31m \u001b[0mdf\u001b[0m\u001b[0;34m[\u001b[0m\u001b[0mdf\u001b[0m\u001b[0;34m[\u001b[0m\u001b[0;34m'user_id'\u001b[0m\u001b[0;34m]\u001b[0m \u001b[0;34m==\u001b[0m \u001b[0muser_id\u001b[0m\u001b[0;34m]\u001b[0m\u001b[0;34m.\u001b[0m\u001b[0msort_values\u001b[0m\u001b[0;34m(\u001b[0m\u001b[0mby\u001b[0m\u001b[0;34m=\u001b[0m\u001b[0;34m[\u001b[0m\u001b[0;34m'rating'\u001b[0m\u001b[0;34m]\u001b[0m\u001b[0;34m,\u001b[0m \u001b[0mascending\u001b[0m\u001b[0;34m=\u001b[0m\u001b[0;32mFalse\u001b[0m\u001b[0;34m)\u001b[0m\u001b[0;34m.\u001b[0m\u001b[0mhead\u001b[0m\u001b[0;34m(\u001b[0m\u001b[0;36m10\u001b[0m\u001b[0;34m)\u001b[0m\u001b[0;34m\u001b[0m\u001b[0;34m\u001b[0m\u001b[0m\n\u001b[0m",
      "\u001b[0;31mNameError\u001b[0m: name 'df' is not defined"
     ]
    }
   ],
   "source": [
    "user_id = 45\n",
    "df[df['user_id'] == user_id].sort_values(by=['rating'], ascending=False).head(10)"
   ]
  },
  {
   "cell_type": "markdown",
   "metadata": {
    "colab_type": "text",
    "id": "lfsqp9f3QcXi"
   },
   "source": [
    "Let's look at the least preferred items."
   ]
  },
  {
   "cell_type": "code",
   "execution_count": null,
   "metadata": {
    "colab": {
     "base_uri": "https://localhost:8080/"
    },
    "colab_type": "code",
    "id": "bkHatTbO19dL",
    "outputId": "09a3fda4-1456-460c-d827-074f81b8094e"
   },
   "outputs": [],
   "source": [
    "df_join[df_join['userId'] == user_id].sort_values(by=['rating']).head(10)"
   ]
  },
  {
   "cell_type": "markdown",
   "metadata": {
    "colab_type": "text",
    "id": "iGu6-AnIQgyy"
   },
   "source": [
    "Let's now look at the most likely preferences of the selected user."
   ]
  },
  {
   "cell_type": "code",
   "execution_count": null,
   "metadata": {
    "colab": {
     "base_uri": "https://localhost:8080/"
    },
    "colab_type": "code",
    "id": "EX_poCW7WcZO",
    "outputId": "d8e8cd67-3b00-4836-8a00-d87b349070a9"
   },
   "outputs": [],
   "source": [
    "predictions = np.zeros((n_movies, 1))\n",
    "movie_to_column_items = np.array(list(movie_to_column.items()))\n",
    "df_result = pd.DataFrame(columns=['UserID', 'MovieID', 'Movie', 'Genres', 'Prediction'])\n",
    "\n",
    "for i, movie in enumerate(movie_to_column_items):\n",
    "    predictions[i] = predict(user_id, movie[0])\n",
    "    \n",
    "indices = np.argsort(-predictions, axis=0)\n",
    "\n",
    "for j in range(10):\n",
    "    movie_id = int(movie_to_column_items[np.where(movie_to_column_items[:, 1] == indices[j])][0][0])\n",
    "    df_row = pd.DataFrame({\n",
    "        'UserID': user_id,\n",
    "        'MovieID': movie_id,\n",
    "        'Movie': df_movies[df_movies['movieId'] == movie_id].iloc[0]['title'],\n",
    "        'Genres': df_movies[df_movies['movieId'] == movie_id].iloc[0]['genres'],\n",
    "        'Prediction': predictions[indices[j]][0][0]\n",
    "    }, index=[j])\n",
    "    df_result = df_result.append(df_row, sort=False)\n",
    "    \n",
    "df_result"
   ]
  },
  {
   "cell_type": "markdown",
   "metadata": {
    "colab_type": "text",
    "id": "S2xU-gjQQrwZ"
   },
   "source": [
    "Now the predictions for least preferred items."
   ]
  },
  {
   "cell_type": "code",
   "execution_count": null,
   "metadata": {
    "colab": {
     "base_uri": "https://localhost:8080/"
    },
    "colab_type": "code",
    "id": "d2nL5rsz2dR8",
    "outputId": "3924eb3e-d164-48c7-9738-f2cff38bd4c1"
   },
   "outputs": [],
   "source": [
    "df_result = pd.DataFrame(columns=['UserID', 'MovieID', 'Movie', 'Genres', 'Prediction'])\n",
    "indices = np.argsort(predictions, axis=0)\n",
    "\n",
    "for j in range(10):\n",
    "    movie_id = int(movie_to_column_items[np.where(movie_to_column_items[:, 1] == indices[j])][0][0])\n",
    "    df_row = pd.DataFrame({\n",
    "        'UserID': user_id,\n",
    "        'MovieID': movie_id,\n",
    "        'Movie': df_movies[df_movies['movieId'] == movie_id].iloc[0]['title'],\n",
    "        'Genres': df_movies[df_movies['movieId'] == movie_id].iloc[0]['genres'],\n",
    "        'Prediction': predictions[indices[j]][0][0]\n",
    "    }, index=[j])\n",
    "    df_result = df_result.append(df_row, sort=False)\n",
    "    \n",
    "df_result"
   ]
  },
  {
   "cell_type": "markdown",
   "metadata": {
    "colab_type": "text",
    "id": "ORbaz1CIOWIJ"
   },
   "source": [
    "I hope you enjoyed this exercise. Something you can also try on your own is to implement gradient descent instead of MAP-estimation like I did here. Let me know about any comments you may have."
   ]
  }
 ],
 "metadata": {
  "colab": {
   "collapsed_sections": [],
   "name": "PMF_Recommender_Systems.ipynb",
   "provenance": [],
   "toc_visible": true
  },
  "kernelspec": {
   "display_name": "adaexam",
   "language": "python",
   "name": "adaexam"
  },
  "language_info": {
   "codemirror_mode": {
    "name": "ipython",
    "version": 3
   },
   "file_extension": ".py",
   "mimetype": "text/x-python",
   "name": "python",
   "nbconvert_exporter": "python",
   "pygments_lexer": "ipython3",
   "version": "3.9.13"
  }
 },
 "nbformat": 4,
 "nbformat_minor": 1
}
