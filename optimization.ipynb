{
 "cells": [
  {
   "cell_type": "code",
   "execution_count": 1,
   "id": "7637b83a",
   "metadata": {},
   "outputs": [],
   "source": [
    "import numpy as np\n",
    "import pandas as pd\n",
    "from sklearn.metrics.pairwise import cosine_similarity\n",
    "from sklearn.decomposition import TruncatedSVD\n",
    "import scipy.stats as stats\n",
    "import scipy.optimize as spo\n",
    "from scipy.optimize import minimize\n",
    "from helpers_similarity import *\n",
    "from helpers_optimization import *"
   ]
  },
  {
   "cell_type": "code",
   "execution_count": 2,
   "id": "944bbf9a",
   "metadata": {},
   "outputs": [],
   "source": [
    "# standard deviation of spherical Gaussian distribution\n",
    "mu = 0.0 \n",
    "sigma_u = 1.0\n",
    "sigma_v = 1.0\n",
    "sigma = 0.2#[0, 0.2, 0.4, 0.6, 0.8, 1] \n",
    "\n",
    "D = 2 #dimension\n",
    "N = 10 #nbr of users = 10\n",
    "M = 10 #nbr of movies : M=5*alpha M = 10, 30, 100, 300, 1000\n",
    "alpha = 1 \n",
    "alpha_vals = [1, 3, 10] #[1,5,10,50,100]\n",
    "k_best = 10 # \n",
    "nb_iter = 100 #1000"
   ]
  },
  {
   "cell_type": "markdown",
   "id": "27600508",
   "metadata": {},
   "source": [
    "optimize the objective function by minimizing it w.r.t U and V respectively "
   ]
  },
  {
   "cell_type": "code",
   "execution_count": 7,
   "id": "c5b057bc",
   "metadata": {},
   "outputs": [],
   "source": [
    "def optimization_fn(alpha):\n",
    "    M_cols = M*alpha\n",
    "    U, V, R = generate_U_V_R(mu, sigma_u, sigma_v, sigma, alpha, D, N, M)\n",
    "\n",
    "    U0 = np.random.normal(mu, sigma_u, D*N) \n",
    "    V0 = np.random.normal(mu, sigma_v, D*M*alpha) #np.random.randn(D*M_cols) random guess for V0\n",
    "    U_res = minimize(objective_function_U, U0, args=(R, V, sigma_u, sigma_v, sigma, D, N))\n",
    "    V_res = minimize(objective_function_V, V0, args=(R, U, sigma_u, sigma_v, sigma, alpha, D, N))\n",
    "\n",
    "    U_result = 0\n",
    "    if U_res.success :\n",
    "        U_result = U_res.x.reshape((D, N))\n",
    "    else :\n",
    "        print('No minimum found for U')\n",
    "        U_result = np.zeros((D, N))\n",
    "    diff_norm_U = frob(U, U_result, N)\n",
    "    \n",
    "    V_result = 0\n",
    "    if V_res.success :\n",
    "        V_result = V_res.x.reshape((D, M_cols))\n",
    "    else :\n",
    "        print('No minimum found for V')\n",
    "        V_result = np.zeros((D, M_cols))\n",
    "    diff_norm_V = frob(V, V_result, M_cols)\n",
    "    #diff_norm = procrustes_norm(V, V_result, M)\n",
    "    return diff_norm_U, diff_norm_V\n"
   ]
  },
  {
   "cell_type": "markdown",
   "id": "8f904bfe",
   "metadata": {},
   "source": [
    "compute average Difference (in Frobenius/ Procrustes norm) of U, U_result and V, V_result for different values of M"
   ]
  },
  {
   "cell_type": "code",
   "execution_count": 8,
   "id": "5321ce56",
   "metadata": {},
   "outputs": [
    {
     "name": "stdout",
     "output_type": "stream",
     "text": [
      "Average Difference of Frobenius norm of U and U_result for N= 10: 0.1076184991898389\n",
      "Average Difference of Frobenius norm of V and V_result for M= 10: 0.10861168999261972\n",
      "Average Difference of Frobenius norm of U and U_result for N= 10: 0.055380219644697325\n",
      "Average Difference of Frobenius norm of V and V_result for M= 30: 0.10782459147263383\n",
      "Average Difference of Frobenius norm of U and U_result for N= 10: 0.028545516022403527\n",
      "Average Difference of Frobenius norm of V and V_result for M= 100: 0.10926565118837772\n"
     ]
    }
   ],
   "source": [
    "for i in range(len(alpha_vals)):\n",
    "    avg_U = 0\n",
    "    avg_V = 0\n",
    "    for j in range(nb_iter):\n",
    "        diff_U, diff_V = optimization_fn(alpha_vals[i])\n",
    "        avg_U += diff_U\n",
    "        avg_V += diff_V\n",
    "    avg_U = avg_U/nb_iter\n",
    "    avg_V = avg_V/nb_iter\n",
    "    print(f'Average Difference of Frobenius norm of U and U_result for N= {N}: {avg_U}')\n",
    "    print(f'Average Difference of Frobenius norm of V and V_result for M= {M*alpha_vals[i]}: {avg_V}')\n",
    "\n"
   ]
  }
 ],
 "metadata": {
  "kernelspec": {
   "display_name": "adaexam",
   "language": "python",
   "name": "adaexam"
  },
  "language_info": {
   "codemirror_mode": {
    "name": "ipython",
    "version": 3
   },
   "file_extension": ".py",
   "mimetype": "text/x-python",
   "name": "python",
   "nbconvert_exporter": "python",
   "pygments_lexer": "ipython3",
   "version": "3.9.13"
  },
  "vscode": {
   "interpreter": {
    "hash": "31f2aee4e71d21fbe5cf8b01ff0e069b9275f58929596ceb00d14d90e3e16cd6"
   }
  }
 },
 "nbformat": 4,
 "nbformat_minor": 5
}
