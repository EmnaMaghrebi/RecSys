{
 "cells": [
  {
   "cell_type": "code",
   "execution_count": 1,
   "id": "7637b83a",
   "metadata": {},
   "outputs": [],
   "source": [
    "import numpy as np\n",
    "import pandas as pd\n",
    "from sklearn.metrics.pairwise import cosine_similarity\n",
    "from sklearn.decomposition import TruncatedSVD\n",
    "import scipy.stats as stats\n",
    "import scipy.optimize as spo\n",
    "from scipy.optimize import minimize"
   ]
  },
  {
   "cell_type": "code",
   "execution_count": 12,
   "id": "944bbf9a",
   "metadata": {},
   "outputs": [],
   "source": [
    "# standard deviation of spherical Gaussian distribution\n",
    "mu = 0.0 \n",
    "sigma_u = 1.0\n",
    "sigma_v = 1.0\n",
    "sigma = 0.2#[0, 0.2, 0.4, 0.6, 0.8, 1] \n",
    "\n",
    "D = 2 #dimension\n",
    "N = 10 #nbr of users = 10\n",
    "M = 10 #nbr of movies : M=5*alpha M = 10, 30, 100, 300, 1000\n",
    "alpha = 1 \n",
    "alpha_vals = [1, 3, 10] #[1,5,10,50,100]\n",
    "k_best = 10 # \n",
    "nb_iter = 100 #1000"
   ]
  },
  {
   "cell_type": "code",
   "execution_count": 3,
   "id": "e8f84526",
   "metadata": {},
   "outputs": [],
   "source": [
    "#generate matrices U, V and R from Gauss. distributions\n",
    "def generate_U_V_R(mu, sigma_u, sigma_v, sigma, alpha):\n",
    "    U = np.random.normal(mu, sigma_u, size=(D,N))\n",
    "    V = np.random.normal(mu, sigma_v, size=(D,M*alpha))\n",
    "    noise = np.random.normal(mu, sigma, size=(N,M*alpha)) \n",
    "    R = np.matmul(U.T,V) +noise\n",
    "    return U, V, R"
   ]
  },
  {
   "cell_type": "code",
   "execution_count": 4,
   "id": "cd80bc5f",
   "metadata": {},
   "outputs": [],
   "source": [
    "# define the objective function to optimize wrt to U\n",
    "def objective_function_U(U, R, V, sigma, alpha):\n",
    "    U = U.reshape((D,N))\n",
    "    lambda_U = sigma/sigma_u\n",
    "    lambda_V = sigma/sigma_v\n",
    "    error = R - np.dot(U.T, V)\n",
    "    regularization_term = lambda_U/2 * np.linalg.norm(U)**2 + lambda_V/2 * np.linalg.norm(V)**2\n",
    "    return  np.sum(error**2)*1/2 + regularization_term"
   ]
  },
  {
   "cell_type": "code",
   "execution_count": 5,
   "id": "97e3613b",
   "metadata": {},
   "outputs": [],
   "source": [
    "# define the objective function to optimize wrt to V\n",
    "def objective_function_V(V, R, U, sigma, alpha):\n",
    "    V = V.reshape((D,M*alpha))\n",
    "    lambda_U = sigma/sigma_u\n",
    "    lambda_V = sigma/sigma_v\n",
    "    error = R - np.dot(U.T, V)\n",
    "    regularization_term = lambda_U/2 * np.linalg.norm(U)**2 + lambda_V/2 * np.linalg.norm(V)**2\n",
    "    return  np.sum(error**2)*1/2 + regularization_term"
   ]
  },
  {
   "cell_type": "code",
   "execution_count": 6,
   "id": "1de9e2c0",
   "metadata": {},
   "outputs": [],
   "source": [
    "#frobenius norm \n",
    "def frob(U_1, U_2, M):\n",
    "    return np.linalg.norm(U_1 - U_2, 'fro')/np.sqrt(M)"
   ]
  },
  {
   "cell_type": "code",
   "execution_count": 7,
   "id": "c341d3f3",
   "metadata": {},
   "outputs": [],
   "source": [
    "#Procrustes norm\n",
    "def procrustes_norm(U_1, U_2, M):\n",
    "    _, _, disparity = procrustes(U_1, U_2)\n",
    "    return disparity/np.sqrt(M) "
   ]
  },
  {
   "cell_type": "code",
   "execution_count": 8,
   "id": "c5b057bc",
   "metadata": {},
   "outputs": [],
   "source": [
    "#optimize the objective function \n",
    "def optimization_fn(alpha):\n",
    "    M_cols = M*alpha\n",
    "    U, V, R = generate_U_V_R(mu, sigma_u, sigma_v, sigma, alpha)\n",
    "    U0 = np.random.normal(mu, sigma_u, D*N) \n",
    "    V0 = np.random.normal(mu, sigma_v, D*M*alpha) #np.random.randn(D*M_cols) random guess for V0\n",
    "    U_res = minimize(objective_function_U, U0, args=(R, V, sigma, alpha))\n",
    "    V_res = minimize(objective_function_V, V0, args=(R, U, sigma, alpha))\n",
    "\n",
    "    U_result = 0\n",
    "    if U_res.success :\n",
    "        U_result = U_res.x.reshape((D, N))\n",
    "    else :\n",
    "        print('No minimum found for U')\n",
    "        U_result = np.zeros((D, N))\n",
    "    diff_norm_U = frob(U, U_result, N)\n",
    "    \n",
    "    V_result = 0\n",
    "    if V_res.success :\n",
    "        V_result = V_res.x.reshape((D, M_cols))\n",
    "    else :\n",
    "        print('No minimum found for V')\n",
    "        V_result = np.zeros((D, M_cols))\n",
    "    diff_norm_V = frob(V, V_result, M_cols)\n",
    "    #diff_norm = procrustes_norm(V, V_result, M)\n",
    "    return diff_norm_U, diff_norm_V\n"
   ]
  },
  {
   "cell_type": "code",
   "execution_count": 13,
   "id": "5321ce56",
   "metadata": {},
   "outputs": [
    {
     "name": "stdout",
     "output_type": "stream",
     "text": [
      "Average Difference of Frobenius norm of U and U_result for N= 10: 0.11040782979909185\n",
      "Average Difference of Frobenius norm of V and V_result for M= 10: 0.10365393482466319\n",
      "Average Difference of Frobenius norm of U and U_result for N= 10: 0.05456643900143751\n",
      "Average Difference of Frobenius norm of V and V_result for M= 30: 0.11053115804971442\n",
      "Average Difference of Frobenius norm of U and U_result for N= 10: 0.02847300266293304\n",
      "Average Difference of Frobenius norm of V and V_result for M= 100: 0.10807092223866316\n"
     ]
    }
   ],
   "source": [
    "#compute average Difference of V and V_result for different values of M\n",
    "for i in range(len(alpha_vals)):\n",
    "    avg_U = 0\n",
    "    avg_V = 0\n",
    "    for j in range(nb_iter):\n",
    "        diff_U, diff_V = optimization_fn(alpha_vals[i])\n",
    "        avg_U += diff_U\n",
    "        avg_V += diff_V\n",
    "    avg_U = avg_U/nb_iter\n",
    "    avg_V = avg_V/nb_iter\n",
    "    print(f'Average Difference of Frobenius norm of U and U_result for N= {N}: {avg_U}')\n",
    "    print(f'Average Difference of Frobenius norm of V and V_result for M= {M*alpha_vals[i]}: {avg_V}')\n",
    "\n"
   ]
  },
  {
   "cell_type": "code",
   "execution_count": null,
   "id": "90974bf3",
   "metadata": {},
   "outputs": [],
   "source": []
  },
  {
   "cell_type": "code",
   "execution_count": null,
   "id": "24c0e106",
   "metadata": {},
   "outputs": [],
   "source": []
  }
 ],
 "metadata": {
  "kernelspec": {
   "display_name": "Python 3 (ipykernel)",
   "language": "python",
   "name": "python3"
  },
  "language_info": {
   "codemirror_mode": {
    "name": "ipython",
    "version": 3
   },
   "file_extension": ".py",
   "mimetype": "text/x-python",
   "name": "python",
   "nbconvert_exporter": "python",
   "pygments_lexer": "ipython3",
   "version": "3.9.13"
  },
  "vscode": {
   "interpreter": {
    "hash": "31f2aee4e71d21fbe5cf8b01ff0e069b9275f58929596ceb00d14d90e3e16cd6"
   }
  }
 },
 "nbformat": 4,
 "nbformat_minor": 5
}
