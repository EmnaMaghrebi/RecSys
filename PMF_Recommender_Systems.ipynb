{
 "cells": [
  {
   "cell_type": "markdown",
   "metadata": {
    "colab_type": "text",
    "id": "sE0imG0HLDgf"
   },
   "source": [
    "# PMF for Recommender Systems\n",
    "\n",
    "This is an implementation for Probabilistic Matrix Factorisation. We have made use of a subset of the IMDB dataset for training purposes."
   ]
  },
  {
   "cell_type": "code",
   "execution_count": 1,
   "metadata": {
    "colab": {},
    "colab_type": "code",
    "id": "8-65Kyq2Kv8R"
   },
   "outputs": [],
   "source": [
    "import matplotlib.pyplot as plt\n",
    "import numpy as np\n",
    "import pandas as pd\n",
    "from scipy.linalg import orthogonal_procrustes\n",
    "from sklearn.metrics import mean_squared_error\n",
    "from helpers_pmf import *"
   ]
  },
  {
   "cell_type": "code",
   "execution_count": 239,
   "metadata": {},
   "outputs": [],
   "source": [
    "mu = 0.0 \n",
    "sigma_u = 1.0# works for 0.5\n",
    "sigma_v = 1.0#works for 0.5\n",
    "sigma = 0.1 #[0, 0.2, 0.4, 0.6, 0.8, 1] \n",
    "parameters = {}\n",
    "d_dims = 2 \n",
    "# n_users = 10\n",
    "# n_movies = 300 \n",
    "# alpha = 1\n",
    "# alpha_vals = [1, 3, 10, 30, 100] \n",
    "# M_vals = [n_movies*alpha for alpha in alpha_vals]\n",
    "# k_best = 10 \n",
    "# nb_iter = 50 "
   ]
  },
  {
   "cell_type": "markdown",
   "metadata": {},
   "source": [
    "__generate__ matrices U, V and R from Gauss. distributions"
   ]
  },
  {
   "cell_type": "code",
   "execution_count": 59,
   "metadata": {},
   "outputs": [],
   "source": [
    "def generate_U_V_R(mu, lambda_U, lambda_V, sigma, n_users, n_movies):\n",
    "    U = np.random.normal(mu, lambda_U, size=(d_dims,n_users))\n",
    "    V = np.random.normal(mu, lambda_V, size=(d_dims,n_movies))\n",
    "    noise = np.random.normal(mu, sigma, size=(n_users,n_movies)) \n",
    "    R = np.matmul(U.T,V) +noise\n",
    "    \n",
    "    return U, V, R"
   ]
  },
  {
   "cell_type": "markdown",
   "metadata": {
    "colab_type": "text",
    "id": "2C8nnfseBTOM"
   },
   "source": [
    "We will now initialise our parameters. First the $V$ matrix can be initialised randomly using the following distribution:\n",
    "\n",
    "\\begin{equation}\n",
    "\\large\n",
    "V \\sim \\mathcal N\\left(0, \\frac {1} {\\lambda_V}\\right)\n",
    "\\end{equation}\n",
    "\n",
    "Let's remember that:\n",
    "\n",
    "\\begin{equation}\n",
    "\\large\n",
    "U \\in \\mathbb R^{D\\times N}, \\qquad V \\in \\mathbb R^{D\\times M}\n",
    "\\end{equation}\n",
    "\n",
    "Where $N$ is __n_users__, $M$ is __n_movies__ and $D$ is __n_dims__."
   ]
  },
  {
   "cell_type": "code",
   "execution_count": 60,
   "metadata": {
    "colab": {},
    "colab_type": "code",
    "id": "HaM_fnR0Nd_i"
   },
   "outputs": [],
   "source": [
    "def initialize_parameters(lambda_U, lambda_V, mu, sigma, n_users, n_movies):    \n",
    "    U, V, R = generate_U_V_R(mu, 1.0 /lambda_U, 1.0 /lambda_V, sigma, n_users, n_movies)  \n",
    "    #U_init = np.zeros((d_dims, n_users), dtype=np.float64)\n",
    "    U_init = np.random.normal(mu, 1.0 / lambda_U, (d_dims, n_users))\n",
    "    #U_init = np.random.normal(mu, 0.01, (d_dims, n_users))\n",
    "    V_init = np.random.normal(mu, 1.0 / lambda_V, (d_dims, n_movies))\n",
    "    \n",
    "    # applyall = np.vectorize(condition)    #scale R values within range 1-5\n",
    "    # R_res = applyall(R)\n",
    "    \n",
    "    parameters['U'] = U\n",
    "    parameters['V'] = V\n",
    "    parameters['R'] = R#R_res\n",
    "    parameters['U_result'] = U_init\n",
    "    parameters['V_result'] = V_init\n",
    "    parameters['lambda_U'] = lambda_U\n",
    "    parameters['lambda_V'] = lambda_V"
   ]
  },
  {
   "cell_type": "markdown",
   "metadata": {},
   "source": [
    "create __ratings__ dataframe and append rating matrix"
   ]
  },
  {
   "cell_type": "code",
   "execution_count": 61,
   "metadata": {},
   "outputs": [],
   "source": [
    "def create_rating_df(n_users, n_movies):   \n",
    "    initialize_parameters(sigma_u/sigma, sigma_v/sigma, mu, sigma, n_users, n_movies)\n",
    "    \n",
    "    df = pd.DataFrame(columns=['userID', 'movieID'])\n",
    "    df['userID'] = np.repeat(np.arange(1, n_users+1, 1), n_movies)\n",
    "    df['movieID'] = np.tile(np.arange(1, n_movies+1, 1), n_users) #np.tile\n",
    "    \n",
    "    R = parameters['R']\n",
    "    df['rating'] = R.reshape(n_users*n_movies)\n",
    "    \n",
    "    return df "
   ]
  },
  {
   "cell_type": "markdown",
   "metadata": {},
   "source": [
    "__split__ the dataset into train and test sets"
   ]
  },
  {
   "cell_type": "code",
   "execution_count": 62,
   "metadata": {},
   "outputs": [],
   "source": [
    "def split_train_test(df, train_size=0.75):\n",
    "    \n",
    "    df_copy = df.copy()\n",
    "    train_set = df_copy.sample(frac=train_size, random_state=0)\n",
    "    test_set = df_copy.drop(train_set.index)\n",
    "    \n",
    "    return train_set, test_set\n",
    "     "
   ]
  },
  {
   "cell_type": "markdown",
   "metadata": {
    "colab_type": "text",
    "id": "ntiPL_EnCLe-"
   },
   "source": [
    "Let's now implement the function that updates U and V. The elements of both matrices can be updated using the following expressions:\n",
    "\n",
    "\\begin{equation}\n",
    "\\large\n",
    "U_i=\\left[\\left(V_jV_j^T\\right)_{j\\in\\Omega_{U_i}}+\\lambda_UI\\right]^{-1}\\left(R_{ij}V_j^T\\right)_{j\\in\\Omega_{U_i}}\n",
    "\\end{equation}\n",
    "\n",
    "\\begin{equation}\n",
    "\\large\n",
    "V_j=\\left[\\left(U_iU_i^T\\right)_{i\\in\\Omega_{V_j}}+\\lambda_VI\\right]^{-1}\\left(R_{ij}U_i^T\\right)_{i\\in\\Omega_{V_j}}\n",
    "\\end{equation}"
   ]
  },
  {
   "cell_type": "code",
   "execution_count": 63,
   "metadata": {
    "colab": {},
    "colab_type": "code",
    "id": "DjKB4TzFkoJx"
   },
   "outputs": [],
   "source": [
    "def update_parameters(n_users, n_movies):\n",
    "    U = parameters['U_result']\n",
    "    V = parameters['V_result']\n",
    "    R = parameters['R']\n",
    "    lambda_U = parameters['lambda_U']\n",
    "    lambda_V = parameters['lambda_V']\n",
    "\n",
    "    for i in range(n_users):\n",
    "        # V_j = V[:, R[i, :] > 0]\n",
    "        # U[:, i] = np.dot(np.linalg.inv(np.dot(V_j, V_j.T) + lambda_U * np.identity(d_dims)), np.dot(R[i, R[i, :] > 0], V_j.T))\n",
    "        RV = R[i] @ V.T\n",
    "        #print('RV:',RV.shape)\n",
    "        #print('V.V^T:',np.dot(V,V.T).shape)\n",
    "\n",
    "        Vinv = np.linalg.inv(np.dot(V,V.T) + lambda_U * np.identity(d_dims))#d_dims\n",
    "        U[:, i] =  Vinv @ RV \n",
    "        \n",
    "    for j in range(n_movies):\n",
    "        # U_i = U[:, R[:, j] > 0]\n",
    "        # V[:, j] = np.dot(np.linalg.inv(np.dot(U_i, U_i.T) + lambda_V * np.identity(d_dims)), np.dot(R[R[:, j] > 0, j], U_i.T))\n",
    "        RU = R[:, j] @ U.T\n",
    "        Uinv = np.linalg.inv(np.dot(U, U.T) + lambda_V * np.identity(d_dims))\n",
    "        V[:, j] = Uinv @ RU\n",
    " \n",
    "    parameters['U_result'] = U\n",
    "    parameters['V_result'] = V"
   ]
  },
  {
   "cell_type": "markdown",
   "metadata": {
    "colab_type": "text",
    "id": "hQ5in2inJApx"
   },
   "source": [
    "Now let's implement the __Log-a posteriori__:\n",
    "\n",
    "\\begin{equation}\n",
    "\\large\n",
    "L=-\\frac 1 2 \\left(\\sum_{i=1}^N\\sum_{j=1}^M(R_{ij}-U_i^TV_j)_{(i,j) \\in \\Omega_{R_{ij}}}^2+\\lambda_U\\sum_{i=1}^N\\|U_i\\|_{Fro}^2+\\lambda_V\\sum_{j=1}^M\\|V_j\\|_{Fro}^2\\right)\n",
    "\\end{equation}"
   ]
  },
  {
   "cell_type": "code",
   "execution_count": 64,
   "metadata": {
    "colab": {},
    "colab_type": "code",
    "id": "5PUgHUp2MeZI"
   },
   "outputs": [],
   "source": [
    "def log_a_posteriori():\n",
    "    lambda_U = parameters['lambda_U']\n",
    "    lambda_V = parameters['lambda_V']\n",
    "    U_result = parameters['U_result']\n",
    "    V_result = parameters['V_result']\n",
    "    R = parameters['R']\n",
    "    UV = np.dot(U_result.T, V_result)\n",
    "    R_UV = (R[R > 0] - UV[R > 0])\n",
    "    \n",
    "    return -0.5 * (np.sum(np.dot(R_UV, R_UV.T)) + lambda_U * np.sum(np.dot(U_result, U_result.T)) + \\\n",
    "                   lambda_V * np.sum(np.dot(V_result, V_result.T)))\n"
   ]
  },
  {
   "cell_type": "markdown",
   "metadata": {
    "colab_type": "text",
    "id": "6R1ePeME7qSW"
   },
   "source": [
    "For the purposes of __scaling__, we need the maximum and minimum rating values."
   ]
  },
  {
   "cell_type": "code",
   "execution_count": 65,
   "metadata": {
    "colab": {},
    "colab_type": "code",
    "id": "YNIlELvx0M0W"
   },
   "outputs": [],
   "source": [
    "def update_max_min_ratings():\n",
    "    U = parameters['U_result']\n",
    "    V = parameters['V_result']\n",
    "\n",
    "    R = U.T @ V\n",
    "    min_rating = np.min(R)\n",
    "    max_rating = np.max(R)\n",
    "\n",
    "    parameters['min_rating'] = min_rating\n",
    "    parameters['max_rating'] = max_rating"
   ]
  },
  {
   "cell_type": "markdown",
   "metadata": {
    "colab_type": "text",
    "id": "68fmuPQrPRnU"
   },
   "source": [
    "The __predict__ function allows us to predict the rating value given the __user_id__ and the __movie_id__ parameters. The value has been scaled within the range 0-5"
   ]
  },
  {
   "cell_type": "code",
   "execution_count": 66,
   "metadata": {
    "colab": {},
    "colab_type": "code",
    "id": "neTN8ejbQ5dg"
   },
   "outputs": [],
   "source": [
    "def predict(user_id, movie_id):\n",
    "    U = parameters['U_result']\n",
    "    V = parameters['V_result']\n",
    "    #print('U.T : ',U[:,user_id-1])\n",
    "    r_ij = U[:, user_id-1].T.reshape(1, -1) @ V[:, movie_id-1].reshape(-1, 1) #user_id-1 shouled be changed\n",
    "    max_rating = parameters['max_rating']\n",
    "    min_rating = parameters['min_rating']\n",
    "\n",
    "    return 0 if max_rating == min_rating else ((r_ij[0][0] - min_rating) / (max_rating - min_rating)) * 5.0"
   ]
  },
  {
   "cell_type": "markdown",
   "metadata": {
    "colab_type": "text",
    "id": "7Rt2ol1j7OJ0"
   },
   "source": [
    "We implement both the __Frobenius__ and __orthogonal Procrustes__ norms"
   ]
  },
  {
   "cell_type": "code",
   "execution_count": 67,
   "metadata": {},
   "outputs": [],
   "source": [
    "def frob(X, Y, N):\n",
    "    return np.linalg.norm(X - Y, 'fro')/np.sqrt(N)"
   ]
  },
  {
   "cell_type": "code",
   "execution_count": 141,
   "metadata": {},
   "outputs": [],
   "source": [
    "#add more comments for each cell, provide links/resources \n",
    "def orth_procrustes(X, Y, len_X):\n",
    "    R, scale = orthogonal_procrustes(X, Y)\n",
    "    rss = np.linalg.norm(X @ R - Y, 'fro')/np.sqrt(len_X)\n",
    "    \n",
    "    return rss"
   ]
  },
  {
   "cell_type": "markdown",
   "metadata": {
    "colab_type": "text",
    "id": "7Rt2ol1j7OJ0"
   },
   "source": [
    "The __compare_results__ function will calculate the Frobenius/ Orthogonal Procrustes __norm difference__ of the resulting U and V matrices with the initial ones"
   ]
  },
  {
   "cell_type": "code",
   "execution_count": 186,
   "metadata": {},
   "outputs": [],
   "source": [
    "def compare_results(n_users, n_movies):\n",
    "    #U = parameters['U']\n",
    "    #V = parameters['V']\n",
    "    R = parameters['R']\n",
    "\n",
    "    U_result = parameters['U_result']\n",
    "    V_result = parameters['V_result']    \n",
    "    \n",
    "    #diff_norm_U = orth_procrustes(U, U_result, n_users)     #frob(U, U_result, n_users)#  \n",
    "    #diff_norm_V = orth_procrustes(V, V_result, n_movies) #frob(V, V_result, n_movies)#     \n",
    "    diff_norm_R = frob(R, U_result.T @ V_result , n_movies*n_users) #orth_procrustes(R, U_result.T @ V_result , n_movies)#\n",
    "    return diff_norm_R #diff_norm_U, diff_norm_V\n"
   ]
  },
  {
   "cell_type": "markdown",
   "metadata": {
    "colab_type": "text",
    "id": "7Rt2ol1j7OJ0"
   },
   "source": [
    "The __evaluate__ function will calculate the __RMSE__ of the model given a dataset (train or test)."
   ]
  },
  {
   "cell_type": "code",
   "execution_count": 187,
   "metadata": {},
   "outputs": [],
   "source": [
    "def evaluate(dataset):\n",
    "    ground_truths = []\n",
    "    predictions = []\n",
    "    \n",
    "    for index, row in dataset.iterrows():    \n",
    "        ground_truths.append(row.loc['rating'])\n",
    "        print(index,row.loc['userID'])\n",
    "        predictions.append(predict(row.loc['userID'], row.loc['movieID'])) \n",
    "\n",
    "    return mean_squared_error(ground_truths, predictions, squared=False)"
   ]
  },
  {
   "cell_type": "markdown",
   "metadata": {
    "colab_type": "text",
    "id": "AZGq6J9pDl5O"
   },
   "source": [
    "The __train__ function implements the code necessary for training the model as well as recording the __RMSE__ values on the training and testing sets."
   ]
  },
  {
   "cell_type": "code",
   "execution_count": 188,
   "metadata": {
    "colab": {},
    "colab_type": "code",
    "id": "VYwTD_nBNO5F"
   },
   "outputs": [],
   "source": [
    "def train(n_epochs, train_set, test_set, n_users, n_movies):\n",
    "    initialize_parameters(1.0 / sigma_u, 1.0 / sigma_v, mu, sigma, n_users, n_movies)\n",
    "    log_aps = []\n",
    "    rmse_train = []\n",
    "    rmse_test = []\n",
    "\n",
    "    update_max_min_ratings()\n",
    "    #rmse_train.append(evaluate(train_set))\n",
    "    #rmse_test.append(evaluate(test_set))\n",
    "    \n",
    "    for k in range(n_epochs):\n",
    "        update_parameters(n_users, n_movies)\n",
    "        log_ap = log_a_posteriori()\n",
    "        log_aps.append(log_ap)\n",
    "\n",
    "        if (k + 1) % 25 == 0: #10\n",
    "            update_max_min_ratings()\n",
    "\n",
    "            #rmse_train.append(evaluate(train_set))\n",
    "            #rmse_test.append(evaluate(test_set))\n",
    "            #print('Log p a-posteriori at iteration', k + 1, ':', log_ap)\n",
    "\n",
    "    update_max_min_ratings()\n",
    "    #diff_norm_U, diff_norm_V = compare_results(n_users, n_movies)\n",
    "    diff_norm_R = compare_results(n_users, n_movies)\n",
    "\n",
    "    return log_aps, rmse_train, rmse_test, diff_norm_R #diff_norm_U, diff_norm_V"
   ]
  },
  {
   "cell_type": "markdown",
   "metadata": {
    "colab_type": "text",
    "id": "SJbozBbQPk9A"
   },
   "source": [
    "Let's train our model!"
   ]
  },
  {
   "cell_type": "code",
   "execution_count": 189,
   "metadata": {},
   "outputs": [],
   "source": [
    "def avg_results(N_val, M_val, n_epochs, nb_iter):\n",
    "        avg_U = 0\n",
    "        avg_V = 0\n",
    "        avg_R = 0\n",
    "        for i in range(nb_iter):\n",
    "\n",
    "            df_ratings = create_rating_df(N_val, M_val)\n",
    "            train_set, test_set = split_train_test(df_ratings, train_size=0.8)\n",
    "            #_, _, _, diff_U, diff_V = train(n_epochs, train_set, test_set, N_val, M_val)  \n",
    "            _, _, _, diff_R = train(n_epochs, train_set, test_set, N_val, M_val)   \n",
    " \n",
    "            #avg_U += diff_U\n",
    "            #avg_V += diff_V\n",
    "            avg_R += diff_R\n",
    "            \n",
    "        #avg_U /= nb_iter\n",
    "        #avg_V /= nb_iter\n",
    "        avg_R /= nb_iter\n",
    "        return avg_R #avg_U, avg_V"
   ]
  },
  {
   "cell_type": "code",
   "execution_count": 240,
   "metadata": {},
   "outputs": [
    {
     "name": "stdout",
     "output_type": "stream",
     "text": [
      "1.0 1.0 0.1\n",
      "i,j:0,0\n",
      "[10, 10, 0.16253707248970414]\n",
      "i,j:0,1\n",
      "[10, 20, 0.13076024819084278]\n",
      "i,j:0,2\n",
      "[10, 30, 0.11897756808112328]\n",
      "i,j:0,3\n",
      "[10, 40, 0.11220188491520183]\n",
      "i,j:0,4\n",
      "[10, 50, 0.10863629186581208]\n",
      "i,j:1,0\n",
      "[20, 10, 0.13073451095826594]\n",
      "i,j:1,1\n",
      "[20, 20, 0.11419594934635835]\n",
      "i,j:1,2\n",
      "[20, 30, 0.1084919183382424]\n",
      "i,j:1,3\n",
      "[20, 40, 0.10484017570823496]\n",
      "i,j:1,4\n",
      "[20, 50, 0.10318091908555398]\n",
      "i,j:2,0\n",
      "[30, 10, 0.1190632278257801]\n",
      "i,j:2,1\n",
      "[30, 20, 0.10835486281399781]\n",
      "i,j:2,2\n",
      "[30, 30, 0.10434770921789811]\n",
      "i,j:2,3\n",
      "[30, 40, 0.10226521492265041]\n",
      "i,j:2,4\n",
      "[30, 50, 0.10146233130938277]\n",
      "i,j:3,0\n",
      "[40, 10, 0.11274987226782889]\n",
      "i,j:3,1\n",
      "[40, 20, 0.105184813737316]\n",
      "i,j:3,2\n",
      "[40, 30, 0.10280255177666067]\n",
      "i,j:3,3\n",
      "[40, 40, 0.1014581297543508]\n",
      "i,j:3,4\n",
      "[40, 50, 0.10052593782786064]\n",
      "i,j:4,0\n",
      "[50, 10, 0.10805676139454157]\n",
      "i,j:4,1\n",
      "[50, 20, 0.10333826240184436]\n",
      "i,j:4,2\n",
      "[50, 30, 0.10157152453149607]\n",
      "i,j:4,3\n",
      "[50, 40, 0.10068530137343665]\n",
      "i,j:4,4\n",
      "[50, 50, 0.1001012384334984]\n"
     ]
    }
   ],
   "source": [
    "N_vals = [10, 20, 30, 40, 50]#, 100]\n",
    "M_vals = [10, 20, 30, 40, 50]\n",
    "n_epochs = 100\n",
    "nb_iter = 100\n",
    "data = []\n",
    "print(sigma_u, sigma_v, sigma)\n",
    "for i in range(len(N_vals)):\n",
    "    for j in range(len(M_vals)):\n",
    "        print(f'i,j:{i},{j}') # \n",
    "        #avg_U, avg_V = avg_results(N_vals[i], M_vals[j], n_epochs, nb_iter)\n",
    "        avg_R = avg_results(N_vals[i], M_vals[j], n_epochs, nb_iter)\n",
    "        #row= [N_vals[i], M_vals[j], avg_U, avg_V]\n",
    "        row= [N_vals[i], M_vals[j], avg_R]\n",
    "        print(row) # to check progress\n",
    "        data.append(row)       "
   ]
  },
  {
   "cell_type": "code",
   "execution_count": 242,
   "metadata": {},
   "outputs": [
    {
     "data": {
      "text/plain": [
       "[[10, 10, 0.16253707248970414],\n",
       " [10, 20, 0.13076024819084278],\n",
       " [10, 30, 0.11897756808112328],\n",
       " [10, 40, 0.11220188491520183],\n",
       " [10, 50, 0.10863629186581208],\n",
       " [20, 10, 0.13073451095826594],\n",
       " [20, 20, 0.11419594934635835],\n",
       " [20, 30, 0.1084919183382424],\n",
       " [20, 40, 0.10484017570823496],\n",
       " [20, 50, 0.10318091908555398],\n",
       " [30, 10, 0.1190632278257801],\n",
       " [30, 20, 0.10835486281399781],\n",
       " [30, 30, 0.10434770921789811],\n",
       " [30, 40, 0.10226521492265041],\n",
       " [30, 50, 0.10146233130938277],\n",
       " [40, 10, 0.11274987226782889],\n",
       " [40, 20, 0.105184813737316],\n",
       " [40, 30, 0.10280255177666067],\n",
       " [40, 40, 0.1014581297543508],\n",
       " [40, 50, 0.10052593782786064],\n",
       " [50, 10, 0.10805676139454157],\n",
       " [50, 20, 0.10333826240184436],\n",
       " [50, 30, 0.10157152453149607],\n",
       " [50, 40, 0.10068530137343665],\n",
       " [50, 50, 0.1001012384334984]]"
      ]
     },
     "execution_count": 242,
     "metadata": {},
     "output_type": "execute_result"
    }
   ],
   "source": [
    "data[:50]"
   ]
  },
  {
   "cell_type": "code",
   "execution_count": 243,
   "metadata": {},
   "outputs": [
    {
     "data": {
      "image/png": "[encoded data removed]",
      "text/plain": [
       "<Figure size 1200x600 with 2 Axes>"
      ]
     },
     "metadata": {},
     "output_type": "display_data"
    }
   ],
   "source": [
    "df = pd.DataFrame(data, columns = ['N', 'M', 'avg_R'])\n",
    "#df.to_csv('results_optimization.csv')\n",
    "\n",
    "fig, (ax1, ax2) = plt.subplots(1, 2, figsize=(12, 6))\n",
    "# plot as a function of M for avg_U and as a function of N fro avg_V\n",
    "\n",
    "for n in df['N'].unique():\n",
    "    df_m = df[df['N'] == n]\n",
    "    ax1.plot(df_m['M'], df_m['avg_R'], marker='o', label=f'N={n}')\n",
    "\n",
    "for m in df['M'].unique():\n",
    "    df_n = df[df['M'] == m]\n",
    "    ax2.plot(df_n['N'], df_n['avg_R'], marker='o', label=f'M={m}')\n",
    "\n",
    "ax1.set_xlabel('M')\n",
    "ax1.set_ylabel('avg_R')\n",
    "ax1.set_title('Variation of avg_R for varying N and M')\n",
    "ax1.legend()\n",
    "\n",
    "ax2.set_xlabel('N')\n",
    "ax2.set_ylabel('avg_R')\n",
    "ax2.set_title('Variation of avg_R for varying N and M')\n",
    "ax2.legend()\n",
    "\n",
    "\n",
    "plt.show()"
   ]
  },
  {
   "cell_type": "code",
   "execution_count": 233,
   "metadata": {},
   "outputs": [],
   "source": [
    "fig.savefig('avg_PMF_R.png')"
   ]
  },
  {
   "cell_type": "code",
   "execution_count": null,
   "metadata": {},
   "outputs": [],
   "source": [
    "df = pd.DataFrame(data, columns = ['N', 'M', 'avg_U', 'avg_V'])\n",
    "#df.to_csv('results_optimization.csv')\n",
    "\n",
    "fig, (ax1, ax2) = plt.subplots(1, 2, figsize=(12, 6))\n",
    "# plot as a function of M for avg_U and as a function of N fro avg_V\n",
    "\n",
    "for n in df['N'].unique():\n",
    "    df_m = df[df['N'] == n]\n",
    "    ax1.plot(df_m['M'], df_m['avg_U'], marker='o', label=f'N={n}')\n",
    "for m in df['M'].unique():\n",
    "    df_n = df[df['M'] == m]\n",
    "    ax2.plot(df_n['N'], df_n['avg_V'], marker='o', label=f'M={m}')\n",
    "\n",
    "ax1.set_xlabel('M')\n",
    "ax1.set_ylabel('avg_U')\n",
    "ax1.set_title('Variation of avg_U for varying N and M')\n",
    "ax1.legend()\n",
    "\n",
    "ax2.set_xlabel('N')\n",
    "ax2.set_ylabel('avg_V')\n",
    "ax2.set_title('Variation of avg_V for varying N and M')\n",
    "ax2.legend()\n",
    "\n",
    "plt.show()"
   ]
  },
  {
   "cell_type": "code",
   "execution_count": 52,
   "metadata": {},
   "outputs": [
    {
     "name": "stdout",
     "output_type": "stream",
     "text": [
      "1.171911073692837\n"
     ]
    }
   ],
   "source": [
    "fig.savefig('avg_PMF_U_V.png')"
   ]
  },
  {
   "cell_type": "code",
   "execution_count": null,
   "metadata": {},
   "outputs": [],
   "source": []
  },
  {
   "cell_type": "markdown",
   "metadata": {
    "colab_type": "text",
    "id": "TKzp4hukECUE"
   },
   "source": [
    "Now let's take a look at some graphs"
   ]
  },
  {
   "cell_type": "code",
   "execution_count": 19,
   "metadata": {
    "colab": {
     "base_uri": "https://localhost:8080/"
    },
    "colab_type": "code",
    "id": "yRr_wko07e37",
    "outputId": "46313b0b-5d4a-4448-8638-12ef81baf4c2"
   },
   "outputs": [
    {
     "data": {
      "image/png": "[encoded data removed]",
      "text/plain": [
       "<Figure size 2000x1000 with 2 Axes>"
      ]
     },
     "metadata": {},
     "output_type": "display_data"
    },
    {
     "name": "stdout",
     "output_type": "stream",
     "text": [
      "[3.424057047811363, 1.8653639819358674, 1.8733847318440469, 1.8741502565702288, 1.8743030514689587, 1.8743507621417954, 1.8743692960378406, 1.8743770771520538, 1.8743804264216484, 1.8743818798824974, 1.8743825124089604, 1.8743827879572854, 1.8743829080411996, 1.874382960381665, 1.8743829831964598, 1.8743829931414935]\n"
     ]
    }
   ],
   "source": [
    "_, (ax1, ax2) = plt.subplots(1, 2, figsize=(20, 10))\n",
    "plt.title('Training results')\n",
    "ax1.plot(np.arange(len(log_ps)), log_ps, label='MAP')\n",
    "ax1.legend()\n",
    "\n",
    "ax2.plot(np.arange(len(rmse_train)), rmse_train, label='RMSE train')\n",
    "ax2.plot(np.arange(len(rmse_test)), rmse_test, label='RMSE test')\n",
    "ax2.legend()\n",
    "plt.show()\n",
    "print(rmse_train)"
   ]
  },
  {
   "cell_type": "markdown",
   "metadata": {
    "colab_type": "text",
    "id": "-nhrZDHvPx1-"
   },
   "source": [
    "Let's now evaluate our model on both the training and testing sets."
   ]
  },
  {
   "cell_type": "code",
   "execution_count": 20,
   "metadata": {
    "colab": {
     "base_uri": "https://localhost:8080/",
     "height": 52
    },
    "colab_type": "code",
    "id": "L9mKLM7BkuVz",
    "outputId": "7884e7ea-0349-4824-cd80-7c4add36f76c"
   },
   "outputs": [
    {
     "name": "stdout",
     "output_type": "stream",
     "text": [
      "RMSE of training set: 1.8743829931414935\n",
      "RMSE of testing set: 1.8995113795164769\n"
     ]
    }
   ],
   "source": [
    "print('RMSE of training set:', evaluate(train_set))\n",
    "print('RMSE of testing set:', evaluate(test_set))"
   ]
  },
  {
   "cell_type": "markdown",
   "metadata": {
    "colab_type": "text",
    "id": "JEZtM1UiQUrA"
   },
   "source": [
    "Now we will pick a user from the database and look at his/her preferences."
   ]
  },
  {
   "cell_type": "code",
   "execution_count": 21,
   "metadata": {
    "colab": {
     "base_uri": "https://localhost:8080/"
    },
    "colab_type": "code",
    "id": "t-KBJYqbU--g",
    "outputId": "5a80faa9-26a8-42d1-ed08-0c75c83635ec"
   },
   "outputs": [
    {
     "ename": "NameError",
     "evalue": "name 'df_join' is not defined",
     "output_type": "error",
     "traceback": [
      "\u001b[0;31m---------------------------------------------------------------------------\u001b[0m",
      "\u001b[0;31mNameError\u001b[0m                                 Traceback (most recent call last)",
      "\u001b[0;32m/var/folders/y6/l6vpn95x35g0swp7xwnqndtc0000gn/T/ipykernel_38481/2337405749.py\u001b[0m in \u001b[0;36m<module>\u001b[0;34m\u001b[0m\n\u001b[1;32m      1\u001b[0m \u001b[0muser_id\u001b[0m \u001b[0;34m=\u001b[0m \u001b[0;36m45\u001b[0m\u001b[0;34m\u001b[0m\u001b[0;34m\u001b[0m\u001b[0m\n\u001b[0;32m----> 2\u001b[0;31m \u001b[0mdf_join\u001b[0m\u001b[0;34m[\u001b[0m\u001b[0mdf_join\u001b[0m\u001b[0;34m[\u001b[0m\u001b[0;34m'userId'\u001b[0m\u001b[0;34m]\u001b[0m \u001b[0;34m==\u001b[0m \u001b[0muser_id\u001b[0m\u001b[0;34m]\u001b[0m\u001b[0;34m.\u001b[0m\u001b[0msort_values\u001b[0m\u001b[0;34m(\u001b[0m\u001b[0mby\u001b[0m\u001b[0;34m=\u001b[0m\u001b[0;34m[\u001b[0m\u001b[0;34m'rating'\u001b[0m\u001b[0;34m]\u001b[0m\u001b[0;34m,\u001b[0m \u001b[0mascending\u001b[0m\u001b[0;34m=\u001b[0m\u001b[0;32mFalse\u001b[0m\u001b[0;34m)\u001b[0m\u001b[0;34m.\u001b[0m\u001b[0mhead\u001b[0m\u001b[0;34m(\u001b[0m\u001b[0;36m10\u001b[0m\u001b[0;34m)\u001b[0m\u001b[0;34m\u001b[0m\u001b[0;34m\u001b[0m\u001b[0m\n\u001b[0m",
      "\u001b[0;31mNameError\u001b[0m: name 'df_join' is not defined"
     ]
    }
   ],
   "source": [
    "user_id = 45\n",
    "df_join[df_join['userId'] == user_id].sort_values(by=['rating'], ascending=False).head(10)"
   ]
  },
  {
   "cell_type": "markdown",
   "metadata": {
    "colab_type": "text",
    "id": "lfsqp9f3QcXi"
   },
   "source": [
    "Let's look at the least preferred items."
   ]
  },
  {
   "cell_type": "code",
   "execution_count": null,
   "metadata": {
    "colab": {
     "base_uri": "https://localhost:8080/"
    },
    "colab_type": "code",
    "id": "bkHatTbO19dL",
    "outputId": "09a3fda4-1456-460c-d827-074f81b8094e"
   },
   "outputs": [],
   "source": [
    "df_join[df_join['userId'] == user_id].sort_values(by=['rating']).head(10)"
   ]
  },
  {
   "cell_type": "markdown",
   "metadata": {
    "colab_type": "text",
    "id": "iGu6-AnIQgyy"
   },
   "source": [
    "Let's now look at the most likely preferences of the selected user."
   ]
  },
  {
   "cell_type": "code",
   "execution_count": null,
   "metadata": {
    "colab": {
     "base_uri": "https://localhost:8080/"
    },
    "colab_type": "code",
    "id": "EX_poCW7WcZO",
    "outputId": "d8e8cd67-3b00-4836-8a00-d87b349070a9"
   },
   "outputs": [],
   "source": [
    "predictions = np.zeros((n_movies, 1))\n",
    "movie_to_column_items = np.array(list(movie_to_column.items()))\n",
    "df_result = pd.DataFrame(columns=['UserID', 'MovieID', 'Movie', 'Genres', 'Prediction'])\n",
    "\n",
    "for i, movie in enumerate(movie_to_column_items):\n",
    "    predictions[i] = predict(user_id, movie[0])\n",
    "    \n",
    "indices = np.argsort(-predictions, axis=0)\n",
    "\n",
    "for j in range(10):\n",
    "    movie_id = int(movie_to_column_items[np.where(movie_to_column_items[:, 1] == indices[j])][0][0])\n",
    "    df_row = pd.DataFrame({\n",
    "        'UserID': user_id,\n",
    "        'MovieID': movie_id,\n",
    "        'Movie': df_movies[df_movies['movieId'] == movie_id].iloc[0]['title'],\n",
    "        'Genres': df_movies[df_movies['movieId'] == movie_id].iloc[0]['genres'],\n",
    "        'Prediction': predictions[indices[j]][0][0]\n",
    "    }, index=[j])\n",
    "    df_result = df_result.append(df_row, sort=False)\n",
    "    \n",
    "df_result"
   ]
  },
  {
   "cell_type": "markdown",
   "metadata": {
    "colab_type": "text",
    "id": "S2xU-gjQQrwZ"
   },
   "source": [
    "Now the predictions for least preferred items."
   ]
  },
  {
   "cell_type": "code",
   "execution_count": null,
   "metadata": {
    "colab": {
     "base_uri": "https://localhost:8080/"
    },
    "colab_type": "code",
    "id": "d2nL5rsz2dR8",
    "outputId": "3924eb3e-d164-48c7-9738-f2cff38bd4c1"
   },
   "outputs": [],
   "source": [
    "df_result = pd.DataFrame(columns=['UserID', 'MovieID', 'Movie', 'Genres', 'Prediction'])\n",
    "indices = np.argsort(predictions, axis=0)\n",
    "\n",
    "for j in range(10):\n",
    "    movie_id = int(movie_to_column_items[np.where(movie_to_column_items[:, 1] == indices[j])][0][0])\n",
    "    df_row = pd.DataFrame({\n",
    "        'UserID': user_id,\n",
    "        'MovieID': movie_id,\n",
    "        'Movie': df_movies[df_movies['movieId'] == movie_id].iloc[0]['title'],\n",
    "        'Genres': df_movies[df_movies['movieId'] == movie_id].iloc[0]['genres'],\n",
    "        'Prediction': predictions[indices[j]][0][0]\n",
    "    }, index=[j])\n",
    "    df_result = df_result.append(df_row, sort=False)\n",
    "    \n",
    "df_result"
   ]
  },
  {
   "cell_type": "markdown",
   "metadata": {
    "colab_type": "text",
    "id": "ORbaz1CIOWIJ"
   },
   "source": [
    "I hope you enjoyed this exercise. Something you can also try on your own is to implement gradient descent instead of MAP-estimation like I did here. Let me know about any comments you may have."
   ]
  }
 ],
 "metadata": {
  "colab": {
   "collapsed_sections": [],
   "name": "PMF_Recommender_Systems.ipynb",
   "provenance": [],
   "toc_visible": true
  },
  "kernelspec": {
   "display_name": "adaexam",
   "language": "python",
   "name": "adaexam"
  },
  "language_info": {
   "codemirror_mode": {
    "name": "ipython",
    "version": 3
   },
   "file_extension": ".py",
   "mimetype": "text/x-python",
   "name": "python",
   "nbconvert_exporter": "python",
   "pygments_lexer": "ipython3",
   "version": "3.9.13"
  }
 },
 "nbformat": 4,
 "nbformat_minor": 1
}
